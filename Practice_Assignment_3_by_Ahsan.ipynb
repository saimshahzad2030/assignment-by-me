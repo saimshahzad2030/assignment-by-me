{
 "cells": [
  {
   "cell_type": "markdown",
   "metadata": {},
   "source": [
    "# Q1:"
   ]
  },
  {
   "cell_type": "markdown",
   "metadata": {},
   "source": [
    "Think of at least three kinds of your favorite pizza. Store these pizza names in a list, and then use a for loop to print the name of each pizza."
   ]
  },
  {
   "cell_type": "code",
   "execution_count": 2,
   "metadata": {},
   "outputs": [
    {
     "name": "stdout",
     "output_type": "stream",
     "text": [
      "Fajita Sicilian\n",
      "Super Supreme\n",
      "Cheese Lover\n"
     ]
    }
   ],
   "source": [
    "pizzas=[\"fajita sicilian\",\"super supreme\",\"cheese lover\"]\n",
    "for pizza in pizzas:\n",
    "    print(pizza.title())\n"
   ]
  },
  {
   "cell_type": "code",
   "execution_count": null,
   "metadata": {},
   "outputs": [],
   "source": []
  },
  {
   "cell_type": "code",
   "execution_count": null,
   "metadata": {},
   "outputs": [],
   "source": []
  },
  {
   "cell_type": "markdown",
   "metadata": {},
   "source": [
    "# Q2"
   ]
  },
  {
   "cell_type": "markdown",
   "metadata": {},
   "source": [
    "Start with your last question , Modify your for loop to print a sentence using the name of the pizza\n",
    "instead of printing just the name of the pizza. For each pizza you should\n",
    "have one line of output containing a simple statement like I like pepperoni\n",
    "pizza."
   ]
  },
  {
   "cell_type": "code",
   "execution_count": 3,
   "metadata": {},
   "outputs": [
    {
     "name": "stdout",
     "output_type": "stream",
     "text": [
      "I like Fajita Sicilian most.\n",
      "I like Super Supreme most.\n",
      "I like Cheese Lover most.\n"
     ]
    }
   ],
   "source": [
    "pizzas=[\"fajita sicilian\",\"super supreme\",\"cheese lover\"]\n",
    "for pizza in pizzas:\n",
    "    print(\"I like \"+ pizza.title() + \" most.\")"
   ]
  },
  {
   "cell_type": "code",
   "execution_count": null,
   "metadata": {},
   "outputs": [],
   "source": []
  },
  {
   "cell_type": "code",
   "execution_count": null,
   "metadata": {},
   "outputs": [],
   "source": []
  },
  {
   "cell_type": "markdown",
   "metadata": {},
   "source": [
    "# Q3:"
   ]
  },
  {
   "cell_type": "markdown",
   "metadata": {},
   "source": [
    "Use a for loop to print the numbers from 1 to 20,\n",
    "inclusive."
   ]
  },
  {
   "cell_type": "code",
   "execution_count": 10,
   "metadata": {},
   "outputs": [
    {
     "name": "stdout",
     "output_type": "stream",
     "text": [
      "1 2 3 4 5 6 7 8 9 10 11 12 13 14 15 16 17 18 19 20 "
     ]
    }
   ],
   "source": [
    "for value in range (1,21):\n",
    "    print(value,end=\" \")"
   ]
  },
  {
   "cell_type": "code",
   "execution_count": null,
   "metadata": {},
   "outputs": [],
   "source": []
  },
  {
   "cell_type": "code",
   "execution_count": null,
   "metadata": {},
   "outputs": [],
   "source": []
  },
  {
   "cell_type": "markdown",
   "metadata": {},
   "source": [
    "# Q4:"
   ]
  },
  {
   "cell_type": "markdown",
   "metadata": {},
   "source": [
    "Use the third argument of the range() function to make a list\n",
    "of the odd numbers from 1 to 20. Use a for loop to print each number."
   ]
  },
  {
   "cell_type": "code",
   "execution_count": 11,
   "metadata": {},
   "outputs": [
    {
     "name": "stdout",
     "output_type": "stream",
     "text": [
      "[1, 3, 5, 7, 9, 11, 13, 15, 17, 19]\n"
     ]
    }
   ],
   "source": [
    "Odd_numbers= list(range (1,21,2))\n",
    "print(Odd_numbers)"
   ]
  },
  {
   "cell_type": "code",
   "execution_count": null,
   "metadata": {},
   "outputs": [],
   "source": []
  },
  {
   "cell_type": "code",
   "execution_count": null,
   "metadata": {},
   "outputs": [],
   "source": []
  },
  {
   "cell_type": "code",
   "execution_count": null,
   "metadata": {},
   "outputs": [],
   "source": []
  },
  {
   "cell_type": "markdown",
   "metadata": {},
   "source": [
    "# Q5:"
   ]
  },
  {
   "cell_type": "markdown",
   "metadata": {},
   "source": [
    "Make a list of the multiples of 3 from 3 to 30. Use a for loop to\n",
    "print the numbers in your list."
   ]
  },
  {
   "cell_type": "code",
   "execution_count": 18,
   "metadata": {},
   "outputs": [
    {
     "name": "stdout",
     "output_type": "stream",
     "text": [
      "[3, 6, 9, 12, 15, 18, 21, 24, 27, 30]\n"
     ]
    }
   ],
   "source": [
    "multiples = []\n",
    "for value in range (1,11):\n",
    "    multiple = value*3\n",
    "    multiples.append(multiple)\n",
    "print(multiples)"
   ]
  },
  {
   "cell_type": "code",
   "execution_count": null,
   "metadata": {},
   "outputs": [],
   "source": []
  },
  {
   "cell_type": "code",
   "execution_count": null,
   "metadata": {},
   "outputs": [],
   "source": []
  },
  {
   "cell_type": "code",
   "execution_count": null,
   "metadata": {},
   "outputs": [],
   "source": []
  },
  {
   "cell_type": "markdown",
   "metadata": {},
   "source": [
    "# Q6:"
   ]
  },
  {
   "cell_type": "markdown",
   "metadata": {},
   "source": [
    "A number raised to the third power is called a cube. For example,\n",
    "the cube of 2 is written as 2**3 in Python. Make a list of the first 10 cubes (that\n",
    "is, the cube of each integer from 1 through 10), and use a for loop to print out\n",
    "the value of each cube"
   ]
  },
  {
   "cell_type": "code",
   "execution_count": 20,
   "metadata": {},
   "outputs": [
    {
     "name": "stdout",
     "output_type": "stream",
     "text": [
      "[1, 8, 27, 64, 125, 216, 343, 512, 729, 1000]\n"
     ]
    }
   ],
   "source": [
    "squares = []\n",
    "for value in range (1,11):\n",
    "    square=value**3\n",
    "    squares.append(square)\n",
    "print(squares)"
   ]
  },
  {
   "cell_type": "code",
   "execution_count": null,
   "metadata": {},
   "outputs": [],
   "source": []
  },
  {
   "cell_type": "code",
   "execution_count": null,
   "metadata": {},
   "outputs": [],
   "source": []
  },
  {
   "cell_type": "code",
   "execution_count": null,
   "metadata": {},
   "outputs": [],
   "source": []
  },
  {
   "cell_type": "markdown",
   "metadata": {},
   "source": [
    "# Q7:"
   ]
  },
  {
   "cell_type": "markdown",
   "metadata": {},
   "source": [
    "###### Make a python program that conatains your nine favourite dishes in a list called foods.\n",
    "\n",
    "###### Print the message, The first three items in the list are:. \n",
    "###### Then use a slice to print the first three items from that program’s list.\n",
    "\n",
    "###### Print the message, Three items from the middle of the list are:\n",
    "###### Use a slice to print three items from the middle of the list.\n",
    "\n",
    "###### Print the message, The last three items in the list are:\n",
    "###### Use a slice to print the last three items in the list."
   ]
  },
  {
   "cell_type": "code",
   "execution_count": 69,
   "metadata": {},
   "outputs": [
    {
     "name": "stdout",
     "output_type": "stream",
     "text": [
      "The first three items in the list are:\n",
      "['Chicken Biryani', 'Pizza', 'Beef Pulao']\n",
      "\n",
      "Three items from the middle of the list are:\n",
      "['Chicken Chipotle', 'Chicken Tikka', 'Zinger Burger']\n",
      "\n",
      "The last three items in the list are:\n",
      "['Karahi', 'Nehari', 'Daal']\n"
     ]
    }
   ],
   "source": [
    "foods = [\"Chicken Biryani\",\"Pizza\",\"Beef Pulao\",\"Chicken Chipotle\",\"Chicken Tikka\",\"Zinger Burger\",\"Karahi\",\"Nehari\",\"Daal\"]\n",
    "print(\"The first three items in the list are:\")\n",
    "print(foods[0:3])\n",
    "print(\"\\nThree items from the middle of the list are:\")    \n",
    "print(foods[3:6])\n",
    "print(\"\\nThe last three items in the list are:\")    \n",
    "print(foods[6:10])\n"
   ]
  },
  {
   "cell_type": "code",
   "execution_count": null,
   "metadata": {},
   "outputs": [],
   "source": []
  },
  {
   "cell_type": "code",
   "execution_count": null,
   "metadata": {},
   "outputs": [],
   "source": []
  },
  {
   "cell_type": "code",
   "execution_count": null,
   "metadata": {},
   "outputs": [],
   "source": []
  },
  {
   "cell_type": "code",
   "execution_count": null,
   "metadata": {},
   "outputs": [],
   "source": []
  },
  {
   "cell_type": "code",
   "execution_count": null,
   "metadata": {},
   "outputs": [],
   "source": []
  },
  {
   "cell_type": "code",
   "execution_count": null,
   "metadata": {},
   "outputs": [],
   "source": []
  },
  {
   "cell_type": "markdown",
   "metadata": {},
   "source": [
    "# Q8:"
   ]
  },
  {
   "cell_type": "markdown",
   "metadata": {},
   "source": [
    "### Start with your program from your last Question8.\n",
    "###### Make a copy of the list of foods, and call it friend_foods.\n",
    "###### Then, do the following:\n",
    "######    Add a new dish to the original list.\n",
    "######    Add a different dish to the list friend_foodss.\n",
    "######    Prove that you have two separate lists. \n",
    "###### Print the message, My favorite pizzas are: and then use a for loop to print the first list. \n",
    "###### Print the message,\n",
    "###### My friend’s favorite foods are:, and then use a for loop to print the second list.\n",
    "    \n",
    "##### NOTE: Make sure each new dish is stored in the appropriate list."
   ]
  },
  {
   "cell_type": "code",
   "execution_count": 92,
   "metadata": {},
   "outputs": [
    {
     "name": "stdout",
     "output_type": "stream",
     "text": [
      "My favorite foods are: Chicken Biryani\n",
      "My favorite foods are: Pizza\n",
      "My favorite foods are: Beef Pulao\n",
      "My favorite foods are: Chicken Chipotle\n",
      "My favorite foods are: Chicken Tikka\n",
      "My favorite foods are: Zinger Burger\n",
      "My favorite foods are: Karahi\n",
      "My favorite foods are: Nehari\n",
      "My favorite foods are: Daal\n",
      "My favorite foods are: Club Sandwich\n",
      "\n",
      "\n",
      "My friend’s favorite foods are: Chicken Biryani\n",
      "My friend’s favorite foods are: Pizza\n",
      "My friend’s favorite foods are: Beef Pulao\n",
      "My friend’s favorite foods are: Chicken Chipotle\n",
      "My friend’s favorite foods are: Chicken Tikka\n",
      "My friend’s favorite foods are: Zinger Burger\n",
      "My friend’s favorite foods are: Karahi\n",
      "My friend’s favorite foods are: Nehari\n",
      "My friend’s favorite foods are: Daal\n",
      "My friend’s favorite foods are: Handi\n"
     ]
    }
   ],
   "source": [
    "foods = [\"Chicken Biryani\",\"Pizza\",\"Beef Pulao\",\"Chicken Chipotle\",\"Chicken Tikka\",\"Zinger Burger\",\"Karahi\",\"Nehari\",\"Daal\"]\n",
    "friend_foods=foods[:]\n",
    "foods.append(\"Club Sandwich\")\n",
    "friend_foods.append(\"Handi\")\n",
    "\n",
    "for food in foods:\n",
    "    print(f\"My favorite foods are: {food}\")\n",
    "print(\"\\n\")\n",
    "for food in friend_foods:\n",
    "    print(f\"My friend’s favorite foods are: {food}\")"
   ]
  },
  {
   "cell_type": "code",
   "execution_count": null,
   "metadata": {},
   "outputs": [],
   "source": []
  },
  {
   "cell_type": "code",
   "execution_count": null,
   "metadata": {},
   "outputs": [],
   "source": []
  },
  {
   "cell_type": "code",
   "execution_count": null,
   "metadata": {},
   "outputs": [],
   "source": []
  },
  {
   "cell_type": "code",
   "execution_count": null,
   "metadata": {},
   "outputs": [],
   "source": []
  },
  {
   "cell_type": "code",
   "execution_count": null,
   "metadata": {},
   "outputs": [],
   "source": [
    " "
   ]
  },
  {
   "cell_type": "code",
   "execution_count": null,
   "metadata": {},
   "outputs": [],
   "source": []
  },
  {
   "cell_type": "markdown",
   "metadata": {},
   "source": [
    "# Q9:"
   ]
  },
  {
   "cell_type": "markdown",
   "metadata": {},
   "source": [
    "Take a user input from console line.Store it in a variable called Alien_color.\n",
    "\n",
    "If the alien’s color is red, print a statement that the player just earned 5 points for shooting the alien.\n",
    "\n",
    "If the alien’s color isn’t green, print a statement that the player just earned 10 points.\n",
    "\n",
    "If the alien's color isn't red or green , print a statment :, Alien is no more....."
   ]
  },
  {
   "cell_type": "code",
   "execution_count": 2,
   "metadata": {},
   "outputs": [
    {
     "name": "stdout",
     "output_type": "stream",
     "text": [
      "Enter Alien Color: blue\n",
      "Alien is no more.....\n"
     ]
    }
   ],
   "source": [
    "Alien_color=input(\"Enter Alien Color: \").title()\n",
    "if Alien_color==\"Red\":\n",
    "    print(\"the player just earned 5 points for shooting the red alien.\")\n",
    "elif Alien_color==\"Green\":\n",
    "    print(\"the player just earned 10 points for shooting the green alien.\")\n",
    "else:\n",
    "    print(\"Alien is no more.....\")"
   ]
  },
  {
   "cell_type": "code",
   "execution_count": null,
   "metadata": {},
   "outputs": [],
   "source": []
  },
  {
   "cell_type": "code",
   "execution_count": null,
   "metadata": {},
   "outputs": [],
   "source": []
  },
  {
   "cell_type": "code",
   "execution_count": null,
   "metadata": {},
   "outputs": [],
   "source": []
  },
  {
   "cell_type": "markdown",
   "metadata": {},
   "source": [
    "# Q10:"
   ]
  },
  {
   "cell_type": "markdown",
   "metadata": {},
   "source": [
    "Write an if-elif-else chain that determines a person’s\n",
    "stage of life. Set a value for the variable age, and then:\n",
    "    \n",
    "•\t If the person is less than 2 years old, print a message that the person is a baby.\n",
    "\n",
    "•\t If the person is at least 2 years old but less than 4, print a message that the person is a toddler.\n",
    "\n",
    "•\t If the person is at least 4 years old but less than 13, print a message that the person is a kid.\n",
    "\n",
    "•\t If the person is at least 13 years old but less than 20, print a message that the person is a teenager.\n",
    "\n",
    "•\t If the person is at least 20 years old but less than 65, print a message that the person is an adult.\n",
    "\n",
    "•\t If the person is age 65 or older, print a message that the person is an elder."
   ]
  },
  {
   "cell_type": "code",
   "execution_count": 15,
   "metadata": {},
   "outputs": [
    {
     "name": "stdout",
     "output_type": "stream",
     "text": [
      "Enter the person's age: 100\n",
      "the person is an elder\n"
     ]
    }
   ],
   "source": [
    "person = int(input(\"Enter the person's age: \"))\n",
    "\n",
    "if person ==0:\n",
    "    print(\"Person doesn't exist\")\n",
    "elif person >0 and person < 2:\n",
    "    print(\"the person is a baby\")\n",
    "elif person >=2 and person < 4:\n",
    "    print(\"the person is a toddler\")\n",
    "elif person >= 4 and person < 13:\n",
    "    print(\"the person is a kid\")\n",
    "elif person >= 13 and person < 20:\n",
    "    print(\"the person is a teenager\")\n",
    "elif person >= 20 and person < 65:\n",
    "    print(\"the person is a adult\")\n",
    "else:\n",
    "    print(\"the person is an elder\")"
   ]
  },
  {
   "cell_type": "code",
   "execution_count": null,
   "metadata": {},
   "outputs": [],
   "source": []
  },
  {
   "cell_type": "code",
   "execution_count": null,
   "metadata": {},
   "outputs": [],
   "source": []
  },
  {
   "cell_type": "code",
   "execution_count": null,
   "metadata": {},
   "outputs": [],
   "source": []
  },
  {
   "cell_type": "code",
   "execution_count": null,
   "metadata": {},
   "outputs": [],
   "source": []
  },
  {
   "cell_type": "code",
   "execution_count": null,
   "metadata": {},
   "outputs": [],
   "source": []
  },
  {
   "cell_type": "markdown",
   "metadata": {},
   "source": [
    "# Q11:"
   ]
  },
  {
   "cell_type": "raw",
   "metadata": {},
   "source": [
    "Do the following to create a program that simulates how websites ensure that everyone has a unique username.\n",
    "\n",
    "•\t Make a list of five or more usernames called current_users.\n",
    "\n",
    "•\t Make another list of five usernames called new_users. \n",
    "Make sure one or two of the new usernames are also in the current_users list.\n",
    "\n",
    "•\t Loop through the new_users list to see if each new username has already been used. \n",
    "If it has, print a message that the person will need to enter a new username. \n",
    "If a username has not been used, print a message saying that the username is available.\n",
    "\n",
    "•\t Make sure your comparison is case insensitive. If 'John' has been used, 'JOHN' should not be accepted."
   ]
  },
  {
   "cell_type": "code",
   "execution_count": 34,
   "metadata": {},
   "outputs": [
    {
     "name": "stdout",
     "output_type": "stream",
     "text": [
      "haSHIR: this username is not available, please enter a new username.\n",
      "Zubair: this username is available.\n",
      "Saad: this username is available.\n",
      "AHSAN: this username is not available, please enter a new username.\n",
      "Ahmed: this username is available.\n",
      "Shuja: this username is available.\n",
      "rohan: this username is not available, please enter a new username.\n"
     ]
    }
   ],
   "source": [
    "current_users = [\"Ali\",\"Ahsan\",\"Faraz\",\"Hashir\",\"Rohan\",\"Ahad\",\"Talib\",\"Ammar\"]\n",
    "new_users= [\"haSHIR\",\"Zubair\",\"Saad\",\"AHSAN\",\"Ahmed\",\"Shuja\",\"rohan\"]\n",
    "for username in new_users:\n",
    "    if username.title() in current_users:\n",
    "        print(f\"{username}: this username is not available, please enter a new username.\")\n",
    "    else:\n",
    "        print(f\"{username}: this username is available.\")\n",
    "    "
   ]
  },
  {
   "cell_type": "code",
   "execution_count": null,
   "metadata": {},
   "outputs": [],
   "source": []
  },
  {
   "cell_type": "code",
   "execution_count": null,
   "metadata": {},
   "outputs": [],
   "source": []
  },
  {
   "cell_type": "code",
   "execution_count": null,
   "metadata": {},
   "outputs": [],
   "source": []
  },
  {
   "cell_type": "markdown",
   "metadata": {},
   "source": [
    "# Q12:"
   ]
  },
  {
   "cell_type": "markdown",
   "metadata": {},
   "source": [
    "Use a dictionary to store information about a person you know.\n",
    "Store their first name, last name, age, and the city in which they live. \n",
    "You should have keys such as first_name, last_name, age, and city. \n",
    "Print each piece of information stored in your dictionary"
   ]
  },
  {
   "cell_type": "code",
   "execution_count": 42,
   "metadata": {},
   "outputs": [
    {
     "name": "stdout",
     "output_type": "stream",
     "text": [
      "My name is Muhammad Ahsan, i am 22years old. I live in Karachi\n"
     ]
    }
   ],
   "source": [
    "person={\"first_name\":\"Muhammad\",\"last_name\":\"Ahsan\",\"age\":22,\"city\":\"Karachi\"}\n",
    "\n",
    "print(\"My name is \"+ str(person[\"first_name\"] )+\" \"+ str(person[\"last_name\"])+\", i am \" +str(person[\"age\"])+ (\"years old. I live in \")+str(person[\"city\"]))"
   ]
  },
  {
   "cell_type": "code",
   "execution_count": null,
   "metadata": {},
   "outputs": [],
   "source": []
  },
  {
   "cell_type": "code",
   "execution_count": null,
   "metadata": {},
   "outputs": [],
   "source": []
  },
  {
   "cell_type": "code",
   "execution_count": null,
   "metadata": {},
   "outputs": [],
   "source": []
  },
  {
   "cell_type": "markdown",
   "metadata": {},
   "source": [
    "# Q13:"
   ]
  },
  {
   "cell_type": "markdown",
   "metadata": {},
   "source": [
    "Starts with your last question 12 , loop through the dictionary’s keys and values.\n",
    "When you’re sure that your loop works, add five more Python terms to your\n",
    "dictionary . When you run your program again, these new words and meanings\n",
    "should automatically be included in the output."
   ]
  },
  {
   "cell_type": "code",
   "execution_count": 47,
   "metadata": {},
   "outputs": [
    {
     "name": "stdout",
     "output_type": "stream",
     "text": [
      "first_name: Muhammad\n",
      "last_name: Ahsan\n",
      "age: 22\n",
      "city: Karachi\n",
      "abs: Return the absolute value of a number.\n",
      "argument: Extra information which the computer uses to perform commands.\n",
      "class: A template for creating user-defined objects.\n",
      "assignment: Giving a value to a variable.\n",
      "break: Used to exit a for loop or a while loop.\n"
     ]
    }
   ],
   "source": [
    "person={\"first_name\":\"Muhammad\",\"last_name\":\"Ahsan\",\"age\":22,\"city\":\"Karachi\"}\n",
    "\n",
    "person[\"abs\"]=\"Return the absolute value of a number.\"\n",
    "person[\"argument\"]=\"Extra information which the computer uses to perform commands.\"\n",
    "person[\"class\"]=\"A template for creating user-defined objects.\"\n",
    "person[\"assignment\"]=\"Giving a value to a variable.\"\n",
    "person[\"break\"]=\"Used to exit a for loop or a while loop.\"\n",
    "\n",
    "for keys,values in person.items():\n",
    "    print(f\"{keys}: {values}\")"
   ]
  },
  {
   "cell_type": "code",
   "execution_count": null,
   "metadata": {},
   "outputs": [],
   "source": []
  },
  {
   "cell_type": "code",
   "execution_count": null,
   "metadata": {},
   "outputs": [],
   "source": []
  },
  {
   "cell_type": "code",
   "execution_count": null,
   "metadata": {},
   "outputs": [],
   "source": []
  },
  {
   "cell_type": "code",
   "execution_count": null,
   "metadata": {},
   "outputs": [],
   "source": []
  },
  {
   "cell_type": "markdown",
   "metadata": {},
   "source": [
    "# Q14:"
   ]
  },
  {
   "cell_type": "markdown",
   "metadata": {},
   "source": [
    "Make a dictionary containing three major rivers and the country\n",
    "each river runs through. One key-value pair might be 'nile': 'egypt'.\n",
    "    \n",
    "    \n",
    "•\t Use a loop to print a sentence about each river, such as The Nile runs\n",
    "through Egypt.\n",
    "\n",
    "NOTE: use upper case through keys and values."
   ]
  },
  {
   "cell_type": "code",
   "execution_count": 61,
   "metadata": {},
   "outputs": [
    {
     "name": "stdout",
     "output_type": "stream",
     "text": [
      "The AMSTEL runs through NETHERLANDS\n",
      "The NILE runs through EGYPT\n",
      "The CHAO PHRAYA runs through THAILAND\n",
      "The RIVER INDUS runs through PAKISTAN\n",
      "The GANGA runs through INDIA\n"
     ]
    }
   ],
   "source": [
    "rivers = {\"Amstel\":\"Netherlands\",\"Nile\":\"Egypt\",\"Chao Phraya\":\"Thailand\",\"River Indus\":\"Pakistan\",\"Ganga\":\"India\"}\n",
    "for key,value in rivers.items():\n",
    "    print(f\"The {key.upper()} runs through {value.upper()}\")"
   ]
  },
  {
   "cell_type": "code",
   "execution_count": null,
   "metadata": {},
   "outputs": [],
   "source": []
  },
  {
   "cell_type": "code",
   "execution_count": null,
   "metadata": {},
   "outputs": [],
   "source": []
  },
  {
   "cell_type": "markdown",
   "metadata": {},
   "source": [
    "# Q15:"
   ]
  },
  {
   "cell_type": "markdown",
   "metadata": {},
   "source": [
    "Make several dictionaries, where the name of each dictionary is the\n",
    "name of a pet. In each dictionary, include the kind of animal and the owner’s\n",
    "name. Store these dictionaries in a list called pets. Next, loop through your list\n",
    "and as you do print everything you know about each pet."
   ]
  },
  {
   "cell_type": "code",
   "execution_count": 64,
   "metadata": {},
   "outputs": [
    {
     "name": "stdout",
     "output_type": "stream",
     "text": [
      "\n",
      "pet_animal:cat\n",
      "\n",
      "owner_name:Malaika\n",
      "\n",
      "pet_animal:dog\n",
      "\n",
      "owner_name:Ali\n",
      "\n",
      "pet_animal:cat\n",
      "\n",
      "owner_name:Muniba\n",
      "\n",
      "pet_animal:goat\n",
      "\n",
      "owner_name:Uzair\n",
      "\n",
      "pet_animal:sheep\n",
      "\n",
      "owner_name:Uzair\n",
      "\n",
      "pet_animal:dog\n",
      "\n",
      "owner_name:Rohan\n"
     ]
    }
   ],
   "source": [
    "pet=[]\n",
    "Nibbi={\"pet_animal\":\"cat\",\"owner_name\":\"Malaika\"}\n",
    "pet.append(Nibbi)\n",
    "Tommy={\"pet_animal\":\"dog\",\"owner_name\":\"Ali\"}\n",
    "pet.append(Tommy)\n",
    "bella={\"pet_animal\":\"cat\",\"owner_name\":\"Muniba\"}\n",
    "pet.append(bella)\n",
    "sonu={\"pet_animal\":\"goat\",\"owner_name\":\"Uzair\"}\n",
    "pet.append(sonu)\n",
    "dumba={\"pet_animal\":\"sheep\",\"owner_name\":\"Uzair\"}\n",
    "pet.append(dumba)\n",
    "pitbull={\"pet_animal\":\"dog\",\"owner_name\":\"Rohan\"}\n",
    "pet.append(pitbull)\n",
    "for animals in pet:\n",
    "    for key,value in animals.items():\n",
    "        print(f\"\\n{key}:{value}\")"
   ]
  },
  {
   "cell_type": "code",
   "execution_count": null,
   "metadata": {},
   "outputs": [],
   "source": []
  }
 ],
 "metadata": {
  "kernelspec": {
   "display_name": "Python 3",
   "language": "python",
   "name": "python3"
  },
  "language_info": {
   "codemirror_mode": {
    "name": "ipython",
    "version": 3
   },
   "file_extension": ".py",
   "mimetype": "text/x-python",
   "name": "python",
   "nbconvert_exporter": "python",
   "pygments_lexer": "ipython3",
   "version": "3.7.3"
  }
 },
 "nbformat": 4,
 "nbformat_minor": 2
}
