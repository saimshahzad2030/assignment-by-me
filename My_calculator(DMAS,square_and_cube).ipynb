{
  "nbformat": 4,
  "nbformat_minor": 0,
  "metadata": {
    "colab": {
      "name": "My  calculator(DMAS,square and cube)",
      "version": "0.3.2",
      "provenance": [],
      "collapsed_sections": [],
      "include_colab_link": true
    },
    "kernelspec": {
      "name": "python3",
      "display_name": "Python 3"
    }
  },
  "cells": [
    {
      "cell_type": "markdown",
      "metadata": {
        "id": "view-in-github",
        "colab_type": "text"
      },
      "source": [
        "<a href=\"https://colab.research.google.com/github/saimshahzad2030/assignment-by-me/blob/master/My_calculator(DMAS%2Csquare_and_cube).ipynb\" target=\"_parent\"><img src=\"https://colab.research.google.com/assets/colab-badge.svg\" alt=\"Open In Colab\"/></a>"
      ]
    },
    {
      "cell_type": "markdown",
      "metadata": {
        "id": "-NShft3wissw",
        "colab_type": "text"
      },
      "source": [
        "simple **calculations**"
      ]
    },
    {
      "cell_type": "code",
      "metadata": {
        "id": "H86AigV8r3TI",
        "colab_type": "code",
        "colab": {
          "base_uri": "https://localhost:8080/",
          "height": 201
        },
        "outputId": "be28627e-2c9a-43b6-910c-cb56c39da6d0"
      },
      "source": [
        "calculations=input(\"which type of calculation u want to perform?\\n1.addition\\n2.subtraction\\n3.multiplication\\n4.division\\n5.square\\n6.cube\\ncalculation name \")\n",
        "if calculations=='addition':\n",
        "  number_1=int(input(\"enter first number\"))\n",
        "  number_2=int(input(\"enter second number\"))\n",
        "  print(number_1+number_2)\n",
        "elif calculations=='subtraction':\n",
        "  number_1=int(input(\"enter first number\"))\n",
        "  number_2=int(input(\"enter second number\"))\n",
        "  sub_a=input(\"do u want to subtract first number from the second?\\nor\\nsecond from first\\nanswer should be A or B\\nA:first from second\\nB:second from first\")\n",
        "  if sub_a=='A':\n",
        "    print(number_1-number_2)\n",
        "  else :\n",
        "    print(number_2-number_1)\n",
        "elif calculations=='multiplication':\n",
        "  number_1=int(input(\"enter first number\"))\n",
        "  number_2=int(input(\"enter second number\"))\n",
        "  print(number_1*number_2)\n",
        "elif calculations=='division':\n",
        "  number_1=int(input(\"enter first number\"))\n",
        "  number_2=int(input(\"enter second number\"))\n",
        "  div_a=input(\"if you want to divide first number by the second enter:A\\nor if u want to divide second by first enter:B\")\n",
        "  if div_a=='A':\n",
        "    print(number_1/number_2)\n",
        "  else :\n",
        "    print(number_2/number_1)\n",
        "elif calculations=='square':\n",
        "  number=float(input(\"input number\"))\n",
        "  print(number*number)\n",
        "elif calculations=='cube':\n",
        "  number=float(input(\"input number\"))\n",
        "  print(number*number*number)\n",
        "else :\n",
        "  print('this calculator is not more complex')\n",
        "  "
      ],
      "execution_count": 36,
      "outputs": [
        {
          "output_type": "stream",
          "text": [
            "which type of calculation u want to perform?\n",
            "1.addition\n",
            "2.subtraction\n",
            "3.multiplication\n",
            "4.division\n",
            "5.square\n",
            "6.cube\n",
            "rcalculation name cube\n",
            "input number4\n",
            "64.0\n"
          ],
          "name": "stdout"
        }
      ]
    }
  ]
}