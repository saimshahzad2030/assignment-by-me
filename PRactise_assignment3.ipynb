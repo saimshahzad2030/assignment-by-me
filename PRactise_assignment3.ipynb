{
  "nbformat": 4,
  "nbformat_minor": 0,
  "metadata": {
    "colab": {
      "name": "PRactise_assignment3",
      "version": "0.3.2",
      "provenance": [],
      "include_colab_link": true
    },
    "kernelspec": {
      "name": "python3",
      "display_name": "Python 3"
    }
  },
  "cells": [
    {
      "cell_type": "markdown",
      "metadata": {
        "id": "view-in-github",
        "colab_type": "text"
      },
      "source": [
        "<a href=\"https://colab.research.google.com/github/saimshahzad2030/assignment-by-me/blob/master/PRactise_assignment3.ipynb\" target=\"_parent\"><img src=\"https://colab.research.google.com/assets/colab-badge.svg\" alt=\"Open In Colab\"/></a>"
      ]
    },
    {
      "cell_type": "markdown",
      "metadata": {
        "id": "-rtQXLpiPcCW",
        "colab_type": "text"
      },
      "source": [
        "# Q1:\n",
        "Think of at least three kinds of your favorite pizza. Store these pizza names in a list, and then use a for loop to print the name of each pizza."
      ]
    },
    {
      "cell_type": "code",
      "metadata": {
        "id": "uhzg5HRBeSCj",
        "colab_type": "code",
        "colab": {
          "base_uri": "https://localhost:8080/",
          "height": 68
        },
        "outputId": "0ee55748-cc40-43e1-b60c-e1f8f01b2817"
      },
      "source": [
        "pizzas=[\"fajita sicilian\",\"super supreme\",\"cheese lover\"]\n",
        "for pizza in pizzas:\n",
        "    print(pizza.title())"
      ],
      "execution_count": 2,
      "outputs": [
        {
          "output_type": "stream",
          "text": [
            "Fajita Sicilian\n",
            "Super Supreme\n",
            "Cheese Lover\n"
          ],
          "name": "stdout"
        }
      ]
    },
    {
      "cell_type": "markdown",
      "metadata": {
        "id": "noeJw0moPcJ9",
        "colab_type": "text"
      },
      "source": [
        "# Q2\n",
        "Start with your last question , Modify your for loop to print a sentence using the name of the pizza instead of printing just the name of the pizza. For each pizza you should have one line of output containing a simple statement like I like pepperoni pizza."
      ]
    },
    {
      "cell_type": "code",
      "metadata": {
        "id": "Wuj0OJ_seUOf",
        "colab_type": "code",
        "colab": {
          "base_uri": "https://localhost:8080/",
          "height": 68
        },
        "outputId": "a301925d-60d2-4de3-c994-437c9d2ca4dd"
      },
      "source": [
        "pizzas=[\"fajita sicilian\",\"super supreme\",\"cheese lover\"]\n",
        "for pizza in pizzas:\n",
        "    print(\"I like \"+ pizza.title() + \" most.\")"
      ],
      "execution_count": 3,
      "outputs": [
        {
          "output_type": "stream",
          "text": [
            "I like Fajita Sicilian most.\n",
            "I like Super Supreme most.\n",
            "I like Cheese Lover most.\n"
          ],
          "name": "stdout"
        }
      ]
    },
    {
      "cell_type": "markdown",
      "metadata": {
        "id": "Xg5KdiQ5PcM3",
        "colab_type": "text"
      },
      "source": [
        "# Q3:\n",
        "Use a for loop to print the numbers from 1 to 20, inclusive."
      ]
    },
    {
      "cell_type": "code",
      "metadata": {
        "id": "trMx4eyVeUv0",
        "colab_type": "code",
        "colab": {
          "base_uri": "https://localhost:8080/",
          "height": 34
        },
        "outputId": "456859d6-21b6-4173-f729-7c89dd7096ab"
      },
      "source": [
        "for value in range (1,21):\n",
        "    print(value,end=\" \")"
      ],
      "execution_count": 4,
      "outputs": [
        {
          "output_type": "stream",
          "text": [
            "1 2 3 4 5 6 7 8 9 10 11 12 13 14 15 16 17 18 19 20 "
          ],
          "name": "stdout"
        }
      ]
    },
    {
      "cell_type": "markdown",
      "metadata": {
        "id": "3W8PBQ29PcP0",
        "colab_type": "text"
      },
      "source": [
        "# Q4:\n",
        "Use the third argument of the range() function to make a list of the odd numbers from 1 to 20. Use a for loop to print each number."
      ]
    },
    {
      "cell_type": "code",
      "metadata": {
        "id": "REQ9jC7aeVP2",
        "colab_type": "code",
        "colab": {
          "base_uri": "https://localhost:8080/",
          "height": 34
        },
        "outputId": "c39acb94-7d14-4575-d7db-35c26aff9c60"
      },
      "source": [
        "Odd_numbers= list(range (1,21,2))\n",
        "print(Odd_numbers)"
      ],
      "execution_count": 5,
      "outputs": [
        {
          "output_type": "stream",
          "text": [
            "[1, 3, 5, 7, 9, 11, 13, 15, 17, 19]\n"
          ],
          "name": "stdout"
        }
      ]
    },
    {
      "cell_type": "markdown",
      "metadata": {
        "id": "02sQQ_FnPcSr",
        "colab_type": "text"
      },
      "source": [
        "# Q5:\n",
        "Make a list of the multiples of 3 from 3 to 30. Use a for loop to print the numbers in your list."
      ]
    },
    {
      "cell_type": "code",
      "metadata": {
        "id": "PM4i1ILleWCj",
        "colab_type": "code",
        "colab": {
          "base_uri": "https://localhost:8080/",
          "height": 34
        },
        "outputId": "4f601ef9-793a-4f42-9a52-0d3183f25a63"
      },
      "source": [
        "multiples = []\n",
        "for value in range (1,11):\n",
        "    multiple = value*3\n",
        "    multiples.append(multiple)\n",
        "print(multiples)"
      ],
      "execution_count": 6,
      "outputs": [
        {
          "output_type": "stream",
          "text": [
            "[3, 6, 9, 12, 15, 18, 21, 24, 27, 30]\n"
          ],
          "name": "stdout"
        }
      ]
    },
    {
      "cell_type": "markdown",
      "metadata": {
        "id": "cYw-b5A-PcVz",
        "colab_type": "text"
      },
      "source": [
        "# Q6:\n",
        "A number raised to the third power is called a cube. For example, the cube of 2 is written as 2**3 in Python. Make a list of the first 10 cubes (that is, the cube of each integer from 1 through 10), and use a for loop to print out the value of each cube\n",
        "\n",
        "\n"
      ]
    },
    {
      "cell_type": "code",
      "metadata": {
        "id": "w7Qh2k8TeWlj",
        "colab_type": "code",
        "colab": {
          "base_uri": "https://localhost:8080/",
          "height": 34
        },
        "outputId": "044154cd-b794-468c-fba4-ef3fd0cf720c"
      },
      "source": [
        "squares = []\n",
        "for value in range (1,11):\n",
        "    square=value**3\n",
        "    squares.append(square)\n",
        "print(squares)"
      ],
      "execution_count": 7,
      "outputs": [
        {
          "output_type": "stream",
          "text": [
            "[1, 8, 27, 64, 125, 216, 343, 512, 729, 1000]\n"
          ],
          "name": "stdout"
        }
      ]
    },
    {
      "cell_type": "markdown",
      "metadata": {
        "id": "r0K5Wo_yPcZG",
        "colab_type": "text"
      },
      "source": [
        "# Q7:\n",
        "Make a python program that conatains your nine favourite dishes in a list called foods.\n",
        "Print the message, The first three items in the list are:.\n",
        "Then use a slice to print the first three items from that program’s list.\n",
        "Print the message, Three items from the middle of the list are:\n",
        "Use a slice to print three items from the middle of the list.\n",
        "Print the message, The last three items in the list are:\n",
        "Use a slice to print the last three items in the list."
      ]
    },
    {
      "cell_type": "code",
      "metadata": {
        "id": "MJrXvfr8emqL",
        "colab_type": "code",
        "colab": {
          "base_uri": "https://localhost:8080/",
          "height": 153
        },
        "outputId": "107a896d-1ff3-49f1-bd07-ae4e6f874dfe"
      },
      "source": [
        "foods = [\"Chicken Biryani\",\"Pizza\",\"Beef Pulao\",\"Chicken Chipotle\",\"Chicken Tikka\",\"Zinger Burger\",\"Karahi\",\"Nehari\",\"Daal\"]\n",
        "print(\"The first three items in the list are:\")\n",
        "print(foods[0:3])\n",
        "print(\"\\nThree items from the middle of the list are:\")    \n",
        "print(foods[3:6])\n",
        "print(\"\\nThe last three items in the list are:\")    \n",
        "print(foods[6:10])"
      ],
      "execution_count": 8,
      "outputs": [
        {
          "output_type": "stream",
          "text": [
            "The first three items in the list are:\n",
            "['Chicken Biryani', 'Pizza', 'Beef Pulao']\n",
            "\n",
            "Three items from the middle of the list are:\n",
            "['Chicken Chipotle', 'Chicken Tikka', 'Zinger Burger']\n",
            "\n",
            "The last three items in the list are:\n",
            "['Karahi', 'Nehari', 'Daal']\n"
          ],
          "name": "stdout"
        }
      ]
    },
    {
      "cell_type": "markdown",
      "metadata": {
        "id": "V6xKS_zKPcbt",
        "colab_type": "text"
      },
      "source": [
        "# Q8:\n",
        "Start with your program from your last Question8.\n",
        "Make a copy of the list of foods, and call it friend_foods.\n",
        "Then, do the following:\n",
        "Add a new dish to the original list.\n",
        "Add a different dish to the list friend_foodss.\n",
        "Prove that you have two separate lists.\n",
        "Print the message, My favorite pizzas are: and then use a for loop to print the first list.\n",
        "Print the message,\n",
        "My friend’s favorite foods are:, and then use a for loop to print the second list.\n",
        "NOTE: Make sure each new dish is stored in the appropriate list."
      ]
    },
    {
      "cell_type": "code",
      "metadata": {
        "id": "jMnQYwbdenGy",
        "colab_type": "code",
        "colab": {
          "base_uri": "https://localhost:8080/",
          "height": 391
        },
        "outputId": "84f29970-f779-4b8b-be80-5a544d472042"
      },
      "source": [
        "foods = [\"Chicken Biryani\",\"Pizza\",\"Beef Pulao\",\"Chicken Chipotle\",\"Chicken Tikka\",\"Zinger Burger\",\"Karahi\",\"Nehari\",\"Daal\"]\n",
        "friend_foods=foods[:]\n",
        "foods.append(\"Club Sandwich\")\n",
        "friend_foods.append(\"Handi\")\n",
        "\n",
        "for food in foods:\n",
        "    print(f\"My favorite foods are: {food}\")\n",
        "print(\"\\n\")\n",
        "for food in friend_foods:\n",
        "    print(f\"My friend’s favorite foods are: {food}\")"
      ],
      "execution_count": 9,
      "outputs": [
        {
          "output_type": "stream",
          "text": [
            "My favorite foods are: Chicken Biryani\n",
            "My favorite foods are: Pizza\n",
            "My favorite foods are: Beef Pulao\n",
            "My favorite foods are: Chicken Chipotle\n",
            "My favorite foods are: Chicken Tikka\n",
            "My favorite foods are: Zinger Burger\n",
            "My favorite foods are: Karahi\n",
            "My favorite foods are: Nehari\n",
            "My favorite foods are: Daal\n",
            "My favorite foods are: Club Sandwich\n",
            "\n",
            "\n",
            "My friend’s favorite foods are: Chicken Biryani\n",
            "My friend’s favorite foods are: Pizza\n",
            "My friend’s favorite foods are: Beef Pulao\n",
            "My friend’s favorite foods are: Chicken Chipotle\n",
            "My friend’s favorite foods are: Chicken Tikka\n",
            "My friend’s favorite foods are: Zinger Burger\n",
            "My friend’s favorite foods are: Karahi\n",
            "My friend’s favorite foods are: Nehari\n",
            "My friend’s favorite foods are: Daal\n",
            "My friend’s favorite foods are: Handi\n"
          ],
          "name": "stdout"
        }
      ]
    },
    {
      "cell_type": "markdown",
      "metadata": {
        "id": "adXBDNQsPcer",
        "colab_type": "text"
      },
      "source": [
        "# Q9:\n",
        "Take a user input from console line.Store it in a variable called Alien_color.\n",
        "\n",
        "If the alien’s color is red, print a statement that the player just earned 5 points for shooting the alien.\n",
        "\n",
        "If the alien’s color isn’t green, print a statement that the player just earned 10 points.\n",
        "\n",
        "If the alien's color isn't red or green , print a statment :, Alien is no more....."
      ]
    },
    {
      "cell_type": "code",
      "metadata": {
        "id": "OUa5D9ARenep",
        "colab_type": "code",
        "colab": {
          "base_uri": "https://localhost:8080/",
          "height": 51
        },
        "outputId": "254bb0b4-0e12-45c8-fa7c-4225c86491cf"
      },
      "source": [
        "Alien_color=input(\"Enter Alien Color: \").title()\n",
        "if Alien_color==\"Red\":\n",
        "    print(\"the player just earned 5 points for shooting the red alien.\")\n",
        "elif Alien_color==\"Green\":\n",
        "    print(\"the player just earned 10 points for shooting the green alien.\")\n",
        "else:\n",
        "    print(\"Alien is no more.....\")"
      ],
      "execution_count": 10,
      "outputs": [
        {
          "output_type": "stream",
          "text": [
            "Enter Alien Color: blue\n",
            "Alien is no more.....\n"
          ],
          "name": "stdout"
        }
      ]
    },
    {
      "cell_type": "markdown",
      "metadata": {
        "id": "satssIstPchk",
        "colab_type": "text"
      },
      "source": [
        "# Q10:\n",
        "Write an if-elif-else chain that determines a person’s stage of life. Set a value for the variable age, and then:\n",
        "\n",
        "• If the person is less than 2 years old, print a message that the person is a baby.\n",
        "\n",
        "• If the person is at least 2 years old but less than 4, print a message that the person is a toddler.\n",
        "\n",
        "• If the person is at least 4 years old but less than 13, print a message that the person is a kid.\n",
        "\n",
        "• If the person is at least 13 years old but less than 20, print a message that the person is a teenager.\n",
        "\n",
        "• If the person is at least 20 years old but less than 65, print a message that the person is an adult.\n",
        "\n",
        "• If the person is age 65 or older, print a message that the person is an elder."
      ]
    },
    {
      "cell_type": "code",
      "metadata": {
        "id": "cKZIIuM7en_y",
        "colab_type": "code",
        "colab": {
          "base_uri": "https://localhost:8080/",
          "height": 51
        },
        "outputId": "1ac64938-621a-4768-d579-4b22cfca0ed1"
      },
      "source": [
        "person = int(input(\"Enter the person's age: \"))\n",
        "\n",
        "if person ==0:\n",
        "    print(\"Person doesn't exist\")\n",
        "elif person >0 and person < 2:\n",
        "    print(\"the person is a baby\")\n",
        "elif person >=2 and person < 4:\n",
        "    print(\"the person is a toddler\")\n",
        "elif person >= 4 and person < 13:\n",
        "    print(\"the person is a kid\")\n",
        "elif person >= 13 and person < 20:\n",
        "    print(\"the person is a teenager\")\n",
        "elif person >= 20 and person < 65:\n",
        "    print(\"the person is a adult\")\n",
        "else:\n",
        "    print(\"the person is an elder\")"
      ],
      "execution_count": 11,
      "outputs": [
        {
          "output_type": "stream",
          "text": [
            "Enter the person's age: 6\n",
            "the person is a kid\n"
          ],
          "name": "stdout"
        }
      ]
    },
    {
      "cell_type": "markdown",
      "metadata": {
        "id": "jxAHR8nWPckc",
        "colab_type": "text"
      },
      "source": [
        "# Q11:\n",
        "Do the following to create a program that simulates how websites ensure that everyone has a unique username.\n",
        "\n",
        "• Make a list of five or more usernames called current_users.\n",
        "\n",
        "• Make another list of five usernames called new_users. Make sure one or two of the new usernames are also in the current_users list.\n",
        "\n",
        "• Loop through the new_users list to see if each new username has already been used. If it has, print a message that the person will need to enter a new username. If a username has not been used, print a message saying that the username is available.\n",
        "\n",
        "• Make sure your comparison is case insensitive. If 'John' has been used, 'JOHN' should not be accepted."
      ]
    },
    {
      "cell_type": "code",
      "metadata": {
        "id": "4WAdmGr4eoiL",
        "colab_type": "code",
        "colab": {
          "base_uri": "https://localhost:8080/",
          "height": 136
        },
        "outputId": "7bf88165-396e-43d4-aac5-7b995d14c57a"
      },
      "source": [
        "current_users = [\"Ali\",\"Ahsan\",\"Faraz\",\"Hashir\",\"Rohan\",\"Ahad\",\"Talib\",\"Ammar\"]\n",
        "new_users= [\"haSHIR\",\"Zubair\",\"Saad\",\"AHSAN\",\"Ahmed\",\"Shuja\",\"rohan\"]\n",
        "for username in new_users:\n",
        "    if username.title() in current_users:\n",
        "        print(f\"{username}: this username is not available, please enter a new username.\")\n",
        "    else:\n",
        "        print(f\"{username}: this username is available.\")"
      ],
      "execution_count": 12,
      "outputs": [
        {
          "output_type": "stream",
          "text": [
            "haSHIR: this username is not available, please enter a new username.\n",
            "Zubair: this username is available.\n",
            "Saad: this username is available.\n",
            "AHSAN: this username is not available, please enter a new username.\n",
            "Ahmed: this username is available.\n",
            "Shuja: this username is available.\n",
            "rohan: this username is not available, please enter a new username.\n"
          ],
          "name": "stdout"
        }
      ]
    },
    {
      "cell_type": "markdown",
      "metadata": {
        "id": "fVnS4HmSPcnU",
        "colab_type": "text"
      },
      "source": [
        "# Q12:\n",
        "Use a dictionary to store information about a person you know. Store their first name, last name, age, and the city in which they live. You should have keys such as first_name, last_name, age, and city. Print each piece of information stored in your dictionary"
      ]
    },
    {
      "cell_type": "code",
      "metadata": {
        "id": "jl64BqZPepNj",
        "colab_type": "code",
        "colab": {
          "base_uri": "https://localhost:8080/",
          "height": 34
        },
        "outputId": "37b0c920-adc9-416c-a11b-e44731d7aa96"
      },
      "source": [
        "person={\"first_name\":\"Muhammad\",\"last_name\":\"Ahsan\",\"age\":22,\"city\":\"Karachi\"}\n",
        "\n",
        "print(\"My name is \"+ str(person[\"first_name\"] )+\" \"+ str(person[\"last_name\"])+\", i am \" +str(person[\"age\"])+ (\"years old. I live in \")+str(person[\"city\"]))"
      ],
      "execution_count": 13,
      "outputs": [
        {
          "output_type": "stream",
          "text": [
            "My name is Muhammad Ahsan, i am 22years old. I live in Karachi\n"
          ],
          "name": "stdout"
        }
      ]
    },
    {
      "cell_type": "markdown",
      "metadata": {
        "id": "tBj6pw4Gd_gx",
        "colab_type": "text"
      },
      "source": [
        "# Q13:\n",
        "Starts with your last question 12 , loop through the dictionary’s keys and values. When you’re sure that your loop works, add five more Python terms to your dictionary . When you run your program again, these new words and meanings should automatically be included in the output."
      ]
    },
    {
      "cell_type": "code",
      "metadata": {
        "id": "KDr-wMzyep1C",
        "colab_type": "code",
        "colab": {
          "base_uri": "https://localhost:8080/",
          "height": 170
        },
        "outputId": "69c1a905-7fb3-473a-898b-ce5826d66fd2"
      },
      "source": [
        "person={\"first_name\":\"Muhammad\",\"last_name\":\"Ahsan\",\"age\":22,\"city\":\"Karachi\"}\n",
        "\n",
        "person[\"abs\"]=\"Return the absolute value of a number.\"\n",
        "person[\"argument\"]=\"Extra information which the computer uses to perform commands.\"\n",
        "person[\"class\"]=\"A template for creating user-defined objects.\"\n",
        "person[\"assignment\"]=\"Giving a value to a variable.\"\n",
        "person[\"break\"]=\"Used to exit a for loop or a while loop.\"\n",
        "\n",
        "for keys,values in person.items():\n",
        "    print(f\"{keys}: {values}\")"
      ],
      "execution_count": 14,
      "outputs": [
        {
          "output_type": "stream",
          "text": [
            "first_name: Muhammad\n",
            "last_name: Ahsan\n",
            "age: 22\n",
            "city: Karachi\n",
            "abs: Return the absolute value of a number.\n",
            "argument: Extra information which the computer uses to perform commands.\n",
            "class: A template for creating user-defined objects.\n",
            "assignment: Giving a value to a variable.\n",
            "break: Used to exit a for loop or a while loop.\n"
          ],
          "name": "stdout"
        }
      ]
    },
    {
      "cell_type": "markdown",
      "metadata": {
        "id": "O2-4pZFKd_Gi",
        "colab_type": "text"
      },
      "source": [
        "# Q14:\n",
        "Make a dictionary containing three major rivers and the country each river runs through. One key-value pair might be 'nile': 'egypt'.\n",
        "\n",
        "• Use a loop to print a sentence about each river, such as The Nile runs through Egypt.\n",
        "\n",
        "NOTE: use upper case through keys and values."
      ]
    },
    {
      "cell_type": "code",
      "metadata": {
        "id": "Yp1_cbLkeqPt",
        "colab_type": "code",
        "colab": {
          "base_uri": "https://localhost:8080/",
          "height": 102
        },
        "outputId": "0a42f472-2f5e-4978-dbd9-d51e39e5b6e2"
      },
      "source": [
        "rivers = {\"Amstel\":\"Netherlands\",\"Nile\":\"Egypt\",\"Chao Phraya\":\"Thailand\",\"River Indus\":\"Pakistan\",\"Ganga\":\"India\"}\n",
        "for key,value in rivers.items():\n",
        "    print(f\"The {key.upper()} runs through {value.upper()}\")"
      ],
      "execution_count": 15,
      "outputs": [
        {
          "output_type": "stream",
          "text": [
            "The AMSTEL runs through NETHERLANDS\n",
            "The NILE runs through EGYPT\n",
            "The CHAO PHRAYA runs through THAILAND\n",
            "The RIVER INDUS runs through PAKISTAN\n",
            "The GANGA runs through INDIA\n"
          ],
          "name": "stdout"
        }
      ]
    },
    {
      "cell_type": "markdown",
      "metadata": {
        "id": "16W9ZWBMd-0j",
        "colab_type": "text"
      },
      "source": [
        "# Q15:\n",
        "Make several dictionaries, where the name of each dictionary is the name of a pet. In each dictionary, include the kind of animal and the owner’s name. Store these dictionaries in a list called pets. Next, loop through your list and as you do print everything you know about each pet."
      ]
    },
    {
      "cell_type": "code",
      "metadata": {
        "id": "jjcKWrnCd9TJ",
        "colab_type": "code",
        "colab": {
          "base_uri": "https://localhost:8080/",
          "height": 425
        },
        "outputId": "279bd285-891c-4efd-f14c-77eeaf88b9e9"
      },
      "source": [
        "pet=[]\n",
        "Nibbi={\"pet_animal\":\"cat\",\"owner_name\":\"Malaika\"}\n",
        "pet.append(Nibbi)\n",
        "Tommy={\"pet_animal\":\"dog\",\"owner_name\":\"Ali\"}\n",
        "pet.append(Tommy)\n",
        "bella={\"pet_animal\":\"cat\",\"owner_name\":\"Muniba\"}\n",
        "pet.append(bella)\n",
        "sonu={\"pet_animal\":\"goat\",\"owner_name\":\"Uzair\"}\n",
        "pet.append(sonu)\n",
        "dumba={\"pet_animal\":\"sheep\",\"owner_name\":\"Uzair\"}\n",
        "pet.append(dumba)\n",
        "pitbull={\"pet_animal\":\"dog\",\"owner_name\":\"Rohan\"}\n",
        "pet.append(pitbull)\n",
        "for animals in pet:\n",
        "    for key,value in animals.items():\n",
        "        print(f\"\\n{key}:{value}\")"
      ],
      "execution_count": 16,
      "outputs": [
        {
          "output_type": "stream",
          "text": [
            "\n",
            "pet_animal:cat\n",
            "\n",
            "owner_name:Malaika\n",
            "\n",
            "pet_animal:dog\n",
            "\n",
            "owner_name:Ali\n",
            "\n",
            "pet_animal:cat\n",
            "\n",
            "owner_name:Muniba\n",
            "\n",
            "pet_animal:goat\n",
            "\n",
            "owner_name:Uzair\n",
            "\n",
            "pet_animal:sheep\n",
            "\n",
            "owner_name:Uzair\n",
            "\n",
            "pet_animal:dog\n",
            "\n",
            "owner_name:Rohan\n"
          ],
          "name": "stdout"
        }
      ]
    },
    {
      "cell_type": "code",
      "metadata": {
        "id": "C2q4XU6_gH7Y",
        "colab_type": "code",
        "colab": {}
      },
      "source": [
        ""
      ],
      "execution_count": 0,
      "outputs": []
    }
  ]
}