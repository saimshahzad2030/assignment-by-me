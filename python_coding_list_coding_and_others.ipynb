{
  "nbformat": 4,
  "nbformat_minor": 0,
  "metadata": {
    "colab": {
      "name": "python coding list coding and others",
      "version": "0.3.2",
      "provenance": [],
      "collapsed_sections": [],
      "include_colab_link": true
    },
    "kernelspec": {
      "name": "python3",
      "display_name": "Python 3"
    }
  },
  "cells": [
    {
      "cell_type": "markdown",
      "metadata": {
        "id": "view-in-github",
        "colab_type": "text"
      },
      "source": [
        "<a href=\"https://colab.research.google.com/github/saimshahzad2030/assignment-by-me/blob/master/python_coding_list_coding_and_others.ipynb\" target=\"_parent\"><img src=\"https://colab.research.google.com/assets/colab-badge.svg\" alt=\"Open In Colab\"/></a>"
      ]
    },
    {
      "cell_type": "markdown",
      "metadata": {
        "id": "yGw8vqkF0S37",
        "colab_type": "text"
      },
      "source": [
        "**List\n",
        "**"
      ]
    },
    {
      "cell_type": "code",
      "metadata": {
        "id": "HTL9PNnF0bOO",
        "colab_type": "code",
        "outputId": "ab4997c3-151f-43a1-9f6f-be68189082a8",
        "colab": {
          "base_uri": "https://localhost:8080/",
          "height": 35
        }
      },
      "source": [
        "students=['saim','ali','bushra','saima','faizan']\n",
        "# index      0     1      2        3        4\n",
        "type(students)"
      ],
      "execution_count": 0,
      "outputs": [
        {
          "output_type": "execute_result",
          "data": {
            "text/plain": [
              "list"
            ]
          },
          "metadata": {
            "tags": []
          },
          "execution_count": 2
        }
      ]
    },
    {
      "cell_type": "code",
      "metadata": {
        "id": "Y5ytzUMe2EMY",
        "colab_type": "code",
        "outputId": "aa485aff-d305-46e9-cd83-bec20d32fed8",
        "colab": {
          "base_uri": "https://localhost:8080/",
          "height": 35
        }
      },
      "source": [
        "any_thing=[20,'sadf',6.87]\n",
        "any_thing"
      ],
      "execution_count": 0,
      "outputs": [
        {
          "output_type": "execute_result",
          "data": {
            "text/plain": [
              "[20, 'sadf', 6.87]"
            ]
          },
          "metadata": {
            "tags": []
          },
          "execution_count": 4
        }
      ]
    },
    {
      "cell_type": "code",
      "metadata": {
        "id": "te_ImeTE2XLa",
        "colab_type": "code",
        "outputId": "c1529fbc-69e0-49c9-c0f7-56c09f8bfcf2",
        "colab": {
          "base_uri": "https://localhost:8080/",
          "height": 35
        }
      },
      "source": [
        "del students[2]\n",
        "# first method to del a task froma list\n",
        "students"
      ],
      "execution_count": 0,
      "outputs": [
        {
          "output_type": "execute_result",
          "data": {
            "text/plain": [
              "['saim', 'ali', 'saima', 'faizan']"
            ]
          },
          "metadata": {
            "tags": []
          },
          "execution_count": 5
        }
      ]
    },
    {
      "cell_type": "code",
      "metadata": {
        "id": "m7F31LYE2j_d",
        "colab_type": "code",
        "outputId": "28da52bd-de9d-4a72-eb54-1e09f114a151",
        "colab": {
          "base_uri": "https://localhost:8080/",
          "height": 191
        }
      },
      "source": [
        "students.remove('saim')\n",
        "# second method\n",
        "students"
      ],
      "execution_count": 0,
      "outputs": [
        {
          "output_type": "error",
          "ename": "ValueError",
          "evalue": "ignored",
          "traceback": [
            "\u001b[0;31m---------------------------------------------------------------------------\u001b[0m",
            "\u001b[0;31mValueError\u001b[0m                                Traceback (most recent call last)",
            "\u001b[0;32m<ipython-input-8-3df9f1b72515>\u001b[0m in \u001b[0;36m<module>\u001b[0;34m()\u001b[0m\n\u001b[0;32m----> 1\u001b[0;31m \u001b[0mstudents\u001b[0m\u001b[0;34m.\u001b[0m\u001b[0mremove\u001b[0m\u001b[0;34m(\u001b[0m\u001b[0;34m'saim'\u001b[0m\u001b[0;34m)\u001b[0m\u001b[0;34m\u001b[0m\u001b[0;34m\u001b[0m\u001b[0m\n\u001b[0m\u001b[1;32m      2\u001b[0m \u001b[0mstudents\u001b[0m\u001b[0;34m\u001b[0m\u001b[0;34m\u001b[0m\u001b[0m\n",
            "\u001b[0;31mValueError\u001b[0m: list.remove(x): x not in list"
          ]
        }
      ]
    },
    {
      "cell_type": "code",
      "metadata": {
        "id": "-my15TD73wkq",
        "colab_type": "code",
        "outputId": "ccedd8c7-eae3-4d4b-f3f2-ecd753763d8d",
        "colab": {
          "base_uri": "https://localhost:8080/",
          "height": 35
        }
      },
      "source": [
        "students[2]='asad'\n",
        "# to update or to name a new student with overwrting it\n",
        "students"
      ],
      "execution_count": 0,
      "outputs": [
        {
          "output_type": "execute_result",
          "data": {
            "text/plain": [
              "['ali', 'saima', 'asad']"
            ]
          },
          "metadata": {
            "tags": []
          },
          "execution_count": 9
        }
      ]
    },
    {
      "cell_type": "code",
      "metadata": {
        "id": "NUiICH9q373d",
        "colab_type": "code",
        "colab": {}
      },
      "source": [
        "fruit=[]"
      ],
      "execution_count": 0,
      "outputs": []
    },
    {
      "cell_type": "code",
      "metadata": {
        "id": "xuph-X254WLK",
        "colab_type": "code",
        "outputId": "def547fb-15ca-4875-f0e8-4f0539a8f871",
        "colab": {
          "base_uri": "https://localhost:8080/",
          "height": 35
        }
      },
      "source": [
        "fruit.append('mango')\n",
        "fruit"
      ],
      "execution_count": 0,
      "outputs": [
        {
          "output_type": "execute_result",
          "data": {
            "text/plain": [
              "['mango']"
            ]
          },
          "metadata": {
            "tags": []
          },
          "execution_count": 4
        }
      ]
    },
    {
      "cell_type": "code",
      "metadata": {
        "id": "FWq2YUoQ4cEi",
        "colab_type": "code",
        "outputId": "c411fcca-990a-4518-a605-f4cf0d8421f6",
        "colab": {
          "base_uri": "https://localhost:8080/",
          "height": 35
        }
      },
      "source": [
        "fruit.insert(2,'banana')\n",
        "fruit"
      ],
      "execution_count": 0,
      "outputs": [
        {
          "output_type": "execute_result",
          "data": {
            "text/plain": [
              "['mango', 'banana', 'banana', 'grapes']"
            ]
          },
          "metadata": {
            "tags": []
          },
          "execution_count": 14
        }
      ]
    },
    {
      "cell_type": "code",
      "metadata": {
        "id": "SEa49I1FiwCD",
        "colab_type": "code",
        "outputId": "8183313c-2dec-4876-c1e4-f14f9412bcb8",
        "colab": {
          "base_uri": "https://localhost:8080/",
          "height": 35
        }
      },
      "source": [
        "fruit.append('apple')\n",
        "fruit"
      ],
      "execution_count": 0,
      "outputs": [
        {
          "output_type": "execute_result",
          "data": {
            "text/plain": [
              "['mango', 'banana', 'banana', 'grapes', 'apple', 'apple', 'apple', 'apple']"
            ]
          },
          "metadata": {
            "tags": []
          },
          "execution_count": 18
        }
      ]
    },
    {
      "cell_type": "code",
      "metadata": {
        "id": "mdJ2UcBQMSgY",
        "colab_type": "code",
        "outputId": "f26e5919-b174-4ba3-8f0c-23bd7f70fdbc",
        "colab": {
          "base_uri": "https://localhost:8080/",
          "height": 35
        }
      },
      "source": [
        "del fruit[1\n",
        "        ]\n",
        "fruit\n"
      ],
      "execution_count": 0,
      "outputs": [
        {
          "output_type": "execute_result",
          "data": {
            "text/plain": [
              "['mango', 'banana', 'grapes', 'apple', 'apple', 'apple', 'apple']"
            ]
          },
          "metadata": {
            "tags": []
          },
          "execution_count": 19
        }
      ]
    },
    {
      "cell_type": "code",
      "metadata": {
        "id": "Ul_CUcapMdIu",
        "colab_type": "code",
        "outputId": "c1e71e3c-2687-4a5f-8361-c3eed6f47216",
        "colab": {
          "base_uri": "https://localhost:8080/",
          "height": 182
        }
      },
      "source": [
        "fruit.insert(6,'grapes')\n",
        "fruit"
      ],
      "execution_count": 0,
      "outputs": [
        {
          "output_type": "execute_result",
          "data": {
            "text/plain": [
              "['mango',\n",
              " 'banana',\n",
              " 'grapes',\n",
              " 'apple',\n",
              " 'apple',\n",
              " 'grapes',\n",
              " 'grapes',\n",
              " 'apple',\n",
              " 'apple']"
            ]
          },
          "metadata": {
            "tags": []
          },
          "execution_count": 25
        }
      ]
    },
    {
      "cell_type": "code",
      "metadata": {
        "id": "ndmFkjwjMrEP",
        "colab_type": "code",
        "outputId": "38b82407-566e-436f-a8df-f59a855b2c75",
        "colab": {
          "base_uri": "https://localhost:8080/",
          "height": 35
        }
      },
      "source": [
        "fruit.index('grapes')\n",
        "# to find index\n",
        "#matlab k zero se knse number par hai left to right"
      ],
      "execution_count": 0,
      "outputs": [
        {
          "output_type": "execute_result",
          "data": {
            "text/plain": [
              "2"
            ]
          },
          "metadata": {
            "tags": []
          },
          "execution_count": 26
        }
      ]
    },
    {
      "cell_type": "code",
      "metadata": {
        "id": "jaHlru4rOPtL",
        "colab_type": "code",
        "outputId": "5bc28328-7800-46d9-c1a0-b73bd80a16ca",
        "colab": {
          "base_uri": "https://localhost:8080/",
          "height": 35
        }
      },
      "source": [
        "fruit.index('apple',4)\n",
        "#index"
      ],
      "execution_count": 0,
      "outputs": [
        {
          "output_type": "execute_result",
          "data": {
            "text/plain": [
              "4"
            ]
          },
          "metadata": {
            "tags": []
          },
          "execution_count": 29
        }
      ]
    },
    {
      "cell_type": "code",
      "metadata": {
        "id": "22-8PtOHjkTA",
        "colab_type": "code",
        "outputId": "9a3ddf3b-ec91-46a6-ed98-d83b1b3a0c69",
        "colab": {
          "base_uri": "https://localhost:8080/",
          "height": 35
        }
      },
      "source": [
        "len(fruit)"
      ],
      "execution_count": 0,
      "outputs": [
        {
          "output_type": "execute_result",
          "data": {
            "text/plain": [
              "9"
            ]
          },
          "metadata": {
            "tags": []
          },
          "execution_count": 32
        }
      ]
    },
    {
      "cell_type": "code",
      "metadata": {
        "id": "Kj6i_e3LjqHz",
        "colab_type": "code",
        "outputId": "7e83b682-292b-4e1b-c875-161d584fc060",
        "colab": {
          "base_uri": "https://localhost:8080/",
          "height": 35
        }
      },
      "source": [
        "fruit.clear()\n",
        "fruit"
      ],
      "execution_count": 0,
      "outputs": [
        {
          "output_type": "execute_result",
          "data": {
            "text/plain": [
              "[]"
            ]
          },
          "metadata": {
            "tags": []
          },
          "execution_count": 36
        }
      ]
    },
    {
      "cell_type": "code",
      "metadata": {
        "id": "OWvCweaRj3c1",
        "colab_type": "code",
        "outputId": "ffe89780-302b-420d-8a3b-b331e588e8b7",
        "colab": {
          "base_uri": "https://localhost:8080/",
          "height": 35
        }
      },
      "source": [
        "sortlist=[4,5,66,7,9,78,123,49]\n",
        "sortlist.sort()\n",
        "sortlist"
      ],
      "execution_count": 0,
      "outputs": [
        {
          "output_type": "execute_result",
          "data": {
            "text/plain": [
              "[4, 5, 7, 9, 49, 66, 78, 123]"
            ]
          },
          "metadata": {
            "tags": []
          },
          "execution_count": 2
        }
      ]
    },
    {
      "cell_type": "code",
      "metadata": {
        "id": "s45kre_CkKRx",
        "colab_type": "code",
        "outputId": "71c0c8bc-4d7e-4acc-a4e3-eca5185922d0",
        "colab": {
          "base_uri": "https://localhost:8080/",
          "height": 35
        }
      },
      "source": [
        "sortlist.sort(reverse=True)\n",
        "sortlist"
      ],
      "execution_count": 0,
      "outputs": [
        {
          "output_type": "execute_result",
          "data": {
            "text/plain": [
              "[123, 78, 66, 49, 9, 7, 5, 4]"
            ]
          },
          "metadata": {
            "tags": []
          },
          "execution_count": 3
        }
      ]
    },
    {
      "cell_type": "code",
      "metadata": {
        "id": "PgU0ZyqCUymx",
        "colab_type": "code",
        "outputId": "5df18687-7c9f-43d8-ceff-cecffc4c7733",
        "colab": {
          "base_uri": "https://localhost:8080/",
          "height": 35
        }
      },
      "source": [
        "sortlist.reverse()\n",
        "sortlist"
      ],
      "execution_count": 0,
      "outputs": [
        {
          "output_type": "execute_result",
          "data": {
            "text/plain": [
              "[4, 5, 7, 9, 49, 66, 78, 123]"
            ]
          },
          "metadata": {
            "tags": []
          },
          "execution_count": 4
        }
      ]
    },
    {
      "cell_type": "code",
      "metadata": {
        "id": "2IDWgSPikfSN",
        "colab_type": "code",
        "outputId": "739e35fa-f127-43b8-e9ed-76de9bb94af6",
        "colab": {
          "base_uri": "https://localhost:8080/",
          "height": 35
        }
      },
      "source": [
        "alist=['a','g','areej','q']\n",
        "alist.sort()\n",
        "alist"
      ],
      "execution_count": 0,
      "outputs": [
        {
          "output_type": "execute_result",
          "data": {
            "text/plain": [
              "['a', 'areej', 'g', 'q']"
            ]
          },
          "metadata": {
            "tags": []
          },
          "execution_count": 48
        }
      ]
    },
    {
      "cell_type": "code",
      "metadata": {
        "id": "B9Ih8czXk0Sf",
        "colab_type": "code",
        "outputId": "a114b2c8-f526-41d8-92ea-2247977cf03a",
        "colab": {
          "base_uri": "https://localhost:8080/",
          "height": 35
        }
      },
      "source": [
        "alist.reverse()\n",
        "alist"
      ],
      "execution_count": 0,
      "outputs": [
        {
          "output_type": "execute_result",
          "data": {
            "text/plain": [
              "['a', 'areej', 'g', 'q']"
            ]
          },
          "metadata": {
            "tags": []
          },
          "execution_count": 52
        }
      ]
    },
    {
      "cell_type": "code",
      "metadata": {
        "id": "_UXt5rAWlCcc",
        "colab_type": "code",
        "outputId": "f93ca75f-4dd3-44fa-edea-3a529385c7f5",
        "colab": {
          "base_uri": "https://localhost:8080/",
          "height": 35
        }
      },
      "source": [
        "num=[2,3,4,5,6,7]\n",
        "k=num\n",
        "k"
      ],
      "execution_count": 0,
      "outputs": [
        {
          "output_type": "execute_result",
          "data": {
            "text/plain": [
              "[2, 3, 4, 5, 6, 7]"
            ]
          },
          "metadata": {
            "tags": []
          },
          "execution_count": 55
        }
      ]
    },
    {
      "cell_type": "code",
      "metadata": {
        "id": "O1W-EH7clQjL",
        "colab_type": "code",
        "outputId": "2eaf25f0-fe51-458a-ffb2-6c0c4fbe0e4b",
        "colab": {
          "base_uri": "https://localhost:8080/",
          "height": 35
        }
      },
      "source": [
        "num.append(1)\n",
        "num"
      ],
      "execution_count": 0,
      "outputs": [
        {
          "output_type": "execute_result",
          "data": {
            "text/plain": [
              "[2, 3, 4, 5, 6, 7, 1, 1]"
            ]
          },
          "metadata": {
            "tags": []
          },
          "execution_count": 57
        }
      ]
    },
    {
      "cell_type": "code",
      "metadata": {
        "id": "jtq6r4aflc6p",
        "colab_type": "code",
        "outputId": "2468634d-0e21-4fe5-8bc5-eca923856325",
        "colab": {
          "base_uri": "https://localhost:8080/",
          "height": 35
        }
      },
      "source": [
        "k"
      ],
      "execution_count": 0,
      "outputs": [
        {
          "output_type": "execute_result",
          "data": {
            "text/plain": [
              "[2, 3, 4, 5, 6, 7, 1, 1]"
            ]
          },
          "metadata": {
            "tags": []
          },
          "execution_count": 59
        }
      ]
    },
    {
      "cell_type": "code",
      "metadata": {
        "id": "d4vI_iQIlfm3",
        "colab_type": "code",
        "outputId": "94537cc1-5983-4ff0-c51f-50ba60c94025",
        "colab": {
          "base_uri": "https://localhost:8080/",
          "height": 35
        }
      },
      "source": [
        "k.append(12)\n",
        "k\n"
      ],
      "execution_count": 0,
      "outputs": [
        {
          "output_type": "execute_result",
          "data": {
            "text/plain": [
              "[2, 3, 4, 5, 6, 7, 1, 1, 12, 12]"
            ]
          },
          "metadata": {
            "tags": []
          },
          "execution_count": 61
        }
      ]
    },
    {
      "cell_type": "code",
      "metadata": {
        "id": "F2gsJNSslkCP",
        "colab_type": "code",
        "outputId": "ea67248a-2c63-4fc2-95a6-9ab828425ae7",
        "colab": {
          "base_uri": "https://localhost:8080/",
          "height": 35
        }
      },
      "source": [
        "num"
      ],
      "execution_count": 0,
      "outputs": [
        {
          "output_type": "execute_result",
          "data": {
            "text/plain": [
              "[2, 3, 4, 5, 6, 7, 1, 1, 12, 12]"
            ]
          },
          "metadata": {
            "tags": []
          },
          "execution_count": 63
        }
      ]
    },
    {
      "cell_type": "code",
      "metadata": {
        "id": "W1c7pCZEluOx",
        "colab_type": "code",
        "outputId": "f5d5068d-0f38-4b80-8e6e-35e4bfa920a4",
        "colab": {
          "base_uri": "https://localhost:8080/",
          "height": 35
        }
      },
      "source": [
        "a=num.copy()# first copy method\n",
        "a"
      ],
      "execution_count": 0,
      "outputs": [
        {
          "output_type": "execute_result",
          "data": {
            "text/plain": [
              "[2, 3, 4, 5, 6, 7, 1, 1, 12, 12]"
            ]
          },
          "metadata": {
            "tags": []
          },
          "execution_count": 65
        }
      ]
    },
    {
      "cell_type": "code",
      "metadata": {
        "id": "o2_Qqowclx_D",
        "colab_type": "code",
        "outputId": "687af8e6-f53b-403e-fb89-ebe73c61e1ae",
        "colab": {
          "base_uri": "https://localhost:8080/",
          "height": 35
        }
      },
      "source": [
        "a.append(46)\n",
        "a"
      ],
      "execution_count": 0,
      "outputs": [
        {
          "output_type": "execute_result",
          "data": {
            "text/plain": [
              "[2, 3, 4, 5, 6, 7, 1, 1, 12, 12, 46, 46, 46, 46]"
            ]
          },
          "metadata": {
            "tags": []
          },
          "execution_count": 69
        }
      ]
    },
    {
      "cell_type": "code",
      "metadata": {
        "id": "5uVQi7EPmBN-",
        "colab_type": "code",
        "outputId": "e90edf6b-fde6-4db7-8107-c9d9e08b5d36",
        "colab": {
          "base_uri": "https://localhost:8080/",
          "height": 35
        }
      },
      "source": [
        "num"
      ],
      "execution_count": 0,
      "outputs": [
        {
          "output_type": "execute_result",
          "data": {
            "text/plain": [
              "[2, 3, 4, 5, 6, 7, 1, 1, 12, 12]"
            ]
          },
          "metadata": {
            "tags": []
          },
          "execution_count": 71
        }
      ]
    },
    {
      "cell_type": "code",
      "metadata": {
        "id": "GJVMi11FmVjk",
        "colab_type": "code",
        "colab": {}
      },
      "source": [
        "b=a[:]\n",
        "#similar as copy method second method"
      ],
      "execution_count": 0,
      "outputs": []
    },
    {
      "cell_type": "code",
      "metadata": {
        "id": "6NL66djymgSo",
        "colab_type": "code",
        "outputId": "28327c09-28b9-4f7f-e5e6-ac21a17add9e",
        "colab": {
          "base_uri": "https://localhost:8080/",
          "height": 35
        }
      },
      "source": [
        "b"
      ],
      "execution_count": 0,
      "outputs": [
        {
          "output_type": "execute_result",
          "data": {
            "text/plain": [
              "[2, 3, 4, 5, 6, 7, 1, 1, 12, 12, 46, 46, 46, 46]"
            ]
          },
          "metadata": {
            "tags": []
          },
          "execution_count": 76
        }
      ]
    },
    {
      "cell_type": "markdown",
      "metadata": {
        "id": "khwV53oNmwSr",
        "colab_type": "text"
      },
      "source": [
        "**file in file**"
      ]
    },
    {
      "cell_type": "code",
      "metadata": {
        "id": "9B-10VJ-nD71",
        "colab_type": "code",
        "outputId": "cf798340-4991-471d-ec12-fa5e34de20f5",
        "colab": {
          "base_uri": "https://localhost:8080/",
          "height": 35
        }
      },
      "source": [
        "list=[1,2,3,4,5,['sister','brother','mother'],fruit]\n",
        "#     0 1 2 3 4             5             6             \n",
        "list"
      ],
      "execution_count": 0,
      "outputs": [
        {
          "output_type": "execute_result",
          "data": {
            "text/plain": [
              "[1, 2, 3, 4, 5, ['sister', 'brother', 'mother'], []]"
            ]
          },
          "metadata": {
            "tags": []
          },
          "execution_count": 78
        }
      ]
    },
    {
      "cell_type": "code",
      "metadata": {
        "id": "1vfNRbDbn8kg",
        "colab_type": "code",
        "outputId": "ad456043-d558-421d-bda5-e8f3a35e9239",
        "colab": {
          "base_uri": "https://localhost:8080/",
          "height": 35
        }
      },
      "source": [
        "list[5]"
      ],
      "execution_count": 0,
      "outputs": [
        {
          "output_type": "execute_result",
          "data": {
            "text/plain": [
              "['sister', 'brother', 'mother']"
            ]
          },
          "metadata": {
            "tags": []
          },
          "execution_count": 81
        }
      ]
    },
    {
      "cell_type": "code",
      "metadata": {
        "id": "2sGjo6MWoST8",
        "colab_type": "code",
        "outputId": "5ba1446c-ceaf-476c-e4fc-457b369e9b5b",
        "colab": {
          "base_uri": "https://localhost:8080/",
          "height": 35
        }
      },
      "source": [
        "list[5][2]"
      ],
      "execution_count": 0,
      "outputs": [
        {
          "output_type": "execute_result",
          "data": {
            "text/plain": [
              "'mother'"
            ]
          },
          "metadata": {
            "tags": []
          },
          "execution_count": 83
        }
      ]
    },
    {
      "cell_type": "code",
      "metadata": {
        "id": "G6c5m7eaoWc3",
        "colab_type": "code",
        "outputId": "df05744a-962f-4a4d-d6d2-7905efe604aa",
        "colab": {
          "base_uri": "https://localhost:8080/",
          "height": 146
        }
      },
      "source": [
        "list[6].insert(1,'apple')\n",
        "list[6].insert(0,'banana')\n",
        "list"
      ],
      "execution_count": 0,
      "outputs": [
        {
          "output_type": "execute_result",
          "data": {
            "text/plain": [
              "[1,\n",
              " 2,\n",
              " 3,\n",
              " 4,\n",
              " 5,\n",
              " ['sister', 'brother', 'mother'],\n",
              " ['banana', 'banana', 'apple', 'apple']]"
            ]
          },
          "metadata": {
            "tags": []
          },
          "execution_count": 85
        }
      ]
    },
    {
      "cell_type": "code",
      "metadata": {
        "id": "B89MwIBapARu",
        "colab_type": "code",
        "outputId": "cfe56b73-6b74-43a2-e614-bf8fe574ebe7",
        "colab": {
          "base_uri": "https://localhost:8080/",
          "height": 35
        }
      },
      "source": [
        "fruit"
      ],
      "execution_count": 0,
      "outputs": [
        {
          "output_type": "execute_result",
          "data": {
            "text/plain": [
              "['banana', 'banana', 'apple', 'apple']"
            ]
          },
          "metadata": {
            "tags": []
          },
          "execution_count": 86
        }
      ]
    },
    {
      "cell_type": "code",
      "metadata": {
        "id": "2eJUsSo4pNll",
        "colab_type": "code",
        "outputId": "16bd1bee-b079-4f73-b98e-e5ac559450b1",
        "colab": {
          "base_uri": "https://localhost:8080/",
          "height": 35
        }
      },
      "source": [
        "list[5].remove('brother')\n",
        "list"
      ],
      "execution_count": 0,
      "outputs": [
        {
          "output_type": "execute_result",
          "data": {
            "text/plain": [
              "[1, 2, 3, 4, 5, ['sister', 'mother'], ['banana', 'banana', 'apple', 'apple']]"
            ]
          },
          "metadata": {
            "tags": []
          },
          "execution_count": 88
        }
      ]
    },
    {
      "cell_type": "code",
      "metadata": {
        "id": "FuCCz5PQpcAI",
        "colab_type": "code",
        "outputId": "17023de1-1fd9-4ed9-9075-1827df0481d2",
        "colab": {
          "base_uri": "https://localhost:8080/",
          "height": 35
        }
      },
      "source": [
        "7 in list"
      ],
      "execution_count": 0,
      "outputs": [
        {
          "output_type": "execute_result",
          "data": {
            "text/plain": [
              "False"
            ]
          },
          "metadata": {
            "tags": []
          },
          "execution_count": 91
        }
      ]
    },
    {
      "cell_type": "code",
      "metadata": {
        "id": "gpWIT1kTp_RU",
        "colab_type": "code",
        "outputId": "2b7433e3-21a1-4535-fa12-89bae539359d",
        "colab": {
          "base_uri": "https://localhost:8080/",
          "height": 35
        }
      },
      "source": [
        "4 in list"
      ],
      "execution_count": 0,
      "outputs": [
        {
          "output_type": "execute_result",
          "data": {
            "text/plain": [
              "True"
            ]
          },
          "metadata": {
            "tags": []
          },
          "execution_count": 92
        }
      ]
    },
    {
      "cell_type": "code",
      "metadata": {
        "id": "6yy3uxRRqBeF",
        "colab_type": "code",
        "outputId": "84a96945-9a24-4f00-ddbe-8953992f1782",
        "colab": {
          "base_uri": "https://localhost:8080/",
          "height": 35
        }
      },
      "source": [
        "'mother' in list[5]"
      ],
      "execution_count": 0,
      "outputs": [
        {
          "output_type": "execute_result",
          "data": {
            "text/plain": [
              "True"
            ]
          },
          "metadata": {
            "tags": []
          },
          "execution_count": 94
        }
      ]
    },
    {
      "cell_type": "markdown",
      "metadata": {
        "id": "cRMF21-dqPRM",
        "colab_type": "text"
      },
      "source": [
        "**SLICING**"
      ]
    },
    {
      "cell_type": "code",
      "metadata": {
        "id": "ErpLK9JiqWiB",
        "colab_type": "code",
        "outputId": "1ae6905f-7cb9-4807-f801-64b1d89cd574",
        "colab": {
          "base_uri": "https://localhost:8080/",
          "height": 35
        }
      },
      "source": [
        "listb=['a','e','i','o','u']\n",
        "# index 0   1   2   3   4    \n",
        "listb"
      ],
      "execution_count": 0,
      "outputs": [
        {
          "output_type": "execute_result",
          "data": {
            "text/plain": [
              "['a', 'e', 'i', 'o', 'u']"
            ]
          },
          "metadata": {
            "tags": []
          },
          "execution_count": 95
        }
      ]
    },
    {
      "cell_type": "code",
      "metadata": {
        "id": "W1NyLZG9sln3",
        "colab_type": "code",
        "outputId": "9def0c22-5bba-4e52-e0fb-248188ad9650",
        "colab": {
          "base_uri": "https://localhost:8080/",
          "height": 35
        }
      },
      "source": [
        "a=listb[2:4]\n",
        "a"
      ],
      "execution_count": 0,
      "outputs": [
        {
          "output_type": "execute_result",
          "data": {
            "text/plain": [
              "['i', 'o']"
            ]
          },
          "metadata": {
            "tags": []
          },
          "execution_count": 97
        }
      ]
    },
    {
      "cell_type": "code",
      "metadata": {
        "id": "pG2upM0htHGP",
        "colab_type": "code",
        "outputId": "c9b8fbbf-7ef0-47ca-fab9-a5cb8c100b96",
        "colab": {
          "base_uri": "https://localhost:8080/",
          "height": 35
        }
      },
      "source": [
        "a=listb[2:3]\n",
        "a"
      ],
      "execution_count": 0,
      "outputs": [
        {
          "output_type": "execute_result",
          "data": {
            "text/plain": [
              "['i']"
            ]
          },
          "metadata": {
            "tags": []
          },
          "execution_count": 98
        }
      ]
    },
    {
      "cell_type": "code",
      "metadata": {
        "id": "L3c6fet5tbqE",
        "colab_type": "code",
        "outputId": "c5ee28ca-458b-4aba-efe2-274b6d00c12a",
        "colab": {
          "base_uri": "https://localhost:8080/",
          "height": 35
        }
      },
      "source": [
        "a=listb[:2]\n",
        "a"
      ],
      "execution_count": 0,
      "outputs": [
        {
          "output_type": "execute_result",
          "data": {
            "text/plain": [
              "['a', 'e']"
            ]
          },
          "metadata": {
            "tags": []
          },
          "execution_count": 99
        }
      ]
    },
    {
      "cell_type": "code",
      "metadata": {
        "id": "Xx73BRultgEu",
        "colab_type": "code",
        "outputId": "44847921-ea56-449c-9653-078ad32f05ad",
        "colab": {
          "base_uri": "https://localhost:8080/",
          "height": 35
        }
      },
      "source": [
        "a=listb[:4]\n",
        "a"
      ],
      "execution_count": 0,
      "outputs": [
        {
          "output_type": "execute_result",
          "data": {
            "text/plain": [
              "['a', 'e', 'i', 'o']"
            ]
          },
          "metadata": {
            "tags": []
          },
          "execution_count": 100
        }
      ]
    },
    {
      "cell_type": "code",
      "metadata": {
        "id": "bFBk1J0ntj-m",
        "colab_type": "code",
        "outputId": "c1f5a006-c5a3-4108-d945-85ca89211de2",
        "colab": {
          "base_uri": "https://localhost:8080/",
          "height": 35
        }
      },
      "source": [
        "a=listb[2:]\n",
        "a"
      ],
      "execution_count": 0,
      "outputs": [
        {
          "output_type": "execute_result",
          "data": {
            "text/plain": [
              "['i', 'o', 'u']"
            ]
          },
          "metadata": {
            "tags": []
          },
          "execution_count": 101
        }
      ]
    },
    {
      "cell_type": "code",
      "metadata": {
        "id": "vn5bGDJqtrVh",
        "colab_type": "code",
        "outputId": "327abb7f-d7b1-4f8e-c243-f71b90374dbf",
        "colab": {
          "base_uri": "https://localhost:8080/",
          "height": 35
        }
      },
      "source": [
        "a=listb[1:]\n",
        "a"
      ],
      "execution_count": 0,
      "outputs": [
        {
          "output_type": "execute_result",
          "data": {
            "text/plain": [
              "['e', 'i', 'o', 'u']"
            ]
          },
          "metadata": {
            "tags": []
          },
          "execution_count": 102
        }
      ]
    },
    {
      "cell_type": "code",
      "metadata": {
        "id": "9RPHuZv5tuj7",
        "colab_type": "code",
        "outputId": "a31dbd60-ac7d-4dbf-afc5-910b425dcb1b",
        "colab": {
          "base_uri": "https://localhost:8080/",
          "height": 35
        }
      },
      "source": [
        "a=listb[3:2]# q k yeh sirf left to right chalta hai\n",
        "a"
      ],
      "execution_count": 0,
      "outputs": [
        {
          "output_type": "execute_result",
          "data": {
            "text/plain": [
              "[]"
            ]
          },
          "metadata": {
            "tags": []
          },
          "execution_count": 103
        }
      ]
    },
    {
      "cell_type": "markdown",
      "metadata": {
        "id": "ETB6HoDGuCe2",
        "colab_type": "text"
      },
      "source": [
        "**NEGATIVE INDEXING**"
      ]
    },
    {
      "cell_type": "code",
      "metadata": {
        "id": "kvI2klbtuTxK",
        "colab_type": "code",
        "outputId": "d2879c79-c61e-4578-80e1-9cc910731ffb",
        "colab": {
          "base_uri": "https://localhost:8080/",
          "height": 35
        }
      },
      "source": [
        "listc=['ali','saim','rehan','tayyaba','noshi','baba','anu']\n",
        "#index   -7    -6      -5      -4       -3     -2    -1             \n",
        "listc"
      ],
      "execution_count": 0,
      "outputs": [
        {
          "output_type": "execute_result",
          "data": {
            "text/plain": [
              "['ali', 'saim', 'rehan', 'tayyaba', 'noshi', 'baba', 'anu']"
            ]
          },
          "metadata": {
            "tags": []
          },
          "execution_count": 105
        }
      ]
    },
    {
      "cell_type": "code",
      "metadata": {
        "id": "UwuyZRuFvMU9",
        "colab_type": "code",
        "outputId": "9726beed-7c30-4de1-b079-d14c508fc82a",
        "colab": {
          "base_uri": "https://localhost:8080/",
          "height": 35
        }
      },
      "source": [
        "listc[-4]"
      ],
      "execution_count": 0,
      "outputs": [
        {
          "output_type": "execute_result",
          "data": {
            "text/plain": [
              "'tayyaba'"
            ]
          },
          "metadata": {
            "tags": []
          },
          "execution_count": 106
        }
      ]
    },
    {
      "cell_type": "code",
      "metadata": {
        "id": "NaZMxiwBvTFW",
        "colab_type": "code",
        "outputId": "f0ce6461-8d75-4e30-e2dd-3f8477ad2a80",
        "colab": {
          "base_uri": "https://localhost:8080/",
          "height": 35
        }
      },
      "source": [
        "a=listc[-5:]\n",
        "a"
      ],
      "execution_count": 0,
      "outputs": [
        {
          "output_type": "execute_result",
          "data": {
            "text/plain": [
              "['rehan', 'tayyaba', 'noshi', 'baba', 'anu']"
            ]
          },
          "metadata": {
            "tags": []
          },
          "execution_count": 107
        }
      ]
    },
    {
      "cell_type": "code",
      "metadata": {
        "id": "MblaVAP6vl-W",
        "colab_type": "code",
        "outputId": "c9efa7cd-a409-46f4-f679-56decce25350",
        "colab": {
          "base_uri": "https://localhost:8080/",
          "height": 35
        }
      },
      "source": [
        "a=listc[:-5]\n",
        "a"
      ],
      "execution_count": 0,
      "outputs": [
        {
          "output_type": "execute_result",
          "data": {
            "text/plain": [
              "['ali', 'saim']"
            ]
          },
          "metadata": {
            "tags": []
          },
          "execution_count": 109
        }
      ]
    },
    {
      "cell_type": "code",
      "metadata": {
        "id": "1s7auC3Uvvir",
        "colab_type": "code",
        "outputId": "ee209995-83fa-4d70-eb8b-7fa7e33570ce",
        "colab": {
          "base_uri": "https://localhost:8080/",
          "height": 35
        }
      },
      "source": [
        "a=listc[-7:-4]\n",
        "a"
      ],
      "execution_count": 0,
      "outputs": [
        {
          "output_type": "execute_result",
          "data": {
            "text/plain": [
              "['ali', 'saim', 'rehan']"
            ]
          },
          "metadata": {
            "tags": []
          },
          "execution_count": 110
        }
      ]
    },
    {
      "cell_type": "code",
      "metadata": {
        "id": "yABIk9YQv5qL",
        "colab_type": "code",
        "outputId": "156b0653-acee-4485-c880-0cc754285142",
        "colab": {
          "base_uri": "https://localhost:8080/",
          "height": 35
        }
      },
      "source": [
        "a=listc[-5:-4]\n",
        "a"
      ],
      "execution_count": 0,
      "outputs": [
        {
          "output_type": "execute_result",
          "data": {
            "text/plain": [
              "['rehan']"
            ]
          },
          "metadata": {
            "tags": []
          },
          "execution_count": 112
        }
      ]
    },
    {
      "cell_type": "code",
      "metadata": {
        "id": "tJfxNyajwGrO",
        "colab_type": "code",
        "outputId": "0bb8ffca-e693-422d-e49c-02e07de6ed26",
        "colab": {
          "base_uri": "https://localhost:8080/",
          "height": 35
        }
      },
      "source": [
        "a=listc[-4:-7]\n",
        "a"
      ],
      "execution_count": 0,
      "outputs": [
        {
          "output_type": "execute_result",
          "data": {
            "text/plain": [
              "[]"
            ]
          },
          "metadata": {
            "tags": []
          },
          "execution_count": 113
        }
      ]
    },
    {
      "cell_type": "code",
      "metadata": {
        "id": "69JwtSESwOsZ",
        "colab_type": "code",
        "outputId": "cb4b8cab-cd2b-429b-b78d-4f86d87a2576",
        "colab": {
          "base_uri": "https://localhost:8080/",
          "height": 35
        }
      },
      "source": [
        "a=listc[:]\n",
        "a"
      ],
      "execution_count": 0,
      "outputs": [
        {
          "output_type": "execute_result",
          "data": {
            "text/plain": [
              "['ali', 'saim', 'rehan', 'tayyaba', 'noshi', 'baba', 'anu']"
            ]
          },
          "metadata": {
            "tags": []
          },
          "execution_count": 114
        }
      ]
    },
    {
      "cell_type": "markdown",
      "metadata": {
        "id": "CkTYan7mwP46",
        "colab_type": "text"
      },
      "source": [
        "**POPPING**"
      ]
    },
    {
      "cell_type": "code",
      "metadata": {
        "id": "aPRjQrngxMrq",
        "colab_type": "code",
        "outputId": "dc5102c8-4ac8-4045-cc90-9dbe0744d0b5",
        "colab": {
          "base_uri": "https://localhost:8080/",
          "height": 54
        }
      },
      "source": [
        "listd=['hamza','ali','noor']\n",
        "a=listd.pop()\n",
        "print(listd)\n",
        "a"
      ],
      "execution_count": 0,
      "outputs": [
        {
          "output_type": "stream",
          "text": [
            "['hamza', 'ali']\n"
          ],
          "name": "stdout"
        },
        {
          "output_type": "execute_result",
          "data": {
            "text/plain": [
              "'noor'"
            ]
          },
          "metadata": {
            "tags": []
          },
          "execution_count": 117
        }
      ]
    },
    {
      "cell_type": "code",
      "metadata": {
        "id": "RdGX7-VuxtN5",
        "colab_type": "code",
        "outputId": "b254e129-178f-49da-9b20-a9f3ae435ef8",
        "colab": {
          "base_uri": "https://localhost:8080/",
          "height": 54
        }
      },
      "source": [
        "liste=['hamza','ali','noor','areeb','tasmiya']\n",
        "poppedlist=[]\n",
        "poppedvalue=liste.pop()\n",
        "poppedlist.append(poppedvalue)\n",
        "print(liste)\n",
        "poppedlist"
      ],
      "execution_count": 3,
      "outputs": [
        {
          "output_type": "stream",
          "text": [
            "['hamza', 'ali', 'noor', 'areeb']\n"
          ],
          "name": "stdout"
        },
        {
          "output_type": "execute_result",
          "data": {
            "text/plain": [
              "['tasmiya']"
            ]
          },
          "metadata": {
            "tags": []
          },
          "execution_count": 3
        }
      ]
    },
    {
      "cell_type": "code",
      "metadata": {
        "id": "8UrzY-yQQMtw",
        "colab_type": "code",
        "colab": {}
      },
      "source": [
        "List=[]"
      ],
      "execution_count": 0,
      "outputs": []
    }
  ]
}