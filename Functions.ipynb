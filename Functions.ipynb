{
  "nbformat": 4,
  "nbformat_minor": 0,
  "metadata": {
    "colab": {
      "name": "Functions",
      "version": "0.3.2",
      "provenance": [],
      "include_colab_link": true
    },
    "kernelspec": {
      "name": "python3",
      "display_name": "Python 3"
    }
  },
  "cells": [
    {
      "cell_type": "markdown",
      "metadata": {
        "id": "view-in-github",
        "colab_type": "text"
      },
      "source": [
        "<a href=\"https://colab.research.google.com/github/saimshahzad2030/assignment-by-me/blob/master/Functions.ipynb\" target=\"_parent\"><img src=\"https://colab.research.google.com/assets/colab-badge.svg\" alt=\"Open In Colab\"/></a>"
      ]
    },
    {
      "cell_type": "markdown",
      "metadata": {
        "id": "Foxgf0rRyGng",
        "colab_type": "text"
      },
      "source": [
        "# Functions"
      ]
    },
    {
      "cell_type": "code",
      "metadata": {
        "id": "L6YthAFvdrOa",
        "colab_type": "code",
        "colab": {}
      },
      "source": [
        "def calc():\n",
        "  print(\"hello dhamaka\")"
      ],
      "execution_count": 0,
      "outputs": []
    },
    {
      "cell_type": "code",
      "metadata": {
        "id": "gsPN1hxhd85i",
        "colab_type": "code",
        "outputId": "686585c9-4974-45d5-e184-e0da35b5202d",
        "colab": {
          "base_uri": "https://localhost:8080/",
          "height": 34
        }
      },
      "source": [
        "calc()"
      ],
      "execution_count": 0,
      "outputs": [
        {
          "output_type": "stream",
          "text": [
            "hello dhamaka\n"
          ],
          "name": "stdout"
        }
      ]
    },
    {
      "cell_type": "code",
      "metadata": {
        "id": "uidy0t9LeGLf",
        "colab_type": "code",
        "outputId": "18b296cd-26a1-4afa-dec1-1c714a03f9e2",
        "colab": {
          "base_uri": "https://localhost:8080/",
          "height": 34
        }
      },
      "source": [
        "calc()"
      ],
      "execution_count": 0,
      "outputs": [
        {
          "output_type": "stream",
          "text": [
            "hello dhamaka\n"
          ],
          "name": "stdout"
        }
      ]
    },
    {
      "cell_type": "code",
      "metadata": {
        "id": "flMfSE6MeKiN",
        "colab_type": "code",
        "colab": {}
      },
      "source": [
        "def abc():\n",
        "  print('a,')\n",
        "  print(\"b\")\n",
        "  print(\"c\")\n",
        "  "
      ],
      "execution_count": 0,
      "outputs": []
    },
    {
      "cell_type": "code",
      "metadata": {
        "id": "HNhC7wP8ePHX",
        "colab_type": "code",
        "outputId": "db08369c-03d6-4969-9b0f-540b6fba9ef9",
        "colab": {
          "base_uri": "https://localhost:8080/",
          "height": 68
        }
      },
      "source": [
        "abc()"
      ],
      "execution_count": 0,
      "outputs": [
        {
          "output_type": "stream",
          "text": [
            "a,\n",
            "b\n",
            "c\n"
          ],
          "name": "stdout"
        }
      ]
    },
    {
      "cell_type": "code",
      "metadata": {
        "id": "EuODsDcgecMk",
        "colab_type": "code",
        "colab": {}
      },
      "source": [
        "def sum():\n",
        "  x=2+2\n",
        "  print(x)"
      ],
      "execution_count": 0,
      "outputs": []
    },
    {
      "cell_type": "code",
      "metadata": {
        "id": "bC7zRUN3fTF4",
        "colab_type": "code",
        "outputId": "d2ef4c87-60bf-40f0-9b8c-15a139d0df85",
        "colab": {
          "base_uri": "https://localhost:8080/",
          "height": 34
        }
      },
      "source": [
        "sum()"
      ],
      "execution_count": 0,
      "outputs": [
        {
          "output_type": "stream",
          "text": [
            "4\n"
          ],
          "name": "stdout"
        }
      ]
    },
    {
      "cell_type": "code",
      "metadata": {
        "id": "AoFupD98fUGs",
        "colab_type": "code",
        "outputId": "79ec4f4c-f857-4445-ac23-d0858bd2a050",
        "colab": {
          "base_uri": "https://localhost:8080/",
          "height": 34
        }
      },
      "source": [
        "sum()\n"
      ],
      "execution_count": 0,
      "outputs": [
        {
          "output_type": "stream",
          "text": [
            "4\n"
          ],
          "name": "stdout"
        }
      ]
    },
    {
      "cell_type": "code",
      "metadata": {
        "id": "Uvs8x2T3fgMz",
        "colab_type": "code",
        "outputId": "fd96a715-16b7-4c8f-d95e-49638dde00ed",
        "colab": {
          "base_uri": "https://localhost:8080/",
          "height": 34
        }
      },
      "source": [
        "sum()"
      ],
      "execution_count": 0,
      "outputs": [
        {
          "output_type": "stream",
          "text": [
            "4\n"
          ],
          "name": "stdout"
        }
      ]
    },
    {
      "cell_type": "code",
      "metadata": {
        "id": "rsyye7qufhUD",
        "colab_type": "code",
        "colab": {}
      },
      "source": [
        "def add(x,y):\n",
        "  z=x+y\n",
        "  print(z)"
      ],
      "execution_count": 0,
      "outputs": []
    },
    {
      "cell_type": "code",
      "metadata": {
        "id": "HArhyKzOfvCi",
        "colab_type": "code",
        "outputId": "d35e17a9-18bf-46ed-ae65-81c251cd0a2d",
        "colab": {
          "base_uri": "https://localhost:8080/",
          "height": 164
        }
      },
      "source": [
        "add()"
      ],
      "execution_count": 0,
      "outputs": [
        {
          "output_type": "error",
          "ename": "TypeError",
          "evalue": "ignored",
          "traceback": [
            "\u001b[0;31m---------------------------------------------------------------------------\u001b[0m",
            "\u001b[0;31mTypeError\u001b[0m                                 Traceback (most recent call last)",
            "\u001b[0;32m<ipython-input-24-d5d29de3ed94>\u001b[0m in \u001b[0;36m<module>\u001b[0;34m()\u001b[0m\n\u001b[0;32m----> 1\u001b[0;31m \u001b[0madd\u001b[0m\u001b[0;34m(\u001b[0m\u001b[0;34m)\u001b[0m\u001b[0;34m\u001b[0m\u001b[0;34m\u001b[0m\u001b[0m\n\u001b[0m",
            "\u001b[0;31mTypeError\u001b[0m: add() missing 2 required positional arguments: 'x' and 'y'"
          ]
        }
      ]
    },
    {
      "cell_type": "code",
      "metadata": {
        "id": "J4kfyuu9fwNK",
        "colab_type": "code",
        "outputId": "ca1bbc2b-c292-4ff2-ee6b-7e7e1fea6e0a",
        "colab": {
          "base_uri": "https://localhost:8080/",
          "height": 51
        }
      },
      "source": [
        "add(9,5)\n",
        "print('----')"
      ],
      "execution_count": 0,
      "outputs": [
        {
          "output_type": "stream",
          "text": [
            "14\n",
            "----\n"
          ],
          "name": "stdout"
        }
      ]
    },
    {
      "cell_type": "code",
      "metadata": {
        "id": "nv4LXtKWkFv5",
        "colab_type": "code",
        "outputId": "d91b1f24-edc2-44a1-b5e9-88cd3922d677",
        "colab": {
          "base_uri": "https://localhost:8080/",
          "height": 34
        }
      },
      "source": [
        "add(9,5)"
      ],
      "execution_count": 0,
      "outputs": [
        {
          "output_type": "stream",
          "text": [
            "14\n"
          ],
          "name": "stdout"
        }
      ]
    },
    {
      "cell_type": "markdown",
      "metadata": {
        "id": "d0wnrP4Hf4yp",
        "colab_type": "text"
      },
      "source": [
        "#Calculator\n",
        "#create function with three parameters"
      ]
    },
    {
      "cell_type": "code",
      "metadata": {
        "id": "zhzaGGiTfyui",
        "colab_type": "code",
        "colab": {}
      },
      "source": [
        "def cal(num_1,num_2,opr):\n",
        "  if opr=='+':\n",
        "    print(num_1+num_2)\n",
        "  elif opr=='-':\n",
        "    print(num_1-num_2)\n",
        "  elif opr=='/':\n",
        "    print(num_1//num_2)\n",
        "  elif opr=='*':\n",
        "    print(num_1*num_2)\n",
        "  else:\n",
        "    print(\"this calculator cannot perform this type of operation\")"
      ],
      "execution_count": 0,
      "outputs": []
    },
    {
      "cell_type": "code",
      "metadata": {
        "id": "iVfnuHqAhI8A",
        "colab_type": "code",
        "outputId": "977f796f-3f93-4fb0-9d67-ca2557fbcd2a",
        "colab": {
          "base_uri": "https://localhost:8080/",
          "height": 34
        }
      },
      "source": [
        "cal(1,5,'*')"
      ],
      "execution_count": 0,
      "outputs": [
        {
          "output_type": "stream",
          "text": [
            "5\n"
          ],
          "name": "stdout"
        }
      ]
    },
    {
      "cell_type": "code",
      "metadata": {
        "id": "HbIXnJe6hN46",
        "colab_type": "code",
        "outputId": "473832e8-a254-4254-949d-c0b238fc211b",
        "colab": {
          "base_uri": "https://localhost:8080/",
          "height": 34
        }
      },
      "source": [
        "cal(6,7,'-')"
      ],
      "execution_count": 0,
      "outputs": [
        {
          "output_type": "stream",
          "text": [
            "-1\n"
          ],
          "name": "stdout"
        }
      ]
    },
    {
      "cell_type": "code",
      "metadata": {
        "id": "zZ-BzaOMhUJW",
        "colab_type": "code",
        "outputId": "619168d6-85ff-46b7-bae1-55f334f8a988",
        "colab": {
          "base_uri": "https://localhost:8080/",
          "height": 34
        }
      },
      "source": [
        "cal(117,33,'/')"
      ],
      "execution_count": 0,
      "outputs": [
        {
          "output_type": "stream",
          "text": [
            "3\n"
          ],
          "name": "stdout"
        }
      ]
    },
    {
      "cell_type": "code",
      "metadata": {
        "id": "HW0NQ0_AhXao",
        "colab_type": "code",
        "outputId": "2119fc52-b9c0-47a1-b728-3b568efbfd37",
        "colab": {
          "base_uri": "https://localhost:8080/",
          "height": 34
        }
      },
      "source": [
        "cal(54,65,'@')"
      ],
      "execution_count": 0,
      "outputs": [
        {
          "output_type": "stream",
          "text": [
            "this calculator cannot perform this type of operation\n"
          ],
          "name": "stdout"
        }
      ]
    },
    {
      "cell_type": "code",
      "metadata": {
        "id": "sk0ms2vShhMn",
        "colab_type": "code",
        "colab": {}
      },
      "source": [
        "cities=['khi','lhr','psh','que']"
      ],
      "execution_count": 0,
      "outputs": []
    },
    {
      "cell_type": "code",
      "metadata": {
        "id": "rz_y0dh2h4Om",
        "colab_type": "code",
        "colab": {}
      },
      "source": [
        "def city(x):\n",
        "  for i in x:\n",
        "    print(i)"
      ],
      "execution_count": 0,
      "outputs": []
    },
    {
      "cell_type": "code",
      "metadata": {
        "id": "3Zg1YzGPiBz-",
        "colab_type": "code",
        "outputId": "97e3164d-a7da-4282-9e08-288651376059",
        "colab": {
          "base_uri": "https://localhost:8080/",
          "height": 86
        }
      },
      "source": [
        "city(cities)"
      ],
      "execution_count": 0,
      "outputs": [
        {
          "output_type": "stream",
          "text": [
            "khi\n",
            "lhr\n",
            "psh\n",
            "que\n"
          ],
          "name": "stdout"
        }
      ]
    },
    {
      "cell_type": "code",
      "metadata": {
        "id": "6y_W4mrTiMX-",
        "colab_type": "code",
        "outputId": "defd2eb9-fe76-479b-b11e-af26371a4186",
        "colab": {
          "base_uri": "https://localhost:8080/",
          "height": 360
        }
      },
      "source": [
        "city('blalalalalalalallaal')"
      ],
      "execution_count": 0,
      "outputs": [
        {
          "output_type": "stream",
          "text": [
            "b\n",
            "l\n",
            "a\n",
            "l\n",
            "a\n",
            "l\n",
            "a\n",
            "l\n",
            "a\n",
            "l\n",
            "a\n",
            "l\n",
            "a\n",
            "l\n",
            "a\n",
            "l\n",
            "l\n",
            "a\n",
            "a\n",
            "l\n"
          ],
          "name": "stdout"
        }
      ]
    },
    {
      "cell_type": "markdown",
      "metadata": {
        "id": "tfD3dzwRitiV",
        "colab_type": "text"
      },
      "source": [
        "#Function to print even numbers only from list"
      ]
    },
    {
      "cell_type": "code",
      "metadata": {
        "id": "5PW2fZ0qitI-",
        "colab_type": "code",
        "colab": {}
      },
      "source": [
        "list=[1,2,3,4,5,6,7,8,9,10,11,12,13,14,15,15,16,17,18,19,20,21,22,23,24,25,26,27,28,29,30]"
      ],
      "execution_count": 0,
      "outputs": []
    },
    {
      "cell_type": "code",
      "metadata": {
        "id": "--dugk3PilEM",
        "colab_type": "code",
        "colab": {}
      },
      "source": [
        "def even_no(o):\n",
        "  for i in o:\n",
        "    if i%2==0:\n",
        "      print(i)\n",
        "     "
      ],
      "execution_count": 0,
      "outputs": []
    },
    {
      "cell_type": "code",
      "metadata": {
        "id": "4GK1mD2ojaw0",
        "colab_type": "code",
        "outputId": "d6f93cc6-eac7-4e7b-c249-d1ead9361f8e",
        "colab": {
          "base_uri": "https://localhost:8080/",
          "height": 274
        }
      },
      "source": [
        "even_no(list)"
      ],
      "execution_count": 0,
      "outputs": [
        {
          "output_type": "stream",
          "text": [
            "2\n",
            "4\n",
            "6\n",
            "8\n",
            "10\n",
            "12\n",
            "14\n",
            "16\n",
            "18\n",
            "20\n",
            "22\n",
            "24\n",
            "26\n",
            "28\n",
            "30\n"
          ],
          "name": "stdout"
        }
      ]
    },
    {
      "cell_type": "code",
      "metadata": {
        "id": "eSC_mFTNjd5s",
        "colab_type": "code",
        "colab": {}
      },
      "source": [
        "def num(x,y):\n",
        "  z=x-y\n",
        "  print(z)"
      ],
      "execution_count": 0,
      "outputs": []
    },
    {
      "cell_type": "code",
      "metadata": {
        "id": "G5Nf4pmpkS4L",
        "colab_type": "code",
        "outputId": "d3094d0a-2348-4bd2-af3d-79991b4d0987",
        "colab": {
          "base_uri": "https://localhost:8080/",
          "height": 51
        }
      },
      "source": [
        "num(1,2)\n",
        "print('----')"
      ],
      "execution_count": 0,
      "outputs": [
        {
          "output_type": "stream",
          "text": [
            "-1\n",
            "----\n"
          ],
          "name": "stdout"
        }
      ]
    },
    {
      "cell_type": "code",
      "metadata": {
        "id": "1beJr3XRk3dR",
        "colab_type": "code",
        "outputId": "0c3ad212-1ef3-40a8-a58d-9fc40e85cd66",
        "colab": {
          "base_uri": "https://localhost:8080/",
          "height": 34
        }
      },
      "source": [
        "q=num(1,7)\n",
        "q"
      ],
      "execution_count": 0,
      "outputs": [
        {
          "output_type": "stream",
          "text": [
            "-6\n"
          ],
          "name": "stdout"
        }
      ]
    },
    {
      "cell_type": "code",
      "metadata": {
        "id": "5q6p-_jNlEUg",
        "colab_type": "code",
        "colab": {}
      },
      "source": [
        "def add(x,y):\n",
        "  z=x+y\n",
        "  return z"
      ],
      "execution_count": 0,
      "outputs": []
    },
    {
      "cell_type": "code",
      "metadata": {
        "id": "7bAstHSUlGOg",
        "colab_type": "code",
        "outputId": "f6b85d92-164b-4487-d5b2-8632c108659a",
        "colab": {
          "base_uri": "https://localhost:8080/",
          "height": 34
        }
      },
      "source": [
        "new=add(2,3)\n",
        "if new==5:\n",
        "  print('valid number')"
      ],
      "execution_count": 0,
      "outputs": [
        {
          "output_type": "stream",
          "text": [
            "valid number\n"
          ],
          "name": "stdout"
        }
      ]
    },
    {
      "cell_type": "markdown",
      "metadata": {
        "id": "ACpdNuLWmwpx",
        "colab_type": "text"
      },
      "source": [
        "#Discount Calculator\n",
        "# If value is greater than 100 than add 10 in original value\n",
        "# and if value is lesser than 100 than no discount\n",
        "# 1% discount on value of 100 add 5 in original value"
      ]
    },
    {
      "cell_type": "code",
      "metadata": {
        "id": "LEW1CtQAmici",
        "colab_type": "code",
        "colab": {}
      },
      "source": [
        "def discount(x):\n",
        "    if x > 100:\n",
        "        y = x + 10\n",
        "        return y\n",
        "    elif x < 100:\n",
        "        return x"
      ],
      "execution_count": 0,
      "outputs": []
    },
    {
      "cell_type": "code",
      "metadata": {
        "id": "AEpCCNr2mzZm",
        "colab_type": "code",
        "outputId": "ea126fec-e4bf-4179-d485-f046c33bd3fb",
        "colab": {
          "base_uri": "https://localhost:8080/",
          "height": 34
        }
      },
      "source": [
        "discount(432)"
      ],
      "execution_count": 0,
      "outputs": [
        {
          "output_type": "execute_result",
          "data": {
            "text/plain": [
              "442"
            ]
          },
          "metadata": {
            "tags": []
          },
          "execution_count": 78
        }
      ]
    },
    {
      "cell_type": "code",
      "metadata": {
        "id": "uV8Tcmdgm3kt",
        "colab_type": "code",
        "outputId": "dfd8a271-d874-43c2-c912-b6e007dfe62b",
        "colab": {
          "base_uri": "https://localhost:8080/",
          "height": 34
        }
      },
      "source": [
        "discount(78)"
      ],
      "execution_count": 0,
      "outputs": [
        {
          "output_type": "execute_result",
          "data": {
            "text/plain": [
              "78"
            ]
          },
          "metadata": {
            "tags": []
          },
          "execution_count": 79
        }
      ]
    },
    {
      "cell_type": "code",
      "metadata": {
        "id": "hb-62001m5pV",
        "colab_type": "code",
        "colab": {}
      },
      "source": [
        "def add(x,y):\n",
        "  z=x+y\n",
        "  print(z)"
      ],
      "execution_count": 0,
      "outputs": []
    },
    {
      "cell_type": "code",
      "metadata": {
        "id": "oERkcDHjocrr",
        "colab_type": "code",
        "outputId": "5c37409d-f4ed-49e9-dfb2-49e4d76b6200",
        "colab": {
          "base_uri": "https://localhost:8080/",
          "height": 216
        }
      },
      "source": [
        "d=add(5,15)\n",
        "for i in x:\n",
        "  print(i)"
      ],
      "execution_count": 0,
      "outputs": [
        {
          "output_type": "stream",
          "text": [
            "20\n"
          ],
          "name": "stdout"
        },
        {
          "output_type": "error",
          "ename": "NameError",
          "evalue": "ignored",
          "traceback": [
            "\u001b[0;31m---------------------------------------------------------------------------\u001b[0m",
            "\u001b[0;31mNameError\u001b[0m                                 Traceback (most recent call last)",
            "\u001b[0;32m<ipython-input-81-cda597322743>\u001b[0m in \u001b[0;36m<module>\u001b[0;34m()\u001b[0m\n\u001b[1;32m      1\u001b[0m \u001b[0md\u001b[0m\u001b[0;34m=\u001b[0m\u001b[0madd\u001b[0m\u001b[0;34m(\u001b[0m\u001b[0;36m5\u001b[0m\u001b[0;34m,\u001b[0m\u001b[0;36m15\u001b[0m\u001b[0;34m)\u001b[0m\u001b[0;34m\u001b[0m\u001b[0;34m\u001b[0m\u001b[0m\n\u001b[0;32m----> 2\u001b[0;31m \u001b[0;32mfor\u001b[0m \u001b[0mi\u001b[0m \u001b[0;32min\u001b[0m \u001b[0mx\u001b[0m\u001b[0;34m:\u001b[0m\u001b[0;34m\u001b[0m\u001b[0;34m\u001b[0m\u001b[0m\n\u001b[0m\u001b[1;32m      3\u001b[0m   \u001b[0mprint\u001b[0m\u001b[0;34m(\u001b[0m\u001b[0mi\u001b[0m\u001b[0;34m)\u001b[0m\u001b[0;34m\u001b[0m\u001b[0;34m\u001b[0m\u001b[0m\n",
            "\u001b[0;31mNameError\u001b[0m: name 'x' is not defined"
          ]
        }
      ]
    },
    {
      "cell_type": "code",
      "metadata": {
        "id": "lvKe62sSpBe5",
        "colab_type": "code",
        "colab": {}
      },
      "source": [
        "def add(x,y):\n",
        "  z=x+y\n",
        "  return z"
      ],
      "execution_count": 0,
      "outputs": []
    },
    {
      "cell_type": "code",
      "metadata": {
        "id": "ec_bdWESpOkI",
        "colab_type": "code",
        "outputId": "0370aaa3-c078-46bc-9087-40a6ba5287b0",
        "colab": {
          "base_uri": "https://localhost:8080/",
          "height": 360
        }
      },
      "source": [
        "d=add(5,15)\n",
        "for i in range(d):\n",
        "  print(i)"
      ],
      "execution_count": 0,
      "outputs": [
        {
          "output_type": "stream",
          "text": [
            "0\n",
            "1\n",
            "2\n",
            "3\n",
            "4\n",
            "5\n",
            "6\n",
            "7\n",
            "8\n",
            "9\n",
            "10\n",
            "11\n",
            "12\n",
            "13\n",
            "14\n",
            "15\n",
            "16\n",
            "17\n",
            "18\n",
            "19\n"
          ],
          "name": "stdout"
        }
      ]
    },
    {
      "cell_type": "code",
      "metadata": {
        "id": "tgkMwPyppa7A",
        "colab_type": "code",
        "outputId": "f4754689-3e13-46c5-ec33-6e1aed785234",
        "colab": {
          "base_uri": "https://localhost:8080/",
          "height": 360
        }
      },
      "source": [
        "for i in range(20):\n",
        "  print(i)"
      ],
      "execution_count": 0,
      "outputs": [
        {
          "output_type": "stream",
          "text": [
            "0\n",
            "1\n",
            "2\n",
            "3\n",
            "4\n",
            "5\n",
            "6\n",
            "7\n",
            "8\n",
            "9\n",
            "10\n",
            "11\n",
            "12\n",
            "13\n",
            "14\n",
            "15\n",
            "16\n",
            "17\n",
            "18\n",
            "19\n"
          ],
          "name": "stdout"
        }
      ]
    },
    {
      "cell_type": "code",
      "metadata": {
        "id": "hvgZgQPeqWse",
        "colab_type": "code",
        "colab": {}
      },
      "source": [
        "def full_name(f_name,l_name):\n",
        "  print(f\"my name is {f_name} {l_name}\")"
      ],
      "execution_count": 0,
      "outputs": []
    },
    {
      "cell_type": "code",
      "metadata": {
        "id": "RNmZGq68qoxd",
        "colab_type": "code",
        "outputId": "588c7309-71f8-47bf-90f5-723554b28200",
        "colab": {
          "base_uri": "https://localhost:8080/",
          "height": 34
        }
      },
      "source": [
        "full_name('saim','shehzad')"
      ],
      "execution_count": 0,
      "outputs": [
        {
          "output_type": "stream",
          "text": [
            "my name is saim shehzad\n"
          ],
          "name": "stdout"
        }
      ]
    },
    {
      "cell_type": "code",
      "metadata": {
        "id": "07vdreiOqt9_",
        "colab_type": "code",
        "outputId": "f5001753-369b-4a91-b689-64d8fd7b962a",
        "colab": {
          "base_uri": "https://localhost:8080/",
          "height": 34
        }
      },
      "source": [
        "full_name('asad','noor')"
      ],
      "execution_count": 0,
      "outputs": [
        {
          "output_type": "stream",
          "text": [
            "my name is asad noor\n"
          ],
          "name": "stdout"
        }
      ]
    },
    {
      "cell_type": "code",
      "metadata": {
        "id": "ov8FaRSRq-Bn",
        "colab_type": "code",
        "outputId": "01e9f7b4-f199-43d7-c5da-77381038f4b6",
        "colab": {
          "base_uri": "https://localhost:8080/",
          "height": 34
        }
      },
      "source": [
        "full_name('asad','noor')"
      ],
      "execution_count": 0,
      "outputs": [
        {
          "output_type": "stream",
          "text": [
            "my name is asad noor\n"
          ],
          "name": "stdout"
        }
      ]
    },
    {
      "cell_type": "code",
      "metadata": {
        "id": "hQ58zfFbq-qv",
        "colab_type": "code",
        "outputId": "5beb1c2b-15f2-45d7-ce53-438584611585",
        "colab": {
          "base_uri": "https://localhost:8080/",
          "height": 34
        }
      },
      "source": [
        "full_name('noor','asad')"
      ],
      "execution_count": 0,
      "outputs": [
        {
          "output_type": "stream",
          "text": [
            "my name is noor asad\n"
          ],
          "name": "stdout"
        }
      ]
    },
    {
      "cell_type": "code",
      "metadata": {
        "id": "xgTf7wS1rCNl",
        "colab_type": "code",
        "outputId": "afe06bdb-a496-49c5-bf50-0a11b7bcadca",
        "colab": {
          "base_uri": "https://localhost:8080/",
          "height": 34
        }
      },
      "source": [
        "#keyword argument\n",
        "full_name(l_name='noor',f_name='asad')"
      ],
      "execution_count": 0,
      "outputs": [
        {
          "output_type": "stream",
          "text": [
            "my name is asad noor\n"
          ],
          "name": "stdout"
        }
      ]
    },
    {
      "cell_type": "code",
      "metadata": {
        "id": "RlOGXTbBrXUW",
        "colab_type": "code",
        "colab": {}
      },
      "source": [
        "def name(f_name,m_name,l_name):\n",
        "  print(f'my name is {f_name} {m_name} {l_name}')"
      ],
      "execution_count": 0,
      "outputs": []
    },
    {
      "cell_type": "code",
      "metadata": {
        "id": "bHhYV7GAsAeM",
        "colab_type": "code",
        "outputId": "6adcb893-d8c5-4d57-85ac-69bb0e43a53f",
        "colab": {
          "base_uri": "https://localhost:8080/",
          "height": 34
        }
      },
      "source": [
        "name('asad','ullah','shinwari')"
      ],
      "execution_count": 0,
      "outputs": [
        {
          "output_type": "stream",
          "text": [
            "My name is asad ullah shinwari\n"
          ],
          "name": "stdout"
        }
      ]
    },
    {
      "cell_type": "code",
      "metadata": {
        "id": "3YPJhBlZsIY0",
        "colab_type": "code",
        "colab": {}
      },
      "source": [
        "def name(fname,mname,lname):\n",
        "    print(f'My name is {fname} {mname} {lname}')"
      ],
      "execution_count": 0,
      "outputs": []
    },
    {
      "cell_type": "code",
      "metadata": {
        "id": "VosSVDecs0mr",
        "colab_type": "code",
        "outputId": "eef06986-500d-42eb-d578-b0fbfb4c430c",
        "colab": {
          "base_uri": "https://localhost:8080/",
          "height": 34
        }
      },
      "source": [
        "name('asad','ullah','noor')"
      ],
      "execution_count": 0,
      "outputs": [
        {
          "output_type": "stream",
          "text": [
            "My name is asad ullah noor\n"
          ],
          "name": "stdout"
        }
      ]
    },
    {
      "cell_type": "code",
      "metadata": {
        "id": "3dsrr4UEs3NE",
        "colab_type": "code",
        "outputId": "61122272-6f3e-408f-ed01-a4a50abf656c",
        "colab": {
          "base_uri": "https://localhost:8080/",
          "height": 164
        }
      },
      "source": [
        "name('asad','noor')"
      ],
      "execution_count": 0,
      "outputs": [
        {
          "output_type": "error",
          "ename": "TypeError",
          "evalue": "ignored",
          "traceback": [
            "\u001b[0;31m---------------------------------------------------------------------------\u001b[0m",
            "\u001b[0;31mTypeError\u001b[0m                                 Traceback (most recent call last)",
            "\u001b[0;32m<ipython-input-120-4354dc281c44>\u001b[0m in \u001b[0;36m<module>\u001b[0;34m()\u001b[0m\n\u001b[0;32m----> 1\u001b[0;31m \u001b[0mname\u001b[0m\u001b[0;34m(\u001b[0m\u001b[0;34m'asad'\u001b[0m\u001b[0;34m,\u001b[0m\u001b[0;34m'noor'\u001b[0m\u001b[0;34m)\u001b[0m\u001b[0;34m\u001b[0m\u001b[0;34m\u001b[0m\u001b[0m\n\u001b[0m",
            "\u001b[0;31mTypeError\u001b[0m: name() missing 1 required positional argument: 'lname'"
          ]
        }
      ]
    },
    {
      "cell_type": "code",
      "metadata": {
        "id": "qDqy7NrYtCyK",
        "colab_type": "code",
        "colab": {}
      },
      "source": [
        "def naam(f_name,l_name,m_name=\" \"):#default argument\n",
        "  print(f'my name is {f_name} {m_name} {l_name}')"
      ],
      "execution_count": 0,
      "outputs": []
    },
    {
      "cell_type": "code",
      "metadata": {
        "id": "nRbhhb_HuK__",
        "colab_type": "code",
        "outputId": "28c3c9c9-a09a-40da-ae8e-b374bbbda4c6",
        "colab": {
          "base_uri": "https://localhost:8080/",
          "height": 34
        }
      },
      "source": [
        "naam('rehab','shiraz')"
      ],
      "execution_count": 0,
      "outputs": [
        {
          "output_type": "stream",
          "text": [
            "my name is rehab   shiraz\n"
          ],
          "name": "stdout"
        }
      ]
    },
    {
      "cell_type": "code",
      "metadata": {
        "id": "dNP5fVLNuVpS",
        "colab_type": "code",
        "outputId": "8595ff02-fa45-48be-863a-581689f4861a",
        "colab": {
          "base_uri": "https://localhost:8080/",
          "height": 34
        }
      },
      "source": [
        "naam('asad','ullah','noor')"
      ],
      "execution_count": 0,
      "outputs": [
        {
          "output_type": "stream",
          "text": [
            "my name is asad noor ullah\n"
          ],
          "name": "stdout"
        }
      ]
    },
    {
      "cell_type": "code",
      "metadata": {
        "id": "H8jvCJCrwBjm",
        "colab_type": "code",
        "colab": {}
      },
      "source": [
        "def dic():\n",
        "  dict={1:'karachi',2:'lahore',3:'quetta'}\n",
        "  return dict"
      ],
      "execution_count": 0,
      "outputs": []
    },
    {
      "cell_type": "code",
      "metadata": {
        "id": "i_M7K0H6xFjr",
        "colab_type": "code",
        "outputId": "fb0646a9-ee7b-4326-fff9-85cf4c0f77a0",
        "colab": {
          "base_uri": "https://localhost:8080/",
          "height": 34
        }
      },
      "source": [
        "new_dic=dic()\n",
        "new_dic"
      ],
      "execution_count": 0,
      "outputs": [
        {
          "output_type": "execute_result",
          "data": {
            "text/plain": [
              "{1: 'karachi', 2: 'lahore', 3: 'quetta'}"
            ]
          },
          "metadata": {
            "tags": []
          },
          "execution_count": 127
        }
      ]
    },
    {
      "cell_type": "code",
      "metadata": {
        "id": "QMkie6C5xNj8",
        "colab_type": "code",
        "outputId": "b30bfe36-ebd3-415a-9549-fcda31cb6179",
        "colab": {
          "base_uri": "https://localhost:8080/",
          "height": 34
        }
      },
      "source": [
        "print(new_dic[2])"
      ],
      "execution_count": 0,
      "outputs": [
        {
          "output_type": "stream",
          "text": [
            "lahore\n"
          ],
          "name": "stdout"
        }
      ]
    },
    {
      "cell_type": "markdown",
      "metadata": {
        "id": "w_fcPPRMyEhm",
        "colab_type": "text"
      },
      "source": [
        "#write a function that Takes two list as an argument"
      ]
    },
    {
      "cell_type": "code",
      "metadata": {
        "id": "v4F97TUjxnLj",
        "colab_type": "code",
        "colab": {}
      },
      "source": [
        "list1=[2,4,6,8]\n",
        "list2=[]\n",
        "def new_list(x,y):\n",
        "  for i in x:\n",
        "    y.append(i)\n",
        "  return y\n",
        "    \n",
        "  "
      ],
      "execution_count": 0,
      "outputs": []
    },
    {
      "cell_type": "code",
      "metadata": {
        "id": "Bn0UgyfYsqws",
        "colab_type": "code",
        "colab": {
          "base_uri": "https://localhost:8080/",
          "height": 35
        },
        "outputId": "fedf2b06-4605-4a85-ca25-824650e54deb"
      },
      "source": [
        "aas=new_list(list1,list2)\n",
        "print(aas)\n"
      ],
      "execution_count": 18,
      "outputs": [
        {
          "output_type": "stream",
          "text": [
            "[2, 4, 6, 8]\n"
          ],
          "name": "stdout"
        }
      ]
    },
    {
      "cell_type": "code",
      "metadata": {
        "id": "xpyQmH2AtFep",
        "colab_type": "code",
        "colab": {
          "base_uri": "https://localhost:8080/",
          "height": 90
        },
        "outputId": "c656d59a-f79c-4492-e67a-3618e6789c1f"
      },
      "source": [
        "for i in aas:\n",
        "  print(i)"
      ],
      "execution_count": 19,
      "outputs": [
        {
          "output_type": "stream",
          "text": [
            "2\n",
            "4\n",
            "6\n",
            "8\n"
          ],
          "name": "stdout"
        }
      ]
    },
    {
      "cell_type": "code",
      "metadata": {
        "id": "Llk_GW-JuYYA",
        "colab_type": "code",
        "colab": {}
      },
      "source": [
        ""
      ],
      "execution_count": 0,
      "outputs": []
    }
  ]
}