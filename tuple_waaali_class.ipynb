{
  "nbformat": 4,
  "nbformat_minor": 0,
  "metadata": {
    "colab": {
      "name": "tuple waaali class",
      "version": "0.3.2",
      "provenance": [],
      "collapsed_sections": [],
      "include_colab_link": true
    },
    "kernelspec": {
      "name": "python3",
      "display_name": "Python 3"
    }
  },
  "cells": [
    {
      "cell_type": "markdown",
      "metadata": {
        "id": "view-in-github",
        "colab_type": "text"
      },
      "source": [
        "<a href=\"https://colab.research.google.com/github/saimshahzad2030/assignment-by-me/blob/master/tuple_waaali_class.ipynb\" target=\"_parent\"><img src=\"https://colab.research.google.com/assets/colab-badge.svg\" alt=\"Open In Colab\"/></a>"
      ]
    },
    {
      "cell_type": "markdown",
      "metadata": {
        "id": "l7aVE--cyiuo",
        "colab_type": "text"
      },
      "source": [
        "**TUPLE**"
      ]
    },
    {
      "cell_type": "code",
      "metadata": {
        "id": "II1uZs4UvxLZ",
        "colab_type": "code",
        "colab": {}
      },
      "source": [
        "mytuple = (12,23,\"ewww\",\"34\")\n"
      ],
      "execution_count": 0,
      "outputs": []
    },
    {
      "cell_type": "code",
      "metadata": {
        "id": "jOq8O-_SwlI5",
        "colab_type": "code",
        "outputId": "5853f86a-3f6a-44ae-de04-c21b09462449",
        "colab": {
          "base_uri": "https://localhost:8080/",
          "height": 35
        }
      },
      "source": [
        "mytuple[3]"
      ],
      "execution_count": 0,
      "outputs": [
        {
          "output_type": "execute_result",
          "data": {
            "text/plain": [
              "'34'"
            ]
          },
          "metadata": {
            "tags": []
          },
          "execution_count": 20
        }
      ]
    },
    {
      "cell_type": "code",
      "metadata": {
        "id": "f62Xq5HryzzF",
        "colab_type": "code",
        "outputId": "df7bd472-e3b3-4321-eee7-2d2b6532132d",
        "colab": {
          "base_uri": "https://localhost:8080/",
          "height": 192
        }
      },
      "source": [
        "mytuple[2]=\"aaaa\"#tuple is immutable"
      ],
      "execution_count": 0,
      "outputs": [
        {
          "output_type": "error",
          "ename": "TypeError",
          "evalue": "ignored",
          "traceback": [
            "\u001b[0;31m---------------------------------------------------------------------------\u001b[0m",
            "\u001b[0;31mTypeError\u001b[0m                                 Traceback (most recent call last)",
            "\u001b[0;32m<ipython-input-21-f09f5bf81d14>\u001b[0m in \u001b[0;36m<module>\u001b[0;34m()\u001b[0m\n\u001b[0;32m----> 1\u001b[0;31m \u001b[0mmytuple\u001b[0m\u001b[0;34m[\u001b[0m\u001b[0;36m2\u001b[0m\u001b[0;34m]\u001b[0m\u001b[0;34m=\u001b[0m\u001b[0;34m\"aaaa\"\u001b[0m\u001b[0;34m\u001b[0m\u001b[0;34m\u001b[0m\u001b[0m\n\u001b[0m",
            "\u001b[0;31mTypeError\u001b[0m: 'tuple' object does not support item assignment"
          ]
        }
      ]
    },
    {
      "cell_type": "code",
      "metadata": {
        "id": "9hVRTBItw_C7",
        "colab_type": "code",
        "colab": {}
      },
      "source": [
        "city=\"khi\",\"lhr\",\"isl\",\"psh\",\"qta\""
      ],
      "execution_count": 0,
      "outputs": []
    },
    {
      "cell_type": "code",
      "metadata": {
        "id": "1z6ySp-dxMC6",
        "colab_type": "code",
        "outputId": "b927ccdb-c69f-4200-a1cf-df519006eb36",
        "colab": {
          "base_uri": "https://localhost:8080/",
          "height": 35
        }
      },
      "source": [
        "city"
      ],
      "execution_count": 0,
      "outputs": [
        {
          "output_type": "execute_result",
          "data": {
            "text/plain": [
              "('khi', 'lhr', 'isl', 'psh', 'qta')"
            ]
          },
          "metadata": {
            "tags": []
          },
          "execution_count": 7
        }
      ]
    },
    {
      "cell_type": "code",
      "metadata": {
        "id": "7_vrRFygxNvi",
        "colab_type": "code",
        "colab": {}
      },
      "source": [
        "city1=\"rwl\",\"hyd\""
      ],
      "execution_count": 0,
      "outputs": []
    },
    {
      "cell_type": "code",
      "metadata": {
        "id": "SUQOvxTqxZYL",
        "colab_type": "code",
        "colab": {}
      },
      "source": [
        "city=city+city1"
      ],
      "execution_count": 0,
      "outputs": []
    },
    {
      "cell_type": "code",
      "metadata": {
        "id": "Ix1a-5Ohxe6w",
        "colab_type": "code",
        "outputId": "711600da-f862-4fae-a637-1259a4fe2abd",
        "colab": {
          "base_uri": "https://localhost:8080/",
          "height": 35
        }
      },
      "source": [
        "city"
      ],
      "execution_count": 0,
      "outputs": [
        {
          "output_type": "execute_result",
          "data": {
            "text/plain": [
              "('khi', 'lhr', 'isl', 'psh', 'qta', 'rwl', 'hyd', 'rwl', 'hyd')"
            ]
          },
          "metadata": {
            "tags": []
          },
          "execution_count": 11
        }
      ]
    },
    {
      "cell_type": "code",
      "metadata": {
        "id": "YqrG2McFxugA",
        "colab_type": "code",
        "outputId": "114de023-615b-487f-fccf-86bac48b67eb",
        "colab": {
          "base_uri": "https://localhost:8080/",
          "height": 35
        }
      },
      "source": [
        "city.count(\"khi\")"
      ],
      "execution_count": 0,
      "outputs": [
        {
          "output_type": "execute_result",
          "data": {
            "text/plain": [
              "1"
            ]
          },
          "metadata": {
            "tags": []
          },
          "execution_count": 13
        }
      ]
    },
    {
      "cell_type": "code",
      "metadata": {
        "id": "irsQU-IiyG82",
        "colab_type": "code",
        "outputId": "f4efdfbf-0cf0-49a2-d7db-131c1c53e215",
        "colab": {
          "base_uri": "https://localhost:8080/",
          "height": 35
        }
      },
      "source": [
        "city.index(\"rwl\",2)"
      ],
      "execution_count": 0,
      "outputs": [
        {
          "output_type": "execute_result",
          "data": {
            "text/plain": [
              "5"
            ]
          },
          "metadata": {
            "tags": []
          },
          "execution_count": 19
        }
      ]
    },
    {
      "cell_type": "code",
      "metadata": {
        "id": "owzfDCeBynLQ",
        "colab_type": "code",
        "colab": {}
      },
      "source": [
        "square=(12,144)#packing"
      ],
      "execution_count": 0,
      "outputs": []
    },
    {
      "cell_type": "code",
      "metadata": {
        "id": "D9b89NeRzcmc",
        "colab_type": "code",
        "colab": {}
      },
      "source": [
        "l,b=square"
      ],
      "execution_count": 0,
      "outputs": []
    },
    {
      "cell_type": "code",
      "metadata": {
        "id": "vdt9F9l9zgW3",
        "colab_type": "code",
        "outputId": "b8f13839-23da-459e-a963-004e6218e847",
        "colab": {
          "base_uri": "https://localhost:8080/",
          "height": 35
        }
      },
      "source": [
        "l"
      ],
      "execution_count": 0,
      "outputs": [
        {
          "output_type": "execute_result",
          "data": {
            "text/plain": [
              "12"
            ]
          },
          "metadata": {
            "tags": []
          },
          "execution_count": 24
        }
      ]
    },
    {
      "cell_type": "code",
      "metadata": {
        "id": "_jAadX6VznJt",
        "colab_type": "code",
        "outputId": "0e3253c4-7526-4de6-f2cd-796fbfe5f2d6",
        "colab": {
          "base_uri": "https://localhost:8080/",
          "height": 35
        }
      },
      "source": [
        "b"
      ],
      "execution_count": 0,
      "outputs": [
        {
          "output_type": "execute_result",
          "data": {
            "text/plain": [
              "144"
            ]
          },
          "metadata": {
            "tags": []
          },
          "execution_count": 25
        }
      ]
    },
    {
      "cell_type": "code",
      "metadata": {
        "id": "g2W7qNlRzpEN",
        "colab_type": "code",
        "colab": {}
      },
      "source": [
        "ponka420=(12,23,\"dfasa\")"
      ],
      "execution_count": 0,
      "outputs": []
    },
    {
      "cell_type": "code",
      "metadata": {
        "id": "kuQdAm31zu23",
        "colab_type": "code",
        "colab": {}
      },
      "source": [
        "a,b,c=ponka420"
      ],
      "execution_count": 0,
      "outputs": []
    },
    {
      "cell_type": "code",
      "metadata": {
        "id": "8e0d0OpKz2av",
        "colab_type": "code",
        "outputId": "a27d8d2b-c4f5-4187-a020-570682fde3b1",
        "colab": {
          "base_uri": "https://localhost:8080/",
          "height": 35
        }
      },
      "source": [
        "a"
      ],
      "execution_count": 0,
      "outputs": [
        {
          "output_type": "execute_result",
          "data": {
            "text/plain": [
              "12"
            ]
          },
          "metadata": {
            "tags": []
          },
          "execution_count": 35
        }
      ]
    },
    {
      "cell_type": "code",
      "metadata": {
        "id": "94cUQqzD0ZVt",
        "colab_type": "code",
        "outputId": "7e955f4e-d821-418e-c837-fa0deba1ac2a",
        "colab": {
          "base_uri": "https://localhost:8080/",
          "height": 35
        }
      },
      "source": [
        "b"
      ],
      "execution_count": 0,
      "outputs": [
        {
          "output_type": "execute_result",
          "data": {
            "text/plain": [
              "23"
            ]
          },
          "metadata": {
            "tags": []
          },
          "execution_count": 36
        }
      ]
    },
    {
      "cell_type": "code",
      "metadata": {
        "id": "0zEfQmNE0aSQ",
        "colab_type": "code",
        "outputId": "7dba74c5-aa98-4b0d-8b77-8a66fd6cfffa",
        "colab": {
          "base_uri": "https://localhost:8080/",
          "height": 35
        }
      },
      "source": [
        "c"
      ],
      "execution_count": 0,
      "outputs": [
        {
          "output_type": "execute_result",
          "data": {
            "text/plain": [
              "'dfasa'"
            ]
          },
          "metadata": {
            "tags": []
          },
          "execution_count": 37
        }
      ]
    },
    {
      "cell_type": "code",
      "metadata": {
        "id": "8NeEnRrn0bSK",
        "colab_type": "code",
        "colab": {}
      },
      "source": [
        "name=\"Pakistan\""
      ],
      "execution_count": 0,
      "outputs": []
    },
    {
      "cell_type": "code",
      "metadata": {
        "id": "D-o0n4jy0rtt",
        "colab_type": "code",
        "outputId": "bc51712d-4f5e-4e66-dec2-706e866cae1d",
        "colab": {
          "base_uri": "https://localhost:8080/",
          "height": 35
        }
      },
      "source": [
        "name[2:5]"
      ],
      "execution_count": 0,
      "outputs": [
        {
          "output_type": "execute_result",
          "data": {
            "text/plain": [
              "'kis'"
            ]
          },
          "metadata": {
            "tags": []
          },
          "execution_count": 39
        }
      ]
    },
    {
      "cell_type": "code",
      "metadata": {
        "id": "qTjdlM-E0ulu",
        "colab_type": "code",
        "outputId": "7d9d29c1-1fe7-4d38-df48-028711d70328",
        "colab": {
          "base_uri": "https://localhost:8080/",
          "height": 35
        }
      },
      "source": [
        "len(name)"
      ],
      "execution_count": 0,
      "outputs": [
        {
          "output_type": "execute_result",
          "data": {
            "text/plain": [
              "8"
            ]
          },
          "metadata": {
            "tags": []
          },
          "execution_count": 41
        }
      ]
    },
    {
      "cell_type": "code",
      "metadata": {
        "colab_type": "code",
        "outputId": "357a486b-9e97-4233-8a8c-22b568436843",
        "id": "Egl10PUi1Kt9",
        "colab": {
          "base_uri": "https://localhost:8080/",
          "height": 35
        }
      },
      "source": [
        "name[4]"
      ],
      "execution_count": 0,
      "outputs": [
        {
          "output_type": "execute_result",
          "data": {
            "text/plain": [
              "'s'"
            ]
          },
          "metadata": {
            "tags": []
          },
          "execution_count": 42
        }
      ]
    },
    {
      "cell_type": "markdown",
      "metadata": {
        "id": "0TNwfA861PcX",
        "colab_type": "text"
      },
      "source": [
        "# FOR LOOP"
      ]
    },
    {
      "cell_type": "code",
      "metadata": {
        "id": "mxjOhiMU1ViO",
        "colab_type": "code",
        "outputId": "3696c94b-d2f0-4d6d-db03-ca38a65586a8",
        "colab": {
          "base_uri": "https://localhost:8080/",
          "height": 238
        }
      },
      "source": [
        "print(\"hello world\")\n",
        "print(\"hello world\")\n",
        "print(\"hello world\")\n",
        "print(\"hello world\")\n",
        "print(\"hello world\")\n",
        "print(\"hello world\")\n",
        "print(\"hello world\")\n",
        "print(\"hello world\")\n",
        "print(\"hello world\")\n",
        "print(\"hello world\")\n",
        "print(\"hello world\")\n",
        "print(\"hello world\")"
      ],
      "execution_count": 0,
      "outputs": [
        {
          "output_type": "stream",
          "text": [
            "hello world\n",
            "hello world\n",
            "hello world\n",
            "hello world\n",
            "hello world\n",
            "hello world\n",
            "hello world\n",
            "hello world\n",
            "hello world\n",
            "hello world\n",
            "hello world\n",
            "hello world\n"
          ],
          "name": "stdout"
        }
      ]
    },
    {
      "cell_type": "code",
      "metadata": {
        "id": "27Gikf2W1gAT",
        "colab_type": "code",
        "outputId": "1b9f4de8-e312-4e74-f50a-e57fa2a5c276",
        "colab": {
          "base_uri": "https://localhost:8080/",
          "height": 35
        }
      },
      "source": [
        "for i in range(1,20):\n",
        "  print(i,end=\" \")"
      ],
      "execution_count": 0,
      "outputs": [
        {
          "output_type": "stream",
          "text": [
            "1 2 3 4 5 6 7 8 9 10 11 12 13 14 15 16 17 18 19 "
          ],
          "name": "stdout"
        }
      ]
    },
    {
      "cell_type": "code",
      "metadata": {
        "id": "s6eTL9c715UV",
        "colab_type": "code",
        "outputId": "80dd9708-e9a7-4c02-89f4-9c1448563050",
        "colab": {
          "base_uri": "https://localhost:8080/",
          "height": 35
        }
      },
      "source": [
        "for i in range(1,20,2):#(START,end,step)\n",
        "  print(i,end=\" \")"
      ],
      "execution_count": 0,
      "outputs": [
        {
          "output_type": "stream",
          "text": [
            "1 3 5 7 9 11 13 15 17 19 "
          ],
          "name": "stdout"
        }
      ]
    },
    {
      "cell_type": "code",
      "metadata": {
        "id": "zXe00MzH2DYU",
        "colab_type": "code",
        "outputId": "b117e4d3-1453-4598-d71e-48de11917f45",
        "colab": {
          "base_uri": "https://localhost:8080/",
          "height": 35
        }
      },
      "source": [
        "for i in range(20,1,-1):\n",
        "  print(i,end=\" \")"
      ],
      "execution_count": 0,
      "outputs": [
        {
          "output_type": "stream",
          "text": [
            "20 19 18 17 16 15 14 13 12 11 10 9 8 7 6 5 4 3 2 "
          ],
          "name": "stdout"
        }
      ]
    },
    {
      "cell_type": "code",
      "metadata": {
        "id": "9WYscRO-2KOQ",
        "colab_type": "code",
        "outputId": "c4e26d0a-c53c-46bb-e7a5-a096b856b41e",
        "colab": {
          "base_uri": "https://localhost:8080/",
          "height": 201
        }
      },
      "source": [
        "for num in [1,2,3,4,5,6,7,8,9,10]:\n",
        "  print(f\"number in list is {num}\")"
      ],
      "execution_count": 0,
      "outputs": [
        {
          "output_type": "stream",
          "text": [
            "number in list is 1\n",
            "number in list is 2\n",
            "number in list is 3\n",
            "number in list is 4\n",
            "number in list is 5\n",
            "number in list is 6\n",
            "number in list is 7\n",
            "number in list is 8\n",
            "number in list is 9\n",
            "number in list is 10\n"
          ],
          "name": "stdout"
        }
      ]
    },
    {
      "cell_type": "code",
      "metadata": {
        "id": "-nIv3x362fH6",
        "colab_type": "code",
        "outputId": "95501ce8-526b-47b2-b9a8-302bef6aea28",
        "colab": {
          "base_uri": "https://localhost:8080/",
          "height": 91
        }
      },
      "source": [
        "students=(\"saim\",\"ali\",\"zainab\",\"rehan\")\n",
        "for mem in students:\n",
        "  print(mem)"
      ],
      "execution_count": 0,
      "outputs": [
        {
          "output_type": "stream",
          "text": [
            "saim\n",
            "ali\n",
            "zainab\n",
            "rehan\n"
          ],
          "name": "stdout"
        }
      ]
    },
    {
      "cell_type": "code",
      "metadata": {
        "id": "dw2vltKt3SDM",
        "colab_type": "code",
        "outputId": "1b113528-79dd-45fb-f2db-ab7ad1fe6d92",
        "colab": {
          "base_uri": "https://localhost:8080/",
          "height": 164
        }
      },
      "source": [
        "for character in (\"Pakistan\"):\n",
        "  print(character)"
      ],
      "execution_count": 0,
      "outputs": [
        {
          "output_type": "stream",
          "text": [
            "P\n",
            "a\n",
            "k\n",
            "i\n",
            "s\n",
            "t\n",
            "a\n",
            "n\n"
          ],
          "name": "stdout"
        }
      ]
    },
    {
      "cell_type": "code",
      "metadata": {
        "id": "QXij9LLb3fkj",
        "colab_type": "code",
        "outputId": "32af6a45-1e9d-432e-bf3a-ced5ace3e4f7",
        "colab": {
          "base_uri": "https://localhost:8080/",
          "height": 164
        }
      },
      "source": [
        "for a in range(1,10):\n",
        "  if a==4:\n",
        "      continue\n",
        "  print(a)"
      ],
      "execution_count": 0,
      "outputs": [
        {
          "output_type": "stream",
          "text": [
            "1\n",
            "2\n",
            "3\n",
            "5\n",
            "6\n",
            "7\n",
            "8\n",
            "9\n"
          ],
          "name": "stdout"
        }
      ]
    },
    {
      "cell_type": "code",
      "metadata": {
        "id": "SOr55wbh3w2a",
        "colab_type": "code",
        "outputId": "efe1d04a-a1d5-49aa-fabb-ee7abd1bbfd6",
        "colab": {
          "base_uri": "https://localhost:8080/",
          "height": 72
        }
      },
      "source": [
        "for a in range(1,10):\n",
        "  if a==4:\n",
        "      break\n",
        "  print(a)"
      ],
      "execution_count": 0,
      "outputs": [
        {
          "output_type": "stream",
          "text": [
            "1\n",
            "2\n",
            "3\n"
          ],
          "name": "stdout"
        }
      ]
    },
    {
      "cell_type": "code",
      "metadata": {
        "id": "45Rwk0t64xeK",
        "colab_type": "code",
        "outputId": "8eda2a03-2177-41d5-8371-b0b25207327c",
        "colab": {
          "base_uri": "https://localhost:8080/",
          "height": 128
        }
      },
      "source": [
        "friends=(\"emaad\",\"sameer\",\"iza\",\"saim\",\"fozia\",\"bilal\")\n",
        "for friend in friends:\n",
        "  if friend!=\"iza\":\n",
        "    print(f'welcome to party {friend}')\n",
        "  else:\n",
        "    print(f'party is over {friend}')"
      ],
      "execution_count": 0,
      "outputs": [
        {
          "output_type": "stream",
          "text": [
            "welcome to party emaad\n",
            "welcome to party sameer\n",
            "party is over iza\n",
            "welcome to party saim\n",
            "welcome to party fozia\n",
            "welcome to party bilal\n"
          ],
          "name": "stdout"
        }
      ]
    },
    {
      "cell_type": "code",
      "metadata": {
        "id": "_7uC9woq6YBA",
        "colab_type": "code",
        "outputId": "087c3a31-4890-4e5c-b58d-2374c6aabea0",
        "colab": {
          "base_uri": "https://localhost:8080/",
          "height": 128
        }
      },
      "source": [
        "friends=(\"emaad\",\"sameer\",\"iza\",\"saim\",\"fozia\",\"bilal\")\n",
        "for friend in friends:\n",
        "  if friend!=\"iza\":\n",
        "    print(f'welcome to party {friend}')\n",
        "  else:\n",
        "    print(f'party is over {friend}')\n",
        "    continue"
      ],
      "execution_count": 0,
      "outputs": [
        {
          "output_type": "stream",
          "text": [
            "welcome to party emaad\n",
            "welcome to party sameer\n",
            "party is over iza\n",
            "welcome to party saim\n",
            "welcome to party fozia\n",
            "welcome to party bilal\n"
          ],
          "name": "stdout"
        }
      ]
    },
    {
      "cell_type": "code",
      "metadata": {
        "id": "RtSXbOvj6xEM",
        "colab_type": "code",
        "outputId": "e15c7fd1-420d-4780-b43a-b877a127338e",
        "colab": {
          "base_uri": "https://localhost:8080/",
          "height": 72
        }
      },
      "source": [
        "friends=(\"emaad\",\"sameer\",\"iza\",\"saim\",\"fozia\",\"bilal\")\n",
        "for friend in friends:\n",
        "  if friend!=\"iza\":\n",
        "    print(f'welcome to party {friend}')\n",
        "  else:\n",
        "    print(f'party is over {friend}')\n",
        "    break"
      ],
      "execution_count": 0,
      "outputs": [
        {
          "output_type": "stream",
          "text": [
            "welcome to party emaad\n",
            "welcome to party sameer\n",
            "party is over iza\n"
          ],
          "name": "stdout"
        }
      ]
    },
    {
      "cell_type": "code",
      "metadata": {
        "id": "4AOEoSvV637I",
        "colab_type": "code",
        "outputId": "fbe76e07-a8c4-4a69-e407-7286a5ba4504",
        "colab": {
          "base_uri": "https://localhost:8080/",
          "height": 220
        }
      },
      "source": [
        "table=int(input(\"enter table number: \"))\n",
        "for num in range(1,11):\n",
        "  \n",
        "  print(f'{table}*{num}={table*num}')"
      ],
      "execution_count": 0,
      "outputs": [
        {
          "output_type": "stream",
          "text": [
            "enter table number: 8\n",
            "8*1=8\n",
            "8*2=16\n",
            "8*3=24\n",
            "8*4=32\n",
            "8*5=40\n",
            "8*6=48\n",
            "8*7=56\n",
            "8*8=64\n",
            "8*9=72\n",
            "8*10=80\n"
          ],
          "name": "stdout"
        }
      ]
    },
    {
      "cell_type": "markdown",
      "metadata": {
        "id": "8tgOlqqj85TG",
        "colab_type": "text"
      },
      "source": [
        "### NESTED FOR LOOPS"
      ]
    },
    {
      "cell_type": "code",
      "metadata": {
        "id": "KSYcwsZ-77Fh",
        "colab_type": "code",
        "outputId": "8e5d13cb-b372-40bb-929e-7fbbf69a37d2",
        "colab": {
          "base_uri": "https://localhost:8080/",
          "height": 312
        }
      },
      "source": [
        "fnames=(\"fozia\",\"mahoor\",\"diya\",\"jiya\")\n",
        "lnames=(\"shaikh\",\"batool\",\"jaadu\",\"rehmat\")\n",
        "for fname in fnames:\n",
        "  for lname in lnames:\n",
        "    print(fname,lname)"
      ],
      "execution_count": 0,
      "outputs": [
        {
          "output_type": "stream",
          "text": [
            "fozia shaikh\n",
            "fozia batool\n",
            "fozia jaadu\n",
            "fozia rehmat\n",
            "mahoor shaikh\n",
            "mahoor batool\n",
            "mahoor jaadu\n",
            "mahoor rehmat\n",
            "diya shaikh\n",
            "diya batool\n",
            "diya jaadu\n",
            "diya rehmat\n",
            "jiya shaikh\n",
            "jiya batool\n",
            "jiya jaadu\n",
            "jiya rehmat\n"
          ],
          "name": "stdout"
        }
      ]
    },
    {
      "cell_type": "code",
      "metadata": {
        "id": "-Nw11oUP8xa8",
        "colab_type": "code",
        "outputId": "7c8b91b2-657e-473d-b996-cd22e239487c",
        "colab": {
          "base_uri": "https://localhost:8080/",
          "height": 2045
        }
      },
      "source": [
        "for tables in range(1,11):\n",
        "  print(\"#################\")\n",
        "  for num in range(1,11):\n",
        "    print(f'{tables}*{num}={tables*num}')"
      ],
      "execution_count": 0,
      "outputs": [
        {
          "output_type": "stream",
          "text": [
            "#################\n",
            "1*1=1\n",
            "1*2=2\n",
            "1*3=3\n",
            "1*4=4\n",
            "1*5=5\n",
            "1*6=6\n",
            "1*7=7\n",
            "1*8=8\n",
            "1*9=9\n",
            "1*10=10\n",
            "#################\n",
            "2*1=2\n",
            "2*2=4\n",
            "2*3=6\n",
            "2*4=8\n",
            "2*5=10\n",
            "2*6=12\n",
            "2*7=14\n",
            "2*8=16\n",
            "2*9=18\n",
            "2*10=20\n",
            "#################\n",
            "3*1=3\n",
            "3*2=6\n",
            "3*3=9\n",
            "3*4=12\n",
            "3*5=15\n",
            "3*6=18\n",
            "3*7=21\n",
            "3*8=24\n",
            "3*9=27\n",
            "3*10=30\n",
            "#################\n",
            "4*1=4\n",
            "4*2=8\n",
            "4*3=12\n",
            "4*4=16\n",
            "4*5=20\n",
            "4*6=24\n",
            "4*7=28\n",
            "4*8=32\n",
            "4*9=36\n",
            "4*10=40\n",
            "#################\n",
            "5*1=5\n",
            "5*2=10\n",
            "5*3=15\n",
            "5*4=20\n",
            "5*5=25\n",
            "5*6=30\n",
            "5*7=35\n",
            "5*8=40\n",
            "5*9=45\n",
            "5*10=50\n",
            "#################\n",
            "6*1=6\n",
            "6*2=12\n",
            "6*3=18\n",
            "6*4=24\n",
            "6*5=30\n",
            "6*6=36\n",
            "6*7=42\n",
            "6*8=48\n",
            "6*9=54\n",
            "6*10=60\n",
            "#################\n",
            "7*1=7\n",
            "7*2=14\n",
            "7*3=21\n",
            "7*4=28\n",
            "7*5=35\n",
            "7*6=42\n",
            "7*7=49\n",
            "7*8=56\n",
            "7*9=63\n",
            "7*10=70\n",
            "#################\n",
            "8*1=8\n",
            "8*2=16\n",
            "8*3=24\n",
            "8*4=32\n",
            "8*5=40\n",
            "8*6=48\n",
            "8*7=56\n",
            "8*8=64\n",
            "8*9=72\n",
            "8*10=80\n",
            "#################\n",
            "9*1=9\n",
            "9*2=18\n",
            "9*3=27\n",
            "9*4=36\n",
            "9*5=45\n",
            "9*6=54\n",
            "9*7=63\n",
            "9*8=72\n",
            "9*9=81\n",
            "9*10=90\n",
            "#################\n",
            "10*1=10\n",
            "10*2=20\n",
            "10*3=30\n",
            "10*4=40\n",
            "10*5=50\n",
            "10*6=60\n",
            "10*7=70\n",
            "10*8=80\n",
            "10*9=90\n",
            "10*10=100\n"
          ],
          "name": "stdout"
        }
      ]
    },
    {
      "cell_type": "markdown",
      "metadata": {
        "id": "fL2vGbg89yDm",
        "colab_type": "text"
      },
      "source": [
        "# DICTIONARIES"
      ]
    },
    {
      "cell_type": "code",
      "metadata": {
        "id": "7KChJtDh-UMJ",
        "colab_type": "code",
        "outputId": "435a551d-6064-46f1-a836-c51a3f899541",
        "colab": {
          "base_uri": "https://localhost:8080/",
          "height": 35
        }
      },
      "source": [
        "dic={\"name\":\"saim\",\"age\":\"18\",\"nickname\":\"dr_dhamaka\"}\n",
        "dic"
      ],
      "execution_count": 0,
      "outputs": [
        {
          "output_type": "execute_result",
          "data": {
            "text/plain": [
              "{'age': '18', 'name': 'saim', 'nickname': 'dr_dhamaka'}"
            ]
          },
          "metadata": {
            "tags": []
          },
          "execution_count": 70
        }
      ]
    },
    {
      "cell_type": "code",
      "metadata": {
        "id": "OAU2Hyw-_PoP",
        "colab_type": "code",
        "outputId": "bc303e95-1897-4dac-e3a5-77ed756b8029",
        "colab": {
          "base_uri": "https://localhost:8080/",
          "height": 35
        }
      },
      "source": [
        "dic[\"name\"]"
      ],
      "execution_count": 0,
      "outputs": [
        {
          "output_type": "execute_result",
          "data": {
            "text/plain": [
              "'saim'"
            ]
          },
          "metadata": {
            "tags": []
          },
          "execution_count": 71
        }
      ]
    },
    {
      "cell_type": "code",
      "metadata": {
        "id": "nVxUohTA_SNn",
        "colab_type": "code",
        "outputId": "911b099d-59ce-432d-ad1d-649ac3a64ce0",
        "colab": {
          "base_uri": "https://localhost:8080/",
          "height": 35
        }
      },
      "source": [
        "dic[\"age\"]"
      ],
      "execution_count": 0,
      "outputs": [
        {
          "output_type": "execute_result",
          "data": {
            "text/plain": [
              "'18'"
            ]
          },
          "metadata": {
            "tags": []
          },
          "execution_count": 72
        }
      ]
    },
    {
      "cell_type": "code",
      "metadata": {
        "id": "jTbrNFXL_WqO",
        "colab_type": "code",
        "outputId": "6f018836-162a-4db9-f311-43033feb1ee0",
        "colab": {
          "base_uri": "https://localhost:8080/",
          "height": 35
        }
      },
      "source": [
        "#list in dic\n",
        "dica={\"name\":[\"fazal\",\"mahmood\",\"raja\",\"rani\"],\"grade\":[\"A\",\"B\"]}\n",
        "dica"
      ],
      "execution_count": 0,
      "outputs": [
        {
          "output_type": "execute_result",
          "data": {
            "text/plain": [
              "{'grade': ['A', 'B'], 'name': ['fazal', 'mahmood', 'raja', 'rani']}"
            ]
          },
          "metadata": {
            "tags": []
          },
          "execution_count": 77
        }
      ]
    },
    {
      "cell_type": "code",
      "metadata": {
        "id": "MCFgTXhH_5MT",
        "colab_type": "code",
        "outputId": "13704ce6-53e8-4fc1-da3e-7537121c8a6d",
        "colab": {
          "base_uri": "https://localhost:8080/",
          "height": 55
        }
      },
      "source": [
        "#a dictionary in list\n",
        "listing=[11,12,dica]\n",
        "listing"
      ],
      "execution_count": 0,
      "outputs": [
        {
          "output_type": "execute_result",
          "data": {
            "text/plain": [
              "[11, 12, {'grade': ['A', 'B'], 'name': ['fazal', 'mahmood', 'raja', 'rani']}]"
            ]
          },
          "metadata": {
            "tags": []
          },
          "execution_count": 78
        }
      ]
    },
    {
      "cell_type": "code",
      "metadata": {
        "id": "Mw3rNHx-Alnd",
        "colab_type": "code",
        "outputId": "8e47e191-23c2-40db-fb2f-73c683a217f3",
        "colab": {
          "base_uri": "https://localhost:8080/",
          "height": 35
        }
      },
      "source": [
        "#a dictionary inn dictionary\n",
        "dicb={1:\"apple\",2:{\"time\":\"2pm\",\"day\":\"monday\"}}\n",
        "dicb"
      ],
      "execution_count": 0,
      "outputs": [
        {
          "output_type": "execute_result",
          "data": {
            "text/plain": [
              "{1: 'apple', 2: {'day': 'monday', 'time': '2pm'}}"
            ]
          },
          "metadata": {
            "tags": []
          },
          "execution_count": 79
        }
      ]
    },
    {
      "cell_type": "code",
      "metadata": {
        "id": "Z_6CqKzrIPmA",
        "colab_type": "code",
        "colab": {}
      },
      "source": [
        "dic={\"name\":\"saad\",\"age\":\"11\",\"gender\":\"male\",\"awe\":\"1234\"}"
      ],
      "execution_count": 0,
      "outputs": []
    },
    {
      "cell_type": "code",
      "metadata": {
        "id": "A_-es0P1Ixjq",
        "colab_type": "code",
        "outputId": "f0d95749-ed1b-4647-b786-f27b60f7dcc7",
        "colab": {
          "base_uri": "https://localhost:8080/",
          "height": 91
        }
      },
      "source": [
        "for key in dic.keys():\n",
        "  print(key)"
      ],
      "execution_count": 0,
      "outputs": [
        {
          "output_type": "stream",
          "text": [
            "name\n",
            "age\n",
            "gender\n",
            "awe\n"
          ],
          "name": "stdout"
        }
      ]
    },
    {
      "cell_type": "code",
      "metadata": {
        "id": "8Ixjh0kUI4qH",
        "colab_type": "code",
        "outputId": "0c73a172-aa4b-4fa5-92de-ecfdc4cd6bfd",
        "colab": {
          "base_uri": "https://localhost:8080/",
          "height": 91
        }
      },
      "source": [
        "for val in dic.values():\n",
        "  print(val)"
      ],
      "execution_count": 0,
      "outputs": [
        {
          "output_type": "stream",
          "text": [
            "saad\n",
            "11\n",
            "male\n",
            "1234\n"
          ],
          "name": "stdout"
        }
      ]
    },
    {
      "cell_type": "code",
      "metadata": {
        "id": "P5_ZeGauJBaW",
        "colab_type": "code",
        "outputId": "21a7f8de-2d1c-4589-a363-0723f9ab83eb",
        "colab": {
          "base_uri": "https://localhost:8080/",
          "height": 91
        }
      },
      "source": [
        "for k,v in dic.items():\n",
        "  print(k,v)"
      ],
      "execution_count": 0,
      "outputs": [
        {
          "output_type": "stream",
          "text": [
            "name saad\n",
            "age 11\n",
            "gender male\n",
            "awe 1234\n"
          ],
          "name": "stdout"
        }
      ]
    },
    {
      "cell_type": "code",
      "metadata": {
        "id": "VM6sOXcDJM42",
        "colab_type": "code",
        "outputId": "60fa7c77-1882-4712-f9c0-bbe4809193e9",
        "colab": {
          "base_uri": "https://localhost:8080/",
          "height": 91
        }
      },
      "source": [
        "for key in dic.keys():\n",
        "  print(dic[key])"
      ],
      "execution_count": 0,
      "outputs": [
        {
          "output_type": "stream",
          "text": [
            "saad\n",
            "11\n",
            "male\n",
            "1234\n"
          ],
          "name": "stdout"
        }
      ]
    },
    {
      "cell_type": "code",
      "metadata": {
        "id": "DmQPDbXAKb_8",
        "colab_type": "code",
        "outputId": "e4d4ace3-f393-4395-b3c2-fda383260420",
        "colab": {
          "base_uri": "https://localhost:8080/",
          "height": 109
        }
      },
      "source": [
        "dic[\"address\"]=\"chakiwarra\"\n",
        "dic"
      ],
      "execution_count": 0,
      "outputs": [
        {
          "output_type": "execute_result",
          "data": {
            "text/plain": [
              "{'address': 'chakiwarra',\n",
              " 'age': '11',\n",
              " 'awe': '1234',\n",
              " 'gender': 'male',\n",
              " 'name': 'saad'}"
            ]
          },
          "metadata": {
            "tags": []
          },
          "execution_count": 86
        }
      ]
    },
    {
      "cell_type": "code",
      "metadata": {
        "id": "1LMDzRWRLIBS",
        "colab_type": "code",
        "outputId": "e14a7854-3e56-4e6d-a161-c14070efd6d3",
        "colab": {
          "base_uri": "https://localhost:8080/",
          "height": 146
        }
      },
      "source": [
        "eklist=[{1:1111,2:2222},{\"jaja\":\"haha\",\"rada\":\"dasa\"},dic]\n",
        "eklist"
      ],
      "execution_count": 0,
      "outputs": [
        {
          "output_type": "execute_result",
          "data": {
            "text/plain": [
              "[{1: 1111, 2: 2222},\n",
              " {'jaja': 'haha', 'rada': 'dasa'},\n",
              " {'address': 'chakiwarra',\n",
              "  'age': '11',\n",
              "  'awe': '1234',\n",
              "  'gender': 'male',\n",
              "  'name': 'saad'}]"
            ]
          },
          "metadata": {
            "tags": []
          },
          "execution_count": 91
        }
      ]
    },
    {
      "cell_type": "code",
      "metadata": {
        "id": "WW0qejAoL8q9",
        "colab_type": "code",
        "outputId": "e2c6692e-de8e-497b-afaf-495717d4d743",
        "colab": {
          "base_uri": "https://localhost:8080/",
          "height": 35
        }
      },
      "source": [
        "eklist[2][\"gender\"]"
      ],
      "execution_count": 0,
      "outputs": [
        {
          "output_type": "execute_result",
          "data": {
            "text/plain": [
              "'male'"
            ]
          },
          "metadata": {
            "tags": []
          },
          "execution_count": 92
        }
      ]
    },
    {
      "cell_type": "code",
      "metadata": {
        "id": "DMgb4BrOME7P",
        "colab_type": "code",
        "outputId": "df2b41ee-b148-46a8-fc24-8edb53a1ab69",
        "colab": {
          "base_uri": "https://localhost:8080/",
          "height": 146
        }
      },
      "source": [
        "del eklist[0][1]\n",
        "eklist"
      ],
      "execution_count": 0,
      "outputs": [
        {
          "output_type": "execute_result",
          "data": {
            "text/plain": [
              "[{2: 2222},\n",
              " {'jaja': 'haha', 'rada': 'dasa'},\n",
              " {'address': 'chakiwarra',\n",
              "  'age': '11',\n",
              "  'awe': '1234',\n",
              "  'gender': 'male',\n",
              "  'name': 'saad'}]"
            ]
          },
          "metadata": {
            "tags": []
          },
          "execution_count": 93
        }
      ]
    },
    {
      "cell_type": "code",
      "metadata": {
        "id": "IhQmdrKXMSgM",
        "colab_type": "code",
        "outputId": "b7e902f0-951b-4c11-ac2c-536861369d1a",
        "colab": {
          "base_uri": "https://localhost:8080/",
          "height": 92
        }
      },
      "source": [
        "del eklist[2][\"age\"]\n",
        "eklist"
      ],
      "execution_count": 0,
      "outputs": [
        {
          "output_type": "execute_result",
          "data": {
            "text/plain": [
              "[{2: 2222},\n",
              " {'jaja': 'haha', 'rada': 'dasa'},\n",
              " {'address': 'chakiwarra', 'awe': '1234', 'gender': 'male', 'name': 'saad'}]"
            ]
          },
          "metadata": {
            "tags": []
          },
          "execution_count": 94
        }
      ]
    },
    {
      "cell_type": "code",
      "metadata": {
        "id": "Mj7pPzH5MZ1L",
        "colab_type": "code",
        "colab": {}
      },
      "source": [
        ""
      ],
      "execution_count": 0,
      "outputs": []
    }
  ]
}