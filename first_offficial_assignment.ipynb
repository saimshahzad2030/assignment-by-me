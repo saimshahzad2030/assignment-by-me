{
  "nbformat": 4,
  "nbformat_minor": 0,
  "metadata": {
    "colab": {
      "name": "first offficial assignment",
      "version": "0.3.2",
      "provenance": [],
      "collapsed_sections": [],
      "include_colab_link": true
    },
    "kernelspec": {
      "name": "python3",
      "display_name": "Python 3"
    }
  },
  "cells": [
    {
      "cell_type": "markdown",
      "metadata": {
        "id": "view-in-github",
        "colab_type": "text"
      },
      "source": [
        "<a href=\"https://colab.research.google.com/github/saimshahzad2030/assignment-by-me/blob/master/first_offficial_assignment.ipynb\" target=\"_parent\"><img src=\"https://colab.research.google.com/assets/colab-badge.svg\" alt=\"Open In Colab\"/></a>"
      ]
    },
    {
      "cell_type": "code",
      "metadata": {
        "id": "32uYkdCzZ9UC",
        "colab_type": "code",
        "outputId": "bbfe2208-cb98-459e-fe19-9e3289a27954",
        "colab": {
          "base_uri": "https://localhost:8080/",
          "height": 54
        }
      },
      "source": [
        "Radius=float(input(\"radius: \"))\n",
        "area=3.1452*Radius*Radius\n",
        "print('Area of circle with radius {} is {}'.format(Radius,area))           "
      ],
      "execution_count": 0,
      "outputs": [
        {
          "output_type": "stream",
          "text": [
            "radius: 2\n",
            "Area of circle with radius 2.0 is 12.5808\n"
          ],
          "name": "stdout"
        }
      ]
    },
    {
      "cell_type": "markdown",
      "metadata": {
        "id": "AGKe0lMG5CJl",
        "colab_type": "text"
      },
      "source": [
        "**Q2**"
      ]
    },
    {
      "cell_type": "code",
      "metadata": {
        "id": "M-WdWFcFbqMg",
        "colab_type": "code",
        "outputId": "2e48750d-94cb-4027-b345-64ce7787d71a",
        "colab": {
          "base_uri": "https://localhost:8080/",
          "height": 54
        }
      },
      "source": [
        "num=float(input(\"enter number: \"))\n",
        "if num==0:\n",
        "  print('zero entered')\n",
        "elif num<0:\n",
        "  print('Negative number entered')\n",
        "else :\n",
        "  print('positive number entered')"
      ],
      "execution_count": 0,
      "outputs": [
        {
          "output_type": "stream",
          "text": [
            "enter number: 0\n",
            "zero entered\n"
          ],
          "name": "stdout"
        }
      ]
    },
    {
      "cell_type": "markdown",
      "metadata": {
        "id": "XfyB1Btk5Iz8",
        "colab_type": "text"
      },
      "source": [
        "**Q3**"
      ]
    },
    {
      "cell_type": "code",
      "metadata": {
        "id": "58-_cTmkfnMe",
        "colab_type": "code",
        "outputId": "9db7d7de-ae0a-4139-d012-540a5fb19167",
        "colab": {
          "base_uri": "https://localhost:8080/",
          "height": 72
        }
      },
      "source": [
        "numerator=int(input(\"enter number: \"))\n",
        "denominator=int(input(\"enter denominator: \"))\n",
        "if numerator%denominator==0:\n",
        "  print('Number {} is Completely divisible by {}'.format(numerator,denominator))\n",
        "else :\n",
        "  print('Number {} is not Completely divisible by {}'.format(numerator,denominator))"
      ],
      "execution_count": 0,
      "outputs": [
        {
          "output_type": "stream",
          "text": [
            "enter number: 5\n",
            "enter denominator: 4\n",
            "Number 5 is not Completely divisible by 4\n"
          ],
          "name": "stdout"
        }
      ]
    },
    {
      "cell_type": "markdown",
      "metadata": {
        "id": "yQwRmqqU5N3b",
        "colab_type": "text"
      },
      "source": [
        "Q4"
      ]
    },
    {
      "cell_type": "code",
      "metadata": {
        "id": "ef9J1vYyhBBl",
        "colab_type": "code",
        "outputId": "870e5b42-61c5-45a6-eb8e-837a416a1c49",
        "colab": {
          "base_uri": "https://localhost:8080/",
          "height": 54
        }
      },
      "source": [
        "radius=float(input(\"enter radius of sphere: \"))\n",
        "volume=1.333*3.142*radius*radius\n",
        "print('Volume of the Sphere with Radius {} is {}'.format(radius,volume))"
      ],
      "execution_count": 0,
      "outputs": [
        {
          "output_type": "stream",
          "text": [
            "enter radius of sphere: 4.5\n",
            "Volume of the Sphere with Radius 4.5 is 84.81279149999999\n"
          ],
          "name": "stdout"
        }
      ]
    },
    {
      "cell_type": "markdown",
      "metadata": {
        "id": "Wf0JzaWY5Qjf",
        "colab_type": "text"
      },
      "source": [
        "Q5"
      ]
    },
    {
      "cell_type": "code",
      "metadata": {
        "id": "53bBozsSiRPI",
        "colab_type": "code",
        "outputId": "87138fa0-582a-4fb2-fa03-bc2b7d684371",
        "colab": {
          "base_uri": "https://localhost:8080/",
          "height": 72
        }
      },
      "source": [
        "string=str(input(\"enter string: \"))\n",
        "num_of_prints=int(input(\"How many copies of String you need: \"))\n",
        "result=num_of_prints*string\n",
        "print(f'{num_of_prints} copies of {string} are {result}') \n"
      ],
      "execution_count": 0,
      "outputs": [
        {
          "output_type": "stream",
          "text": [
            "enter string: hi\n",
            "How many copies of String you need: 4\n",
            "4 copies of hi are hihihihi\n"
          ],
          "name": "stdout"
        }
      ]
    },
    {
      "cell_type": "markdown",
      "metadata": {
        "id": "-5_jjXCJ5SE5",
        "colab_type": "text"
      },
      "source": [
        "Q6"
      ]
    },
    {
      "cell_type": "code",
      "metadata": {
        "id": "bQMIPfbQk9hG",
        "colab_type": "code",
        "outputId": "972558f2-7ff5-4062-af21-d05f92f9221b",
        "colab": {
          "base_uri": "https://localhost:8080/",
          "height": 54
        }
      },
      "source": [
        "num=int(input(\"enter number: \"))\n",
        "if num%2==0:\n",
        "  print(f'{num} is even')\n",
        "else :\n",
        "  print(f'{num} is odd')"
      ],
      "execution_count": 0,
      "outputs": [
        {
          "output_type": "stream",
          "text": [
            "enter number: 4\n",
            "4 is even\n"
          ],
          "name": "stdout"
        }
      ]
    },
    {
      "cell_type": "markdown",
      "metadata": {
        "id": "HWpIQQjE5WVR",
        "colab_type": "text"
      },
      "source": [
        "Q7"
      ]
    },
    {
      "cell_type": "code",
      "metadata": {
        "id": "KsyrbTW9lgOu",
        "colab_type": "code",
        "outputId": "4d3c6783-e9c0-4ecc-a383-785c73f7123b",
        "colab": {
          "base_uri": "https://localhost:8080/",
          "height": 54
        }
      },
      "source": [
        "vowels=['a','e','i','o','u','A','E','I','O','U']\n",
        "letter=str(input(\"enter letter: \"))\n",
        "if letter in vowels:\n",
        "  print(f'Letter {letter} is vowel')\n",
        "else :\n",
        "  print(f'Letter {letter} is not vowel')"
      ],
      "execution_count": 0,
      "outputs": [
        {
          "output_type": "stream",
          "text": [
            "enter letter: q\n",
            "Letter q is not vowel\n"
          ],
          "name": "stdout"
        }
      ]
    },
    {
      "cell_type": "markdown",
      "metadata": {
        "id": "4zM4_tiy5ZeA",
        "colab_type": "text"
      },
      "source": [
        "Q8"
      ]
    },
    {
      "cell_type": "code",
      "metadata": {
        "id": "HxwkV8UEoSOD",
        "colab_type": "code",
        "outputId": "d98b1450-aa20-407c-856c-e9c28194f3fb",
        "colab": {
          "base_uri": "https://localhost:8080/",
          "height": 72
        }
      },
      "source": [
        "height=float(input(\"enter height: \"))\n",
        "base=float(input(\"enter base: \"))\n",
        "area=height*base//2\n",
        "print(f'Area of triangle of Base {base} and Height {height} is {area}')"
      ],
      "execution_count": 0,
      "outputs": [
        {
          "output_type": "stream",
          "text": [
            "enter height: 4\n",
            "enter base: 5\n",
            "Area of triangle of Base 5.0 and Height 4.0 is 10.0\n"
          ],
          "name": "stdout"
        }
      ]
    },
    {
      "cell_type": "markdown",
      "metadata": {
        "id": "26-5HJSV5gdI",
        "colab_type": "text"
      },
      "source": [
        "Q9"
      ]
    },
    {
      "cell_type": "code",
      "metadata": {
        "id": "1YQFtT34qtnT",
        "colab_type": "code",
        "outputId": "79631b85-7209-4078-ce59-9e7200799ade",
        "colab": {
          "base_uri": "https://localhost:8080/",
          "height": 90
        }
      },
      "source": [
        "principle_amount=float(input(\"Please enter principal amount: \"))\n",
        "rate_interest=float(input(\"please enter rate of interest in %: \"))\n",
        "years=int(input(\"enter number of years for investment: \"))\n",
        "rate=rate_interest*100\n",
        "after_rate=principle_amount*(1+(10/100)*years)\n",
        "after_rate=round(after_rate,2)\n",
        "print(f'After {years} years your principal amount {principle_amount} over an interest rate of {rate_interest}% will be {after_rate} ')"
      ],
      "execution_count": 0,
      "outputs": [
        {
          "output_type": "stream",
          "text": [
            "Please enter principal amount: 10000\n",
            "please enter rate of interest in %: 0.2\n",
            "enter number of years for investment: 5\n",
            "After 5 years your principal amount 10000.0 over an interest rate of 0.2% will be 15000.0 \n"
          ],
          "name": "stdout"
        }
      ]
    },
    {
      "cell_type": "markdown",
      "metadata": {
        "id": "A3Gj7tTe5ity",
        "colab_type": "text"
      },
      "source": [
        "Q10"
      ]
    },
    {
      "cell_type": "code",
      "metadata": {
        "id": "Lk0Og4SyuhQb",
        "colab_type": "code",
        "outputId": "f92f53b8-d787-46a1-9149-eaea8528c546",
        "colab": {
          "base_uri": "https://localhost:8080/",
          "height": 109
        }
      },
      "source": [
        "import math\n",
        "X1=int(input(\"Enter Co-ordinate for x1: \"))\n",
        "X2=int(input(\"Enter Co-ordinate for x2: \"))\n",
        "Y1=int(input(\"Enter Co-ordinate for y1: \"))\n",
        "Y2=int(input(\"Enter Co-ordinate for y1: \"))\n",
        "A=(X2-X1)**2\n",
        "B=(Y2-Y1)**2\n",
        "c= A+B\n",
        "distance=math.sqrt(c)\n",
        "print(f'Distance between points ({X1}, {X2}) and ({Y1}, {Y2}) is {distance}')"
      ],
      "execution_count": 0,
      "outputs": [
        {
          "output_type": "stream",
          "text": [
            "Enter Co-ordinate for x1: 2\n",
            "Enter Co-ordinate for x2: 4\n",
            "Enter Co-ordinate for y1: 4\n",
            "Enter Co-ordinate for y1: 4\n",
            "Distance between points (2, 4) and (4, 4) is 2.0\n"
          ],
          "name": "stdout"
        }
      ]
    },
    {
      "cell_type": "markdown",
      "metadata": {
        "id": "UVIa_LMG5kN4",
        "colab_type": "text"
      },
      "source": [
        "Q11"
      ]
    },
    {
      "cell_type": "code",
      "metadata": {
        "id": "_Hu67W3mzUtY",
        "colab_type": "code",
        "outputId": "2e7f2fa4-9fee-48d2-f377-06a8b9b34450",
        "colab": {
          "base_uri": "https://localhost:8080/",
          "height": 54
        }
      },
      "source": [
        "height_in_feet=int(input(\"height in feet: \"))\n",
        "height_in_cm=height_in_feet*30.48\n",
        "height_in_feet=round(height_in_feet)\n",
        "print(f'There are {height_in_cm} Cm in {height_in_feet} ft')"
      ],
      "execution_count": 0,
      "outputs": [
        {
          "output_type": "stream",
          "text": [
            "height in feet: 5\n",
            "There are 152.4 Cm in 5 ft\n"
          ],
          "name": "stdout"
        }
      ]
    },
    {
      "cell_type": "markdown",
      "metadata": {
        "id": "fKwAQZqZ5l7i",
        "colab_type": "text"
      },
      "source": [
        "Q12"
      ]
    },
    {
      "cell_type": "code",
      "metadata": {
        "id": "ZDQrw41B1EMm",
        "colab_type": "code",
        "outputId": "fcd1dde1-1e7c-435b-b1c3-a2c67d292fbb",
        "colab": {
          "base_uri": "https://localhost:8080/",
          "height": 72
        }
      },
      "source": [
        "import math\n",
        "height=float(input(\"your height in cm: \"))\n",
        "weight=float(input(\"your weight in kg: \"))\n",
        "bmi=(weight/(math.pow(height*0.01,2)))\n",
        "bmi=round(bmi,2)\n",
        "print(bmi)"
      ],
      "execution_count": 0,
      "outputs": [
        {
          "output_type": "stream",
          "text": [
            "your height in cm: 93\n",
            "your weight in kg: 75\n",
            "86.72\n"
          ],
          "name": "stdout"
        }
      ]
    },
    {
      "cell_type": "markdown",
      "metadata": {
        "id": "oeAyYXgB5oFp",
        "colab_type": "text"
      },
      "source": [
        "Q13"
      ]
    },
    {
      "cell_type": "code",
      "metadata": {
        "id": "rIl0SHJK2qjP",
        "colab_type": "code",
        "outputId": "66fbfefd-3ae4-48f2-d0bb-69b59b30f704",
        "colab": {
          "base_uri": "https://localhost:8080/",
          "height": 54
        }
      },
      "source": [
        "n=int(input(\"enter value of n: \"))\n",
        "total=n*(n+1)/2\n",
        "print(f'sum of n positive integers till {n} is {total}')"
      ],
      "execution_count": 0,
      "outputs": [
        {
          "output_type": "stream",
          "text": [
            "enter value of n: 5\n",
            "sum of n positive integers till 5 is 15.0\n"
          ],
          "name": "stdout"
        }
      ]
    },
    {
      "cell_type": "markdown",
      "metadata": {
        "id": "MKYZjh_U5qLx",
        "colab_type": "text"
      },
      "source": [
        "Q14"
      ]
    },
    {
      "cell_type": "code",
      "metadata": {
        "id": "3Mo-7RZV34wT",
        "colab_type": "code",
        "outputId": "244df608-4f85-468b-d0be-ecead1166a74",
        "colab": {
          "base_uri": "https://localhost:8080/",
          "height": 109
        }
      },
      "source": [
        "n=input(\"please enter a number: \")\n",
        "sum = 0\n",
        "for d in n:\n",
        "  sum+=int(d)\n",
        "  print('sum of the digits are : ',sum)"
      ],
      "execution_count": 2,
      "outputs": [
        {
          "output_type": "stream",
          "text": [
            "please enter a number: 4321\n",
            "sum of the digits are :  4\n",
            "sum of the digits are :  7\n",
            "sum of the digits are :  9\n",
            "sum of the digits are :  10\n"
          ],
          "name": "stdout"
        }
      ]
    },
    {
      "cell_type": "code",
      "metadata": {
        "id": "q6gVBht76PVU",
        "colab_type": "code",
        "colab": {}
      },
      "source": [
        ""
      ],
      "execution_count": 0,
      "outputs": []
    }
  ]
}