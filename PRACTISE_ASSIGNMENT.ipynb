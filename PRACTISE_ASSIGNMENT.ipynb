{
  "nbformat": 4,
  "nbformat_minor": 0,
  "metadata": {
    "colab": {
      "name": "PRACTISE ASSIGNMENT",
      "version": "0.3.2",
      "provenance": [],
      "collapsed_sections": [],
      "include_colab_link": true
    },
    "kernelspec": {
      "name": "python3",
      "display_name": "Python 3"
    }
  },
  "cells": [
    {
      "cell_type": "markdown",
      "metadata": {
        "id": "view-in-github",
        "colab_type": "text"
      },
      "source": [
        "<a href=\"https://colab.research.google.com/github/saimshahzad2030/assignment-by-me/blob/master/PRACTISE_ASSIGNMENT.ipynb\" target=\"_parent\"><img src=\"https://colab.research.google.com/assets/colab-badge.svg\" alt=\"Open In Colab\"/></a>"
      ]
    },
    {
      "cell_type": "markdown",
      "metadata": {
        "id": "hcvkUkyNn18r",
        "colab_type": "text"
      },
      "source": [
        "Q!"
      ]
    },
    {
      "cell_type": "code",
      "metadata": {
        "id": "SH6S0i6Go69j",
        "colab_type": "code",
        "outputId": "ff1b4d65-fb32-4f00-cf83-9355dd4af1d6",
        "colab": {
          "base_uri": "https://localhost:8080/",
          "height": 68
        }
      },
      "source": [
        "pizzas=[\"fajita sicilian\",\"super supreme\",\"cheese lover\"]\n",
        "for pizza in pizzas:\n",
        "    print(pizza.title())"
      ],
      "execution_count": 0,
      "outputs": [
        {
          "output_type": "stream",
          "text": [
            "Fajita Sicilian\n",
            "Super Supreme\n",
            "Cheese Lover\n"
          ],
          "name": "stdout"
        }
      ]
    },
    {
      "cell_type": "markdown",
      "metadata": {
        "id": "sGl1XFZCqRAN",
        "colab_type": "text"
      },
      "source": [
        "Q2"
      ]
    },
    {
      "cell_type": "code",
      "metadata": {
        "id": "xpw3xoz4qdcA",
        "colab_type": "code",
        "outputId": "90625efc-7e2a-46f0-d9a2-ee24c56c52a7",
        "colab": {
          "base_uri": "https://localhost:8080/",
          "height": 68
        }
      },
      "source": [
        "pizzas=[\"fajita sicilian\",\"super supreme\",\"cheese lover\"]\n",
        "for pizza in pizzas:\n",
        "    print(\"I like \"+ pizza.title() + \" most.\")"
      ],
      "execution_count": 0,
      "outputs": [
        {
          "output_type": "stream",
          "text": [
            "I like Fajita Sicilian most.\n",
            "I like Super Supreme most.\n",
            "I like Cheese Lover most.\n"
          ],
          "name": "stdout"
        }
      ]
    },
    {
      "cell_type": "markdown",
      "metadata": {
        "id": "lV3DuKnMrIrq",
        "colab_type": "text"
      },
      "source": [
        "Q3"
      ]
    },
    {
      "cell_type": "code",
      "metadata": {
        "id": "zO0XbTLorfrs",
        "colab_type": "code",
        "outputId": "5caedef8-b145-4a78-b8bf-62b4ecc3f6e4",
        "colab": {
          "base_uri": "https://localhost:8080/",
          "height": 34
        }
      },
      "source": [
        "for value in range (1,21):\n",
        "    print(value,end=\" \")"
      ],
      "execution_count": 0,
      "outputs": [
        {
          "output_type": "stream",
          "text": [
            "1 2 3 4 5 6 7 8 9 10 11 12 13 14 15 16 17 18 19 20 "
          ],
          "name": "stdout"
        }
      ]
    },
    {
      "cell_type": "markdown",
      "metadata": {
        "id": "f1dS9-g7r7tS",
        "colab_type": "text"
      },
      "source": [
        "Q4\n"
      ]
    },
    {
      "cell_type": "code",
      "metadata": {
        "id": "PZNI6Vt6sDr4",
        "colab_type": "code",
        "outputId": "34d27ea9-5c91-41e2-8a1e-18a1184eea99",
        "colab": {
          "base_uri": "https://localhost:8080/",
          "height": 34
        }
      },
      "source": [
        "Odd_numbers= list(range (1,21,2))\n",
        "print(Odd_numbers)\n"
      ],
      "execution_count": 0,
      "outputs": [
        {
          "output_type": "stream",
          "text": [
            "[1, 3, 5, 7, 9, 11, 13, 15, 17, 19]\n"
          ],
          "name": "stdout"
        }
      ]
    },
    {
      "cell_type": "markdown",
      "metadata": {
        "id": "4xQ0SfIzsUFr",
        "colab_type": "text"
      },
      "source": [
        "Q5"
      ]
    },
    {
      "cell_type": "code",
      "metadata": {
        "id": "GLXCyMS5sQfS",
        "colab_type": "code",
        "outputId": "895df64a-2ceb-41e4-9782-fd6df2bd308a",
        "colab": {
          "base_uri": "https://localhost:8080/",
          "height": 34
        }
      },
      "source": [
        "multiples = []\n",
        "for value in range (1,11):\n",
        "    multiple = value*3\n",
        "    multiples.append(multiple)\n",
        "print(multiples)"
      ],
      "execution_count": 0,
      "outputs": [
        {
          "output_type": "stream",
          "text": [
            "[3, 6, 9, 12, 15, 18, 21, 24, 27, 30]\n"
          ],
          "name": "stdout"
        }
      ]
    },
    {
      "cell_type": "markdown",
      "metadata": {
        "id": "NqSCaTI2skiX",
        "colab_type": "text"
      },
      "source": [
        "Q6"
      ]
    },
    {
      "cell_type": "code",
      "metadata": {
        "id": "61NEzPEJsq0N",
        "colab_type": "code",
        "outputId": "70919197-c4b3-4743-a7e4-5c8eb73a37fc",
        "colab": {
          "base_uri": "https://localhost:8080/",
          "height": 34
        }
      },
      "source": [
        "squares = []\n",
        "for value in range (1,11):\n",
        "    square=value**3\n",
        "    squares.append(square)\n",
        "print(squares)\n",
        "\n"
      ],
      "execution_count": 0,
      "outputs": [
        {
          "output_type": "stream",
          "text": [
            "[1, 8, 27, 64, 125, 216, 343, 512, 729, 1000]\n"
          ],
          "name": "stdout"
        }
      ]
    },
    {
      "cell_type": "markdown",
      "metadata": {
        "id": "2F4fPcDmtRH5",
        "colab_type": "text"
      },
      "source": [
        "Q7"
      ]
    },
    {
      "cell_type": "code",
      "metadata": {
        "id": "NB8odCRKtzt3",
        "colab_type": "code",
        "colab": {}
      },
      "source": [
        "foods = [\"Chicken Biryani\",\"Pizza\",\"Beef Pulao\",\"Chicken Chipotle\",\"Chicken Tikka\",\"Zinger Burger\",\"Karahi\",\"Nehari\",\"Daal\"]\n",
        "print(\"The first three items in the list are:\")\n",
        "print(foods[0:3])\n",
        "print(\"\\nThree items from the middle of the list are:\")    \n",
        "print(foods[3:6])\n",
        "print(\"\\nThe last three items in the list are:\")    \n",
        "print(foods[6:10])"
      ],
      "execution_count": 0,
      "outputs": []
    },
    {
      "cell_type": "markdown",
      "metadata": {
        "id": "x4g_IlNstoe9",
        "colab_type": "text"
      },
      "source": [
        ""
      ]
    }
  ]
}