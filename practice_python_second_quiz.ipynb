{
  "nbformat": 4,
  "nbformat_minor": 0,
  "metadata": {
    "colab": {
      "name": "practice python second quiz",
      "version": "0.3.2",
      "provenance": [],
      "collapsed_sections": [],
      "include_colab_link": true
    },
    "kernelspec": {
      "name": "python3",
      "display_name": "Python 3"
    }
  },
  "cells": [
    {
      "cell_type": "markdown",
      "metadata": {
        "id": "view-in-github",
        "colab_type": "text"
      },
      "source": [
        "<a href=\"https://colab.research.google.com/github/saimshahzad2030/assignment-by-me/blob/master/practice_python_second_quiz.ipynb\" target=\"_parent\"><img src=\"https://colab.research.google.com/assets/colab-badge.svg\" alt=\"Open In Colab\"/></a>"
      ]
    },
    {
      "cell_type": "code",
      "metadata": {
        "id": "5HPv0TB9kVLh",
        "colab_type": "code",
        "colab": {}
      },
      "source": [
        " list=[1,2,3,4,5,6,7,8,9,10]\n",
        "#index=0,1,2,3,4,5,6,7,8,9"
      ],
      "execution_count": 0,
      "outputs": []
    },
    {
      "cell_type": "code",
      "metadata": {
        "id": "fZRqYY2UG5yy",
        "colab_type": "code",
        "outputId": "7b291fac-b8c3-403a-d2a2-9acfa26956b8",
        "colab": {
          "base_uri": "https://localhost:8080/",
          "height": 34
        }
      },
      "source": [
        "list.index(5)\n",
        "#to check index"
      ],
      "execution_count": 0,
      "outputs": [
        {
          "output_type": "execute_result",
          "data": {
            "text/plain": [
              "4"
            ]
          },
          "metadata": {
            "tags": []
          },
          "execution_count": 2
        }
      ]
    },
    {
      "cell_type": "code",
      "metadata": {
        "id": "-LKVZ7o_kVCQ",
        "colab_type": "code",
        "outputId": "3e30d343-edfa-4548-c2e5-04f8cb7752f7",
        "colab": {
          "base_uri": "https://localhost:8080/",
          "height": 34
        }
      },
      "source": [
        "list[0]\n",
        "#to to find value through index"
      ],
      "execution_count": 0,
      "outputs": [
        {
          "output_type": "execute_result",
          "data": {
            "text/plain": [
              "1"
            ]
          },
          "metadata": {
            "tags": []
          },
          "execution_count": 3
        }
      ]
    },
    {
      "cell_type": "code",
      "metadata": {
        "id": "BEh4OiEToaz5",
        "colab_type": "code",
        "outputId": "9a5d4853-c8dc-473a-e121-2ce610d32ea0",
        "colab": {
          "base_uri": "https://localhost:8080/",
          "height": 34
        }
      },
      "source": [
        "list.append(12)#to insert value to list at last on the list\n",
        "list#i run the cell twice through which two 12 values are there"
      ],
      "execution_count": 0,
      "outputs": [
        {
          "output_type": "execute_result",
          "data": {
            "text/plain": [
              "[1, 2, 11, 11, 3, 4, 5, 6, 7, 8, 9, 10, 12, 12]"
            ]
          },
          "metadata": {
            "tags": []
          },
          "execution_count": 9
        }
      ]
    },
    {
      "cell_type": "code",
      "metadata": {
        "id": "ig0ktlwjkVHQ",
        "colab_type": "code",
        "outputId": "f21ca85c-c552-4592-f35f-e24a9be4ebe8",
        "colab": {
          "base_uri": "https://localhost:8080/",
          "height": 34
        }
      },
      "source": [
        "list.insert(2,11)#to insert value in list at called index\n",
        "list#i run the cell twice through which two 11 values are there"
      ],
      "execution_count": 0,
      "outputs": [
        {
          "output_type": "execute_result",
          "data": {
            "text/plain": [
              "[1, 2, 11, 11, 3, 4, 5, 6, 7, 8, 9, 10]"
            ]
          },
          "metadata": {
            "tags": []
          },
          "execution_count": 7
        }
      ]
    },
    {
      "cell_type": "code",
      "metadata": {
        "id": "5GD4wpEEkVFM",
        "colab_type": "code",
        "colab": {}
      },
      "source": [
        "list.remove(11)#del by value"
      ],
      "execution_count": 0,
      "outputs": []
    },
    {
      "cell_type": "code",
      "metadata": {
        "id": "p57XBphFm6MC",
        "colab_type": "code",
        "outputId": "69efbf15-4641-4367-c0b2-b8afd9b5868a",
        "colab": {
          "base_uri": "https://localhost:8080/",
          "height": 34
        }
      },
      "source": [
        "list"
      ],
      "execution_count": 0,
      "outputs": [
        {
          "output_type": "execute_result",
          "data": {
            "text/plain": [
              "[1, 2, 11, 3, 4, 5, 6, 7, 8, 9, 10, 12, 12]"
            ]
          },
          "metadata": {
            "tags": []
          },
          "execution_count": 12
        }
      ]
    },
    {
      "cell_type": "code",
      "metadata": {
        "id": "Ur8AA51jm6O5",
        "colab_type": "code",
        "outputId": "491caf28-901f-44d9-88f0-87b54e19317a",
        "colab": {
          "base_uri": "https://localhost:8080/",
          "height": 34
        }
      },
      "source": [
        "del list[11]#del by index\n",
        "list"
      ],
      "execution_count": 0,
      "outputs": [
        {
          "output_type": "execute_result",
          "data": {
            "text/plain": [
              "[1, 2, 11, 3, 4, 5, 6, 7, 8, 9, 10, 12]"
            ]
          },
          "metadata": {
            "tags": []
          },
          "execution_count": 13
        }
      ]
    },
    {
      "cell_type": "code",
      "metadata": {
        "id": "2UlMcp-wm6Uv",
        "colab_type": "code",
        "outputId": "65d7dc77-1a52-4f63-f0df-c6c86a4cee7b",
        "colab": {
          "base_uri": "https://localhost:8080/",
          "height": 34
        }
      },
      "source": [
        "len(list)#length of list (length of list start from 1 while indexing start from 0) "
      ],
      "execution_count": 0,
      "outputs": [
        {
          "output_type": "execute_result",
          "data": {
            "text/plain": [
              "12"
            ]
          },
          "metadata": {
            "tags": []
          },
          "execution_count": 15
        }
      ]
    },
    {
      "cell_type": "code",
      "metadata": {
        "id": "b8XBfBA5m6TV",
        "colab_type": "code",
        "colab": {}
      },
      "source": [
        "list_in_list=[\"saim\",\"sameer\",\"emaad\",list]#list in list"
      ],
      "execution_count": 0,
      "outputs": []
    },
    {
      "cell_type": "code",
      "metadata": {
        "id": "o8ztYnG4m6Rl",
        "colab_type": "code",
        "outputId": "db365588-803b-4ede-f0ae-88ee0920a29a",
        "colab": {
          "base_uri": "https://localhost:8080/",
          "height": 34
        }
      },
      "source": [
        "list_in_list"
      ],
      "execution_count": 0,
      "outputs": [
        {
          "output_type": "execute_result",
          "data": {
            "text/plain": [
              "['saim', 'sameer', 'emaad', [1, 2, 11, 3, 4, 5, 6, 7, 8, 9, 10, 12]]"
            ]
          },
          "metadata": {
            "tags": []
          },
          "execution_count": 17
        }
      ]
    },
    {
      "cell_type": "code",
      "metadata": {
        "id": "1RPUJSWkkVA1",
        "colab_type": "code",
        "outputId": "4264ef30-7cbb-4ce9-b096-7915323e9771",
        "colab": {
          "base_uri": "https://localhost:8080/",
          "height": 34
        }
      },
      "source": [
        "len(list_in_list)"
      ],
      "execution_count": 0,
      "outputs": [
        {
          "output_type": "execute_result",
          "data": {
            "text/plain": [
              "4"
            ]
          },
          "metadata": {
            "tags": []
          },
          "execution_count": 18
        }
      ]
    },
    {
      "cell_type": "code",
      "metadata": {
        "id": "WxnZXb3okU9A",
        "colab_type": "code",
        "outputId": "a774d82a-a538-40e7-c216-1ddf27a2057c",
        "colab": {
          "base_uri": "https://localhost:8080/",
          "height": 34
        }
      },
      "source": [
        "list_in_list[3][5]"
      ],
      "execution_count": 0,
      "outputs": [
        {
          "output_type": "execute_result",
          "data": {
            "text/plain": [
              "5"
            ]
          },
          "metadata": {
            "tags": []
          },
          "execution_count": 19
        }
      ]
    },
    {
      "cell_type": "code",
      "metadata": {
        "id": "wSNeFkCUtPyY",
        "colab_type": "code",
        "outputId": "94093b0c-b10c-4f8b-fa65-03da9497dfba",
        "colab": {
          "base_uri": "https://localhost:8080/",
          "height": 34
        }
      },
      "source": [
        "4 in list_in_list"
      ],
      "execution_count": 0,
      "outputs": [
        {
          "output_type": "execute_result",
          "data": {
            "text/plain": [
              "False"
            ]
          },
          "metadata": {
            "tags": []
          },
          "execution_count": 56
        }
      ]
    },
    {
      "cell_type": "code",
      "metadata": {
        "id": "hdD9mWgttVvC",
        "colab_type": "code",
        "outputId": "2b3be2e8-ab5c-432c-8546-c71542f40d64",
        "colab": {
          "base_uri": "https://localhost:8080/",
          "height": 34
        }
      },
      "source": [
        "4 in list_in_list[3]"
      ],
      "execution_count": 0,
      "outputs": [
        {
          "output_type": "execute_result",
          "data": {
            "text/plain": [
              "True"
            ]
          },
          "metadata": {
            "tags": []
          },
          "execution_count": 57
        }
      ]
    },
    {
      "cell_type": "code",
      "metadata": {
        "id": "M94VaKhmqYrJ",
        "colab_type": "code",
        "colab": {}
      },
      "source": [
        "newlist=[\"blue\",\"red\",\"yellow\",\"pink\",\"black\",\"white\",\"orange\"]"
      ],
      "execution_count": 0,
      "outputs": []
    },
    {
      "cell_type": "code",
      "metadata": {
        "id": "shEcY7egqs6f",
        "colab_type": "code",
        "colab": {}
      },
      "source": [
        "colours=newlist.copy()#first method to copy list"
      ],
      "execution_count": 0,
      "outputs": []
    },
    {
      "cell_type": "code",
      "metadata": {
        "id": "t20hiK_vq1ow",
        "colab_type": "code",
        "outputId": "26aa43d8-cab3-4712-c208-2dfa759c98be",
        "colab": {
          "base_uri": "https://localhost:8080/",
          "height": 34
        }
      },
      "source": [
        "colours"
      ],
      "execution_count": 0,
      "outputs": [
        {
          "output_type": "execute_result",
          "data": {
            "text/plain": [
              "['blue', 'red', 'yellow', 'pink', 'black', 'white', 'orange']"
            ]
          },
          "metadata": {
            "tags": []
          },
          "execution_count": 42
        }
      ]
    },
    {
      "cell_type": "code",
      "metadata": {
        "id": "VlotyFzorBqY",
        "colab_type": "code",
        "colab": {}
      },
      "source": [
        "some_colours=colours[:]#second method"
      ],
      "execution_count": 0,
      "outputs": []
    },
    {
      "cell_type": "code",
      "metadata": {
        "id": "v6yv8i9XrNKv",
        "colab_type": "code",
        "outputId": "3d2d3d14-2394-4b9b-8c3e-2263d64a259a",
        "colab": {
          "base_uri": "https://localhost:8080/",
          "height": 34
        }
      },
      "source": [
        "some_colours"
      ],
      "execution_count": 0,
      "outputs": [
        {
          "output_type": "execute_result",
          "data": {
            "text/plain": [
              "['blue', 'red', 'yellow', 'pink', 'black', 'white', 'orange']"
            ]
          },
          "metadata": {
            "tags": []
          },
          "execution_count": 68
        }
      ]
    },
    {
      "cell_type": "code",
      "metadata": {
        "id": "dL93tV01rRfI",
        "colab_type": "code",
        "colab": {}
      },
      "source": [
        "some_colours.clear()#to clear the list"
      ],
      "execution_count": 0,
      "outputs": []
    },
    {
      "cell_type": "code",
      "metadata": {
        "id": "4XqP_Y4WrVkP",
        "colab_type": "code",
        "outputId": "dca1c556-95ec-438f-b5af-16b67cca6d8a",
        "colab": {
          "base_uri": "https://localhost:8080/",
          "height": 34
        }
      },
      "source": [
        "some_colours"
      ],
      "execution_count": 0,
      "outputs": [
        {
          "output_type": "execute_result",
          "data": {
            "text/plain": [
              "[]"
            ]
          },
          "metadata": {
            "tags": []
          },
          "execution_count": 46
        }
      ]
    },
    {
      "cell_type": "code",
      "metadata": {
        "id": "iNjo8EbIrXKg",
        "colab_type": "code",
        "colab": {}
      },
      "source": [
        "list_a=['a','b','b','c','d','e','e','e']"
      ],
      "execution_count": 0,
      "outputs": []
    },
    {
      "cell_type": "code",
      "metadata": {
        "id": "V5XGp8Qcrz48",
        "colab_type": "code",
        "outputId": "6b401781-13c7-43f5-9ee9-7b3f6e368419",
        "colab": {
          "base_uri": "https://localhost:8080/",
          "height": 34
        }
      },
      "source": [
        "list_a.index('b',2)"
      ],
      "execution_count": 0,
      "outputs": [
        {
          "output_type": "execute_result",
          "data": {
            "text/plain": [
              "2"
            ]
          },
          "metadata": {
            "tags": []
          },
          "execution_count": 48
        }
      ]
    },
    {
      "cell_type": "code",
      "metadata": {
        "id": "p_2x3ReBrz2h",
        "colab_type": "code",
        "outputId": "7f2592e5-ac2c-411a-d631-26d6588c6098",
        "colab": {
          "base_uri": "https://localhost:8080/",
          "height": 34
        }
      },
      "source": [
        "list_a.index('e',2)"
      ],
      "execution_count": 0,
      "outputs": [
        {
          "output_type": "execute_result",
          "data": {
            "text/plain": [
              "5"
            ]
          },
          "metadata": {
            "tags": []
          },
          "execution_count": 50
        }
      ]
    },
    {
      "cell_type": "code",
      "metadata": {
        "id": "YrZ0l3i9rzz0",
        "colab_type": "code",
        "colab": {}
      },
      "source": [
        "del list_a[5]"
      ],
      "execution_count": 0,
      "outputs": []
    },
    {
      "cell_type": "code",
      "metadata": {
        "id": "6Aoy6tBrrzxP",
        "colab_type": "code",
        "outputId": "e64b838f-7a7b-4a3a-a4eb-2240239258c8",
        "colab": {
          "base_uri": "https://localhost:8080/",
          "height": 34
        }
      },
      "source": [
        "list_a"
      ],
      "execution_count": 0,
      "outputs": [
        {
          "output_type": "execute_result",
          "data": {
            "text/plain": [
              "['a', 'b', 'b', 'c', 'd', 'e', 'e']"
            ]
          },
          "metadata": {
            "tags": []
          },
          "execution_count": 53
        }
      ]
    },
    {
      "cell_type": "code",
      "metadata": {
        "id": "7_1N7ceOrzrk",
        "colab_type": "code",
        "outputId": "de6a143f-0492-438b-950b-e431eae8e8f9",
        "colab": {
          "base_uri": "https://localhost:8080/",
          "height": 34
        }
      },
      "source": [
        "4 in list_a"
      ],
      "execution_count": 0,
      "outputs": [
        {
          "output_type": "execute_result",
          "data": {
            "text/plain": [
              "False"
            ]
          },
          "metadata": {
            "tags": []
          },
          "execution_count": 54
        }
      ]
    },
    {
      "cell_type": "code",
      "metadata": {
        "id": "pocpV_8nrzpR",
        "colab_type": "code",
        "outputId": "ea0ed66e-d775-4a16-a512-9842d8cd9f8b",
        "colab": {
          "base_uri": "https://localhost:8080/",
          "height": 34
        }
      },
      "source": [
        "'c' in list_a"
      ],
      "execution_count": 0,
      "outputs": [
        {
          "output_type": "execute_result",
          "data": {
            "text/plain": [
              "True"
            ]
          },
          "metadata": {
            "tags": []
          },
          "execution_count": 55
        }
      ]
    },
    {
      "cell_type": "markdown",
      "metadata": {
        "id": "G9AamLHMwjr1",
        "colab_type": "text"
      },
      "source": [
        "# slicing"
      ]
    },
    {
      "cell_type": "code",
      "metadata": {
        "id": "gqaNHKIUrzmi",
        "colab_type": "code",
        "colab": {}
      },
      "source": [
        "slice=[1,2,3,4,5,6,7]\n",
        "#index=0,1,2,3,4,5,6"
      ],
      "execution_count": 0,
      "outputs": []
    },
    {
      "cell_type": "code",
      "metadata": {
        "id": "9Wo8QZ01rzio",
        "colab_type": "code",
        "outputId": "64cdffc2-5269-4e40-b0fa-30b92a1950c5",
        "colab": {
          "base_uri": "https://localhost:8080/",
          "height": 34
        }
      },
      "source": [
        "s=slice[2:]\n",
        "s"
      ],
      "execution_count": 0,
      "outputs": [
        {
          "output_type": "execute_result",
          "data": {
            "text/plain": [
              "[3, 4, 5, 6, 7]"
            ]
          },
          "metadata": {
            "tags": []
          },
          "execution_count": 59
        }
      ]
    },
    {
      "cell_type": "code",
      "metadata": {
        "id": "S8g2Ch5grzgc",
        "colab_type": "code",
        "colab": {}
      },
      "source": [
        "s=slice[2:4]"
      ],
      "execution_count": 0,
      "outputs": []
    },
    {
      "cell_type": "code",
      "metadata": {
        "id": "_5L1agCqrzdM",
        "colab_type": "code",
        "outputId": "98a7c39e-f730-4eeb-828f-27da721f7510",
        "colab": {
          "base_uri": "https://localhost:8080/",
          "height": 34
        }
      },
      "source": [
        "s"
      ],
      "execution_count": 0,
      "outputs": [
        {
          "output_type": "execute_result",
          "data": {
            "text/plain": [
              "[3, 4]"
            ]
          },
          "metadata": {
            "tags": []
          },
          "execution_count": 61
        }
      ]
    },
    {
      "cell_type": "code",
      "metadata": {
        "id": "vXFUk4CyxB29",
        "colab_type": "code",
        "colab": {}
      },
      "source": [
        "s=slice[2:5]"
      ],
      "execution_count": 0,
      "outputs": []
    },
    {
      "cell_type": "code",
      "metadata": {
        "id": "evC5HFiFxD4_",
        "colab_type": "code",
        "outputId": "bc8cfc76-aac6-4a55-9c3f-580a3993ae03",
        "colab": {
          "base_uri": "https://localhost:8080/",
          "height": 34
        }
      },
      "source": [
        "s"
      ],
      "execution_count": 0,
      "outputs": [
        {
          "output_type": "execute_result",
          "data": {
            "text/plain": [
              "[3, 4, 5]"
            ]
          },
          "metadata": {
            "tags": []
          },
          "execution_count": 63
        }
      ]
    },
    {
      "cell_type": "code",
      "metadata": {
        "id": "K68R8PrGxE3s",
        "colab_type": "code",
        "outputId": "dc9dd898-9162-413f-e246-531c2e28edab",
        "colab": {
          "base_uri": "https://localhost:8080/",
          "height": 34
        }
      },
      "source": [
        "s=slice[:6]\n",
        "s"
      ],
      "execution_count": 0,
      "outputs": [
        {
          "output_type": "execute_result",
          "data": {
            "text/plain": [
              "[1, 2, 3, 4, 5, 6]"
            ]
          },
          "metadata": {
            "tags": []
          },
          "execution_count": 64
        }
      ]
    },
    {
      "cell_type": "markdown",
      "metadata": {
        "id": "8gGzIo3xx4zH",
        "colab_type": "text"
      },
      "source": [
        "# NEGATIVE INDEXING"
      ]
    },
    {
      "cell_type": "code",
      "metadata": {
        "id": "rFNXkfCsxLOr",
        "colab_type": "code",
        "colab": {}
      },
      "source": [
        " neg=[21,65,423,78,3,15,7]\n",
        "#ind= -7,-6,-5,-4,-3-2,-1\n",
        "#ind= 0, 1,  2,  3,4, 5,6"
      ],
      "execution_count": 0,
      "outputs": []
    },
    {
      "cell_type": "code",
      "metadata": {
        "id": "eTG-ceU7yc6r",
        "colab_type": "code",
        "outputId": "79fe2ece-ebb1-47ce-bf0c-f99e080dd378",
        "colab": {
          "base_uri": "https://localhost:8080/",
          "height": 34
        }
      },
      "source": [
        "n=neg[:]\n",
        "n"
      ],
      "execution_count": 0,
      "outputs": [
        {
          "output_type": "execute_result",
          "data": {
            "text/plain": [
              "[21, 65, 423, 78, 3, 15, 7]"
            ]
          },
          "metadata": {
            "tags": []
          },
          "execution_count": 70
        }
      ]
    },
    {
      "cell_type": "code",
      "metadata": {
        "id": "5_BB2MvVyhxy",
        "colab_type": "code",
        "outputId": "99428df0-b0a6-465b-b286-c6c0ed1305a7",
        "colab": {
          "base_uri": "https://localhost:8080/",
          "height": 34
        }
      },
      "source": [
        "n=neg[-4:]\n",
        "n"
      ],
      "execution_count": 0,
      "outputs": [
        {
          "output_type": "execute_result",
          "data": {
            "text/plain": [
              "[78, 3, 15, 7]"
            ]
          },
          "metadata": {
            "tags": []
          },
          "execution_count": 72
        }
      ]
    },
    {
      "cell_type": "code",
      "metadata": {
        "id": "3H1KN-DkyoDL",
        "colab_type": "code",
        "outputId": "0da608bd-de95-42c3-c40c-066f5f029bc7",
        "colab": {
          "base_uri": "https://localhost:8080/",
          "height": 34
        }
      },
      "source": [
        "n=neg[-5:2]#slicing always be in index\n",
        "n"
      ],
      "execution_count": 0,
      "outputs": [
        {
          "output_type": "execute_result",
          "data": {
            "text/plain": [
              "[]"
            ]
          },
          "metadata": {
            "tags": []
          },
          "execution_count": 74
        }
      ]
    },
    {
      "cell_type": "code",
      "metadata": {
        "id": "XE8CbKRdyyNZ",
        "colab_type": "code",
        "outputId": "6bab5e6b-4903-4444-ac2f-b6bae6233282",
        "colab": {
          "base_uri": "https://localhost:8080/",
          "height": 34
        }
      },
      "source": [
        "n=neg[-6:-3]\n",
        "n"
      ],
      "execution_count": 0,
      "outputs": [
        {
          "output_type": "execute_result",
          "data": {
            "text/plain": [
              "[65, 423, 78]"
            ]
          },
          "metadata": {
            "tags": []
          },
          "execution_count": 76
        }
      ]
    },
    {
      "cell_type": "markdown",
      "metadata": {
        "id": "xKloSmFZzS8R",
        "colab_type": "text"
      },
      "source": [
        "# popping"
      ]
    },
    {
      "cell_type": "code",
      "metadata": {
        "id": "Ky1OfA8IzCEZ",
        "colab_type": "code",
        "colab": {}
      },
      "source": [
        "listn=['a','e','i','o','u']"
      ],
      "execution_count": 0,
      "outputs": []
    },
    {
      "cell_type": "code",
      "metadata": {
        "id": "dr2xe51U0IWE",
        "colab_type": "code",
        "outputId": "42a6d928-3c0c-4e59-acd5-d364d045c0a5",
        "colab": {
          "base_uri": "https://localhost:8080/",
          "height": 50
        }
      },
      "source": [
        "a=listn.pop()\n",
        "print(listn)\n",
        "a"
      ],
      "execution_count": 0,
      "outputs": [
        {
          "output_type": "stream",
          "text": [
            "['a', 'e', 'i']\n"
          ],
          "name": "stdout"
        },
        {
          "output_type": "execute_result",
          "data": {
            "text/plain": [
              "'o'"
            ]
          },
          "metadata": {
            "tags": []
          },
          "execution_count": 87
        }
      ]
    },
    {
      "cell_type": "code",
      "metadata": {
        "id": "aCI_U6ofz5RI",
        "colab_type": "code",
        "colab": {}
      },
      "source": [
        "list5=['asad','hamza','ali','asad','saad']"
      ],
      "execution_count": 0,
      "outputs": []
    },
    {
      "cell_type": "code",
      "metadata": {
        "id": "Z_dfiOEh0SR3",
        "colab_type": "code",
        "colab": {}
      },
      "source": [
        "poppedlist=[]"
      ],
      "execution_count": 0,
      "outputs": []
    },
    {
      "cell_type": "code",
      "metadata": {
        "id": "fTP_nQ1E0T3v",
        "colab_type": "code",
        "colab": {}
      },
      "source": [
        "poppedvalue=list5.pop()\n",
        "poppedlist.append(poppedvalue)"
      ],
      "execution_count": 0,
      "outputs": []
    },
    {
      "cell_type": "code",
      "metadata": {
        "id": "zKUXuGIo0dDd",
        "colab_type": "code",
        "outputId": "3f4af305-d3fe-4735-ca9c-98cc5c5ccede",
        "colab": {
          "base_uri": "https://localhost:8080/",
          "height": 34
        }
      },
      "source": [
        "poppedlist#after running 5 times"
      ],
      "execution_count": 0,
      "outputs": [
        {
          "output_type": "execute_result",
          "data": {
            "text/plain": [
              "['saad', 'asad', 'ali', 'hamza', 'asad']"
            ]
          },
          "metadata": {
            "tags": []
          },
          "execution_count": 99
        }
      ]
    },
    {
      "cell_type": "code",
      "metadata": {
        "id": "AVaAlZ720h4v",
        "colab_type": "code",
        "colab": {}
      },
      "source": [
        "listu=[1,2,3,4,5,6,7,8,9,10]\n",
        "listu[3]=\"kuch aur\""
      ],
      "execution_count": 0,
      "outputs": []
    },
    {
      "cell_type": "code",
      "metadata": {
        "id": "BLRkNDQU1Lyu",
        "colab_type": "code",
        "outputId": "5af2cc2d-ada5-4939-d267-afb8ce37530e",
        "colab": {
          "base_uri": "https://localhost:8080/",
          "height": 34
        }
      },
      "source": [
        "listu"
      ],
      "execution_count": 0,
      "outputs": [
        {
          "output_type": "execute_result",
          "data": {
            "text/plain": [
              "[1, 2, 3, 'kuch aur', 5, 6, 7, 8, 9, 10]"
            ]
          },
          "metadata": {
            "tags": []
          },
          "execution_count": 101
        }
      ]
    },
    {
      "cell_type": "code",
      "metadata": {
        "id": "SQG6M_al1cEV",
        "colab_type": "code",
        "outputId": "c1e10a03-d8ad-410f-9dbc-4f5f8772e196",
        "colab": {
          "base_uri": "https://localhost:8080/",
          "height": 34
        }
      },
      "source": [
        "listv=['rao anwar','billadin']\n",
        "listu+=listv\n",
        "listu"
      ],
      "execution_count": 0,
      "outputs": [
        {
          "output_type": "execute_result",
          "data": {
            "text/plain": [
              "[1, 2, 3, 'kuch aur', 5, 6, 7, 8, 9, 10, 'rao anwar', 'billadin']"
            ]
          },
          "metadata": {
            "tags": []
          },
          "execution_count": 103
        }
      ]
    },
    {
      "cell_type": "markdown",
      "metadata": {
        "id": "vDPmOZaq1PQr",
        "colab_type": "text"
      },
      "source": [
        "# tuples"
      ]
    },
    {
      "cell_type": "code",
      "metadata": {
        "id": "IJKpDsX21NGe",
        "colab_type": "code",
        "colab": {}
      },
      "source": [
        "city=('khi','lhr','isl','psh','que','hyd','ght')"
      ],
      "execution_count": 0,
      "outputs": []
    },
    {
      "cell_type": "code",
      "metadata": {
        "id": "Dpo-rqc42HIk",
        "colab_type": "code",
        "outputId": "123b639d-e0b0-4dda-d243-494f8b81347d",
        "colab": {
          "base_uri": "https://localhost:8080/",
          "height": 34
        }
      },
      "source": [
        "city[2]"
      ],
      "execution_count": 0,
      "outputs": [
        {
          "output_type": "execute_result",
          "data": {
            "text/plain": [
              "'isl'"
            ]
          },
          "metadata": {
            "tags": []
          },
          "execution_count": 105
        }
      ]
    },
    {
      "cell_type": "code",
      "metadata": {
        "id": "K5ki7dm62JND",
        "colab_type": "code",
        "outputId": "05983e0a-cda6-4af4-de09-ecd773040edd",
        "colab": {
          "base_uri": "https://localhost:8080/",
          "height": 162
        }
      },
      "source": [
        "city[2]='naya'# tuple is immutable"
      ],
      "execution_count": 0,
      "outputs": [
        {
          "output_type": "error",
          "ename": "TypeError",
          "evalue": "ignored",
          "traceback": [
            "\u001b[0;31m---------------------------------------------------------------------------\u001b[0m",
            "\u001b[0;31mTypeError\u001b[0m                                 Traceback (most recent call last)",
            "\u001b[0;32m<ipython-input-108-24268a5e3f6a>\u001b[0m in \u001b[0;36m<module>\u001b[0;34m()\u001b[0m\n\u001b[0;32m----> 1\u001b[0;31m \u001b[0mcity\u001b[0m\u001b[0;34m[\u001b[0m\u001b[0;36m2\u001b[0m\u001b[0;34m]\u001b[0m\u001b[0;34m=\u001b[0m\u001b[0;34m'naya'\u001b[0m\u001b[0;31m# tuple is immutable\u001b[0m\u001b[0;34m\u001b[0m\u001b[0;34m\u001b[0m\u001b[0m\n\u001b[0m",
            "\u001b[0;31mTypeError\u001b[0m: 'tuple' object does not support item assignment"
          ]
        }
      ]
    },
    {
      "cell_type": "code",
      "metadata": {
        "id": "VfQQ3lDg2Ljz",
        "colab_type": "code",
        "colab": {}
      },
      "source": [
        "city='khi', 'lhr' ,'lhr' ,'lhr'  , 'khi', 'khi'"
      ],
      "execution_count": 0,
      "outputs": []
    },
    {
      "cell_type": "code",
      "metadata": {
        "id": "pnK-BQFb2ZO7",
        "colab_type": "code",
        "outputId": "a0870351-f27d-4ec4-a164-08dc0dd86696",
        "colab": {
          "base_uri": "https://localhost:8080/",
          "height": 34
        }
      },
      "source": [
        "city#python make it tuple"
      ],
      "execution_count": 0,
      "outputs": [
        {
          "output_type": "execute_result",
          "data": {
            "text/plain": [
              "('khi', 'lhr', 'lhr', 'lhr', 'khi', 'khi')"
            ]
          },
          "metadata": {
            "tags": []
          },
          "execution_count": 113
        }
      ]
    },
    {
      "cell_type": "code",
      "metadata": {
        "id": "0CHa8_512aqD",
        "colab_type": "code",
        "outputId": "59c39ca3-c669-4d72-ec48-07b6dcba824b",
        "colab": {
          "base_uri": "https://localhost:8080/",
          "height": 34
        }
      },
      "source": [
        "city.count('khi')"
      ],
      "execution_count": 0,
      "outputs": [
        {
          "output_type": "execute_result",
          "data": {
            "text/plain": [
              "3"
            ]
          },
          "metadata": {
            "tags": []
          },
          "execution_count": 115
        }
      ]
    },
    {
      "cell_type": "code",
      "metadata": {
        "id": "_T9sTluv2qe5",
        "colab_type": "code",
        "outputId": "c98a09f7-e871-4f8d-bb40-9c7b1268ccab",
        "colab": {
          "base_uri": "https://localhost:8080/",
          "height": 34
        }
      },
      "source": [
        "city.index('lhr',2)"
      ],
      "execution_count": 0,
      "outputs": [
        {
          "output_type": "execute_result",
          "data": {
            "text/plain": [
              "2"
            ]
          },
          "metadata": {
            "tags": []
          },
          "execution_count": 116
        }
      ]
    },
    {
      "cell_type": "code",
      "metadata": {
        "id": "qOR789a_2zqc",
        "colab_type": "code",
        "outputId": "0fc5e52d-a0a5-4f25-ca46-a1371fc253de",
        "colab": {
          "base_uri": "https://localhost:8080/",
          "height": 34
        }
      },
      "source": [
        "city.index('khi',2)"
      ],
      "execution_count": 0,
      "outputs": [
        {
          "output_type": "execute_result",
          "data": {
            "text/plain": [
              "4"
            ]
          },
          "metadata": {
            "tags": []
          },
          "execution_count": 117
        }
      ]
    },
    {
      "cell_type": "code",
      "metadata": {
        "id": "pPx-qoJ825z6",
        "colab_type": "code",
        "outputId": "81de812a-1b7d-4d6d-a44f-e9f080bdfe10",
        "colab": {
          "base_uri": "https://localhost:8080/",
          "height": 34
        }
      },
      "source": [
        "nums=(111,222,333)#packing\n",
        "nums"
      ],
      "execution_count": 0,
      "outputs": [
        {
          "output_type": "execute_result",
          "data": {
            "text/plain": [
              "(111, 222, 333)"
            ]
          },
          "metadata": {
            "tags": []
          },
          "execution_count": 118
        }
      ]
    },
    {
      "cell_type": "code",
      "metadata": {
        "id": "VJpvSBvI3Kah",
        "colab_type": "code",
        "colab": {}
      },
      "source": [
        "l,b,c=nums#unpacking of tuple"
      ],
      "execution_count": 0,
      "outputs": []
    },
    {
      "cell_type": "code",
      "metadata": {
        "id": "ldIuQofs3ONp",
        "colab_type": "code",
        "outputId": "8ae2d873-e1f3-48e0-b8c8-d6d84d5ebf13",
        "colab": {
          "base_uri": "https://localhost:8080/",
          "height": 34
        }
      },
      "source": [
        "l"
      ],
      "execution_count": 0,
      "outputs": [
        {
          "output_type": "execute_result",
          "data": {
            "text/plain": [
              "111"
            ]
          },
          "metadata": {
            "tags": []
          },
          "execution_count": 120
        }
      ]
    },
    {
      "cell_type": "code",
      "metadata": {
        "id": "yub2cFW03PBK",
        "colab_type": "code",
        "outputId": "21074ae3-5622-431a-93fe-817fe8100552",
        "colab": {
          "base_uri": "https://localhost:8080/",
          "height": 34
        }
      },
      "source": [
        "b"
      ],
      "execution_count": 0,
      "outputs": [
        {
          "output_type": "execute_result",
          "data": {
            "text/plain": [
              "222"
            ]
          },
          "metadata": {
            "tags": []
          },
          "execution_count": 121
        }
      ]
    },
    {
      "cell_type": "code",
      "metadata": {
        "id": "6vHewLZl3PgI",
        "colab_type": "code",
        "outputId": "5428931f-7b85-4ae9-9376-5b66537ac0c4",
        "colab": {
          "base_uri": "https://localhost:8080/",
          "height": 34
        }
      },
      "source": [
        "c"
      ],
      "execution_count": 0,
      "outputs": [
        {
          "output_type": "execute_result",
          "data": {
            "text/plain": [
              "333"
            ]
          },
          "metadata": {
            "tags": []
          },
          "execution_count": 122
        }
      ]
    },
    {
      "cell_type": "code",
      "metadata": {
        "id": "qOO803713PvD",
        "colab_type": "code",
        "outputId": "44556041-a7f8-4319-ac84-f29e35ccff19",
        "colab": {
          "base_uri": "https://localhost:8080/",
          "height": 34
        }
      },
      "source": [
        "num=[1112,33331,12313]#packing of list\n",
        "num"
      ],
      "execution_count": 0,
      "outputs": [
        {
          "output_type": "execute_result",
          "data": {
            "text/plain": [
              "[1112, 33331, 12313]"
            ]
          },
          "metadata": {
            "tags": []
          },
          "execution_count": 123
        }
      ]
    },
    {
      "cell_type": "code",
      "metadata": {
        "id": "xIruUQap3Yz5",
        "colab_type": "code",
        "colab": {}
      },
      "source": [
        "a,b,c=num#unpacking of list"
      ],
      "execution_count": 0,
      "outputs": []
    },
    {
      "cell_type": "code",
      "metadata": {
        "id": "KaZr5cvG3bZx",
        "colab_type": "code",
        "outputId": "1af2498a-12fa-44be-f64f-71875387fe13",
        "colab": {
          "base_uri": "https://localhost:8080/",
          "height": 34
        }
      },
      "source": [
        "a\n"
      ],
      "execution_count": 0,
      "outputs": [
        {
          "output_type": "execute_result",
          "data": {
            "text/plain": [
              "1112"
            ]
          },
          "metadata": {
            "tags": []
          },
          "execution_count": 125
        }
      ]
    },
    {
      "cell_type": "code",
      "metadata": {
        "id": "Ka694pKo3b3Y",
        "colab_type": "code",
        "outputId": "a3e289f0-68cf-4f34-d3b1-34a5b31d84ac",
        "colab": {
          "base_uri": "https://localhost:8080/",
          "height": 34
        }
      },
      "source": [
        "b"
      ],
      "execution_count": 0,
      "outputs": [
        {
          "output_type": "execute_result",
          "data": {
            "text/plain": [
              "33331"
            ]
          },
          "metadata": {
            "tags": []
          },
          "execution_count": 126
        }
      ]
    },
    {
      "cell_type": "code",
      "metadata": {
        "id": "FPjNtt9S3cOq",
        "colab_type": "code",
        "outputId": "daaf9129-9920-4931-a8f6-77922cac574c",
        "colab": {
          "base_uri": "https://localhost:8080/",
          "height": 34
        }
      },
      "source": [
        "c"
      ],
      "execution_count": 0,
      "outputs": [
        {
          "output_type": "execute_result",
          "data": {
            "text/plain": [
              "12313"
            ]
          },
          "metadata": {
            "tags": []
          },
          "execution_count": 127
        }
      ]
    },
    {
      "cell_type": "markdown",
      "metadata": {
        "id": "6ohx6mcd33dl",
        "colab_type": "text"
      },
      "source": [
        "# for loop"
      ]
    },
    {
      "cell_type": "code",
      "metadata": {
        "id": "dMOC2dP-3ck4",
        "colab_type": "code",
        "outputId": "a0309a64-99d2-4b19-f172-59c54d2612ef",
        "colab": {
          "base_uri": "https://localhost:8080/",
          "height": 168
        }
      },
      "source": [
        "for i in range(1,10):\n",
        "    print(i)"
      ],
      "execution_count": 0,
      "outputs": [
        {
          "output_type": "stream",
          "text": [
            "1\n",
            "2\n",
            "3\n",
            "4\n",
            "5\n",
            "6\n",
            "7\n",
            "8\n",
            "9\n"
          ],
          "name": "stdout"
        }
      ]
    },
    {
      "cell_type": "code",
      "metadata": {
        "id": "KkeHDcBj372z",
        "colab_type": "code",
        "outputId": "a2b890c8-8ea5-4086-eaae-2d1c74f4c7ef",
        "colab": {
          "base_uri": "https://localhost:8080/",
          "height": 34
        }
      },
      "source": [
        "for i in range(1,11):\n",
        "  print(i,end=' ')"
      ],
      "execution_count": 0,
      "outputs": [
        {
          "output_type": "stream",
          "text": [
            "1 2 3 4 5 6 7 8 9 10 "
          ],
          "name": "stdout"
        }
      ]
    },
    {
      "cell_type": "code",
      "metadata": {
        "id": "vESb7bO-4CqR",
        "colab_type": "code",
        "outputId": "bb5dbb4b-8787-4da8-fc38-6c7afe5a2fb5",
        "colab": {
          "base_uri": "https://localhost:8080/",
          "height": 151
        }
      },
      "source": [
        "for i in range(0,30,4):#(start,end,step)\n",
        "  print(i)\n"
      ],
      "execution_count": 0,
      "outputs": [
        {
          "output_type": "stream",
          "text": [
            "0\n",
            "4\n",
            "8\n",
            "12\n",
            "16\n",
            "20\n",
            "24\n",
            "28\n"
          ],
          "name": "stdout"
        }
      ]
    },
    {
      "cell_type": "code",
      "metadata": {
        "id": "0HOM8KDe4Vr2",
        "colab_type": "code",
        "outputId": "5c616aed-62e3-4185-913c-c559f7b9490c",
        "colab": {
          "base_uri": "https://localhost:8080/",
          "height": 34
        }
      },
      "source": [
        "for i in range(0,30,4):#(start,end,step)\n",
        "  print(i,end=' ')"
      ],
      "execution_count": 0,
      "outputs": [
        {
          "output_type": "stream",
          "text": [
            "0 4 8 12 16 20 24 28 "
          ],
          "name": "stdout"
        }
      ]
    },
    {
      "cell_type": "code",
      "metadata": {
        "id": "7N6NFIrk4eF_",
        "colab_type": "code",
        "outputId": "bf2d9a32-01b6-4b18-999b-949cfa4386b5",
        "colab": {
          "base_uri": "https://localhost:8080/",
          "height": 151
        }
      },
      "source": [
        "for a in range(1,10):\n",
        "  if a==4:\n",
        "       continue\n",
        "  print(a)"
      ],
      "execution_count": 0,
      "outputs": [
        {
          "output_type": "stream",
          "text": [
            "1\n",
            "2\n",
            "3\n",
            "5\n",
            "6\n",
            "7\n",
            "8\n",
            "9\n"
          ],
          "name": "stdout"
        }
      ]
    },
    {
      "cell_type": "code",
      "metadata": {
        "id": "5yyzVYm24uiH",
        "colab_type": "code",
        "outputId": "0efd2192-5eda-4fd8-8b83-42f67c3d4c08",
        "colab": {
          "base_uri": "https://localhost:8080/",
          "height": 84
        }
      },
      "source": [
        "for a in range(10):\n",
        "  if a==4:\n",
        "    break\n",
        "  print(a)"
      ],
      "execution_count": 0,
      "outputs": [
        {
          "output_type": "stream",
          "text": [
            "0\n",
            "1\n",
            "2\n",
            "3\n"
          ],
          "name": "stdout"
        }
      ]
    },
    {
      "cell_type": "code",
      "metadata": {
        "id": "KrUt-yfL4_MG",
        "colab_type": "code",
        "outputId": "3e4d3138-8d3d-4e05-8c21-a03f4f162498",
        "colab": {
          "base_uri": "https://localhost:8080/",
          "height": 84
        }
      },
      "source": [
        "for a in range(1,10):\n",
        "  if a>4:\n",
        "       continue\n",
        "  print(a)"
      ],
      "execution_count": 0,
      "outputs": [
        {
          "output_type": "stream",
          "text": [
            "1\n",
            "2\n",
            "3\n",
            "4\n"
          ],
          "name": "stdout"
        }
      ]
    },
    {
      "cell_type": "code",
      "metadata": {
        "id": "EEXpQAW25IeH",
        "colab_type": "code",
        "outputId": "2e0dfdd9-6f95-408d-90a6-458da61a13aa",
        "colab": {
          "base_uri": "https://localhost:8080/",
          "height": 84
        }
      },
      "source": [
        "for a in range(1,10):\n",
        "  if a>4:\n",
        "      break\n",
        "  print(a)"
      ],
      "execution_count": 0,
      "outputs": [
        {
          "output_type": "stream",
          "text": [
            "1\n",
            "2\n",
            "3\n",
            "4\n"
          ],
          "name": "stdout"
        }
      ]
    },
    {
      "cell_type": "code",
      "metadata": {
        "id": "di4TLbeV5SK1",
        "colab_type": "code",
        "outputId": "745c98ba-c764-4749-ded8-139544d68c9d",
        "colab": {
          "base_uri": "https://localhost:8080/",
          "height": 67
        }
      },
      "source": [
        "for a in range(1,10):\n",
        "  if a>=4:\n",
        "       continue\n",
        "  print(a)"
      ],
      "execution_count": 0,
      "outputs": [
        {
          "output_type": "stream",
          "text": [
            "1\n",
            "2\n",
            "3\n"
          ],
          "name": "stdout"
        }
      ]
    },
    {
      "cell_type": "code",
      "metadata": {
        "id": "F-8b6dlv5eRF",
        "colab_type": "code",
        "outputId": "68c54971-9b0a-4a57-cee5-2d12272612fe",
        "colab": {
          "base_uri": "https://localhost:8080/",
          "height": 67
        }
      },
      "source": [
        "for a in range(1,10):\n",
        "  if a>=4:\n",
        "       break\n",
        "  print(a)"
      ],
      "execution_count": 0,
      "outputs": [
        {
          "output_type": "stream",
          "text": [
            "1\n",
            "2\n",
            "3\n"
          ],
          "name": "stdout"
        }
      ]
    },
    {
      "cell_type": "code",
      "metadata": {
        "id": "L0cenYos5jVf",
        "colab_type": "code",
        "outputId": "3e83908e-f045-40af-8b41-35fb4b9f9832",
        "colab": {
          "base_uri": "https://localhost:8080/",
          "height": 118
        }
      },
      "source": [
        "for a in range(1,10):\n",
        "  if a<4:\n",
        "       continue\n",
        "  print(a)"
      ],
      "execution_count": 0,
      "outputs": [
        {
          "output_type": "stream",
          "text": [
            "4\n",
            "5\n",
            "6\n",
            "7\n",
            "8\n",
            "9\n"
          ],
          "name": "stdout"
        }
      ]
    },
    {
      "cell_type": "code",
      "metadata": {
        "id": "NQzfGgZS5p_t",
        "colab_type": "code",
        "colab": {}
      },
      "source": [
        "for a in range(1,10):\n",
        "  if a<4:\n",
        "       break\n",
        "  print(a)"
      ],
      "execution_count": 0,
      "outputs": []
    },
    {
      "cell_type": "code",
      "metadata": {
        "id": "JF-qjAlq5vZU",
        "colab_type": "code",
        "outputId": "6c34ad1d-d3ea-4cdc-e699-bccdece0b098",
        "colab": {
          "base_uri": "https://localhost:8080/",
          "height": 168
        }
      },
      "source": [
        "for a in range(10):\n",
        "  if a==4:\n",
        "       continue\n",
        "  print(a)"
      ],
      "execution_count": 0,
      "outputs": [
        {
          "output_type": "stream",
          "text": [
            "0\n",
            "1\n",
            "2\n",
            "3\n",
            "5\n",
            "6\n",
            "7\n",
            "8\n",
            "9\n"
          ],
          "name": "stdout"
        }
      ]
    },
    {
      "cell_type": "code",
      "metadata": {
        "id": "1KObfEIG6R3N",
        "colab_type": "code",
        "outputId": "73a29505-66cc-4bd5-e9d3-28fd8bb55204",
        "colab": {
          "base_uri": "https://localhost:8080/",
          "height": 168
        }
      },
      "source": [
        "fnames=[\"usama\",\"rao\",\"billo\"]\n",
        "lnames=[\"billadin\",\"anwaar\",\"raani\"]\n",
        "for fname in fnames:\n",
        "  for lname in fnames:\n",
        "    print(f'full name is {fname} {lname}')"
      ],
      "execution_count": 0,
      "outputs": [
        {
          "output_type": "stream",
          "text": [
            "full name is usama usama\n",
            "full name is usama rao\n",
            "full name is usama billo\n",
            "full name is rao usama\n",
            "full name is rao rao\n",
            "full name is rao billo\n",
            "full name is billo usama\n",
            "full name is billo rao\n",
            "full name is billo billo\n"
          ],
          "name": "stdout"
        }
      ]
    },
    {
      "cell_type": "code",
      "metadata": {
        "id": "khnZiVCeuXde",
        "colab_type": "code",
        "outputId": "ed9d1c96-a97e-4672-9f90-7589d76f95fa",
        "colab": {
          "base_uri": "https://localhost:8080/",
          "height": 168
        }
      },
      "source": [
        "fnames=[\"usama\",\"rao\",\"billo\"]\n",
        "lnames=[\"billadin\",\"anwaar\",\"raani\"]\n",
        "for fname in fnames:\n",
        "  for lname in fnames:\n",
        "    print(f'full name is {fname} {lname}')"
      ],
      "execution_count": 0,
      "outputs": [
        {
          "output_type": "stream",
          "text": [
            "full name is usama usama\n",
            "full name is usama rao\n",
            "full name is usama billo\n",
            "full name is rao usama\n",
            "full name is rao rao\n",
            "full name is rao billo\n",
            "full name is billo usama\n",
            "full name is billo rao\n",
            "full name is billo billo\n"
          ],
          "name": "stdout"
        }
      ]
    },
    {
      "cell_type": "markdown",
      "metadata": {
        "id": "hgncBpt_xAya",
        "colab_type": "text"
      },
      "source": [
        "# Dictionary"
      ]
    },
    {
      "cell_type": "code",
      "metadata": {
        "id": "RvevStYVuncy",
        "colab_type": "code",
        "colab": {}
      },
      "source": [
        "dic={\"name\":\"saim\",\"age\":17,\"course\":\"PIAIC\",\"sir\":\"sir nasir\"}"
      ],
      "execution_count": 0,
      "outputs": []
    },
    {
      "cell_type": "code",
      "metadata": {
        "id": "TILMCAicxcqS",
        "colab_type": "code",
        "outputId": "6a532be4-3b03-4c1d-972d-158a5a7073a0",
        "colab": {
          "base_uri": "https://localhost:8080/",
          "height": 34
        }
      },
      "source": [
        "dic[\"sir\"]"
      ],
      "execution_count": 0,
      "outputs": [
        {
          "output_type": "execute_result",
          "data": {
            "text/plain": [
              "'sir nasir'"
            ]
          },
          "metadata": {
            "tags": []
          },
          "execution_count": 7
        }
      ]
    },
    {
      "cell_type": "code",
      "metadata": {
        "id": "K-N5WsiLxgK2",
        "colab_type": "code",
        "outputId": "f32728cc-be86-415e-91a8-d8b43ef9f9f3",
        "colab": {
          "base_uri": "https://localhost:8080/",
          "height": 84
        }
      },
      "source": [
        "for key in dic.keys():\n",
        "  print(key)"
      ],
      "execution_count": 0,
      "outputs": [
        {
          "output_type": "stream",
          "text": [
            "name\n",
            "age\n",
            "course\n",
            "sir\n"
          ],
          "name": "stdout"
        }
      ]
    },
    {
      "cell_type": "code",
      "metadata": {
        "id": "zsDGjtFwx7cz",
        "colab_type": "code",
        "outputId": "b766605e-434b-4e12-9ff5-fa814311a193",
        "colab": {
          "base_uri": "https://localhost:8080/",
          "height": 84
        }
      },
      "source": [
        "for value in dic.values():\n",
        "  print(value)"
      ],
      "execution_count": 0,
      "outputs": [
        {
          "output_type": "stream",
          "text": [
            "saim\n",
            "17\n",
            "PIAIC\n",
            "sir nasir\n"
          ],
          "name": "stdout"
        }
      ]
    },
    {
      "cell_type": "code",
      "metadata": {
        "id": "usqZEQlayDGS",
        "colab_type": "code",
        "outputId": "43847107-0cef-4618-dc58-e6ef59833e87",
        "colab": {
          "base_uri": "https://localhost:8080/",
          "height": 84
        }
      },
      "source": [
        "for k,v in dic.items():\n",
        "  print(k,v)"
      ],
      "execution_count": 0,
      "outputs": [
        {
          "output_type": "stream",
          "text": [
            "name saim\n",
            "age 17\n",
            "course PIAIC\n",
            "sir sir nasir\n"
          ],
          "name": "stdout"
        }
      ]
    },
    {
      "cell_type": "code",
      "metadata": {
        "id": "YDaxYTaXyLx0",
        "colab_type": "code",
        "outputId": "e9c63086-8b9b-4f67-b457-72d94b804d80",
        "colab": {
          "base_uri": "https://localhost:8080/",
          "height": 34
        }
      },
      "source": [
        "dic.keys()"
      ],
      "execution_count": 0,
      "outputs": [
        {
          "output_type": "execute_result",
          "data": {
            "text/plain": [
              "dict_keys(['name', 'age', 'course', 'sir'])"
            ]
          },
          "metadata": {
            "tags": []
          },
          "execution_count": 11
        }
      ]
    },
    {
      "cell_type": "code",
      "metadata": {
        "id": "74wEAY9vymJj",
        "colab_type": "code",
        "colab": {}
      },
      "source": [
        "dic['adress']=['Karahi']"
      ],
      "execution_count": 0,
      "outputs": []
    },
    {
      "cell_type": "code",
      "metadata": {
        "id": "kEswPGkky3Uh",
        "colab_type": "code",
        "outputId": "3ed636a9-9f00-4d5b-d36f-b14c22cbcba4",
        "colab": {
          "base_uri": "https://localhost:8080/",
          "height": 101
        }
      },
      "source": [
        "dic"
      ],
      "execution_count": 0,
      "outputs": [
        {
          "output_type": "execute_result",
          "data": {
            "text/plain": [
              "{'adress': ['Karahi'],\n",
              " 'age': 17,\n",
              " 'course': 'PIAIC',\n",
              " 'name': 'saim',\n",
              " 'sir': 'sir nasir'}"
            ]
          },
          "metadata": {
            "tags": []
          },
          "execution_count": 13
        }
      ]
    },
    {
      "cell_type": "code",
      "metadata": {
        "id": "TpcbILtay4I6",
        "colab_type": "code",
        "colab": {}
      },
      "source": [
        "dic[\"phone_no.\"]=33333333300"
      ],
      "execution_count": 0,
      "outputs": []
    },
    {
      "cell_type": "code",
      "metadata": {
        "id": "H-R9e80ezE9j",
        "colab_type": "code",
        "outputId": "ad45bbbe-0217-44b4-e519-479e5c75fb5b",
        "colab": {
          "base_uri": "https://localhost:8080/",
          "height": 118
        }
      },
      "source": [
        "dic"
      ],
      "execution_count": 0,
      "outputs": [
        {
          "output_type": "execute_result",
          "data": {
            "text/plain": [
              "{'adress': ['Karahi'],\n",
              " 'age': 17,\n",
              " 'course': 'PIAIC',\n",
              " 'name': 'saim',\n",
              " 'phone_no.': 33333333300,\n",
              " 'sir': 'sir nasir'}"
            ]
          },
          "metadata": {
            "tags": []
          },
          "execution_count": 15
        }
      ]
    },
    {
      "cell_type": "code",
      "metadata": {
        "id": "srblFNT2zFc4",
        "colab_type": "code",
        "colab": {}
      },
      "source": [
        "dic[\"fruits\"]=[\"mango\",\"apple\",\"banana\",\"peach\"]\n"
      ],
      "execution_count": 0,
      "outputs": []
    },
    {
      "cell_type": "code",
      "metadata": {
        "id": "_i9TsIr40GEG",
        "colab_type": "code",
        "outputId": "f3382b4a-ecff-46c5-f116-51dfe89c3562",
        "colab": {
          "base_uri": "https://localhost:8080/",
          "height": 134
        }
      },
      "source": [
        "dic#list in dictionary"
      ],
      "execution_count": 0,
      "outputs": [
        {
          "output_type": "execute_result",
          "data": {
            "text/plain": [
              "{'adress': ['Karahi'],\n",
              " 'age': 17,\n",
              " 'course': 'PIAIC',\n",
              " 'fruits': ['mango', 'apple', 'banana', 'peach'],\n",
              " 'name': 'saim',\n",
              " 'phone_no.': 33333333300,\n",
              " 'sir': 'sir nasir'}"
            ]
          },
          "metadata": {
            "tags": []
          },
          "execution_count": 17
        }
      ]
    },
    {
      "cell_type": "code",
      "metadata": {
        "id": "ucS6PAOC0Gen",
        "colab_type": "code",
        "outputId": "f820bab8-4610-4175-e269-6f5df8373e67",
        "colab": {
          "base_uri": "https://localhost:8080/",
          "height": 34
        }
      },
      "source": [
        "dic[\"fruits\"][2]"
      ],
      "execution_count": 0,
      "outputs": [
        {
          "output_type": "execute_result",
          "data": {
            "text/plain": [
              "'banana'"
            ]
          },
          "metadata": {
            "tags": []
          },
          "execution_count": 18
        }
      ]
    },
    {
      "cell_type": "code",
      "metadata": {
        "id": "fWr8sMSD0yfu",
        "colab_type": "code",
        "colab": {}
      },
      "source": [
        "list_of_dictionary=[1,2,3,dic]#dictionary in list"
      ],
      "execution_count": 0,
      "outputs": []
    },
    {
      "cell_type": "code",
      "metadata": {
        "id": "C0Rftas51EIu",
        "colab_type": "code",
        "outputId": "912db318-d4d7-47f7-9866-9b039a80a6cc",
        "colab": {
          "base_uri": "https://localhost:8080/",
          "height": 34
        }
      },
      "source": [
        "list_of_dictionary[3][\"fruits\"][1]"
      ],
      "execution_count": 0,
      "outputs": [
        {
          "output_type": "execute_result",
          "data": {
            "text/plain": [
              "'apple'"
            ]
          },
          "metadata": {
            "tags": []
          },
          "execution_count": 21
        }
      ]
    },
    {
      "cell_type": "code",
      "metadata": {
        "id": "nKjHyhDs1oZm",
        "colab_type": "code",
        "outputId": "b2676f8f-4483-4db2-a03a-e357131c2e76",
        "colab": {
          "base_uri": "https://localhost:8080/",
          "height": 185
        }
      },
      "source": [
        "del list_of_dictionary[3][\"fruits\"][1]\n",
        "list_of_dictionary"
      ],
      "execution_count": 0,
      "outputs": [
        {
          "output_type": "execute_result",
          "data": {
            "text/plain": [
              "[1,\n",
              " 2,\n",
              " 3,\n",
              " {'adress': ['Karahi'],\n",
              "  'age': 17,\n",
              "  'course': 'PIAIC',\n",
              "  'fruits': ['mango', 'banana', 'peach'],\n",
              "  'name': 'saim',\n",
              "  'phone_no.': 33333333300,\n",
              "  'sir': 'sir nasir'}]"
            ]
          },
          "metadata": {
            "tags": []
          },
          "execution_count": 22
        }
      ]
    },
    {
      "cell_type": "code",
      "metadata": {
        "id": "vUeuPSCq2WmJ",
        "colab_type": "code",
        "outputId": "6bf24b07-6884-469f-92c3-90404bccdc29",
        "colab": {
          "base_uri": "https://localhost:8080/",
          "height": 128
        }
      },
      "source": [
        "list_of_dictionary[3]fruits.insert(\"papaya\",2)"
      ],
      "execution_count": 0,
      "outputs": [
        {
          "output_type": "error",
          "ename": "SyntaxError",
          "evalue": "ignored",
          "traceback": [
            "\u001b[0;36m  File \u001b[0;32m\"<ipython-input-25-80283255d398>\"\u001b[0;36m, line \u001b[0;32m1\u001b[0m\n\u001b[0;31m    list_of_dictionary[3]fruits.insert(\"papaya\",2)\u001b[0m\n\u001b[0m                              ^\u001b[0m\n\u001b[0;31mSyntaxError\u001b[0m\u001b[0;31m:\u001b[0m invalid syntax\n"
          ]
        }
      ]
    },
    {
      "cell_type": "code",
      "metadata": {
        "id": "vKgcUt4f3eiy",
        "colab_type": "code",
        "colab": {}
      },
      "source": [
        "newdic={\"name\":\"Imran khan\",\"wifes\":[\"jamaima\",\"neelam\",\"peerni\"]}"
      ],
      "execution_count": 0,
      "outputs": []
    },
    {
      "cell_type": "code",
      "metadata": {
        "id": "sbSl8zkiMJUU",
        "colab_type": "code",
        "outputId": "15c1eeed-f014-4c3c-c91d-6d4dd1ed76d5",
        "colab": {
          "base_uri": "https://localhost:8080/",
          "height": 34
        }
      },
      "source": [
        "len(newdic)"
      ],
      "execution_count": 0,
      "outputs": [
        {
          "output_type": "execute_result",
          "data": {
            "text/plain": [
              "2"
            ]
          },
          "metadata": {
            "tags": []
          },
          "execution_count": 7
        }
      ]
    },
    {
      "cell_type": "code",
      "metadata": {
        "id": "8MDlzuFHMRGB",
        "colab_type": "code",
        "outputId": "8a5ab4bc-64d9-4c3b-8bdc-e4462d5f5083",
        "colab": {
          "base_uri": "https://localhost:8080/",
          "height": 50
        }
      },
      "source": [
        "for key in newdic.keys():\n",
        "  print(newdic[key])"
      ],
      "execution_count": 0,
      "outputs": [
        {
          "output_type": "stream",
          "text": [
            "Imran khan\n",
            "['jamaima', 'neelam', 'peerni']\n"
          ],
          "name": "stdout"
        }
      ]
    },
    {
      "cell_type": "code",
      "metadata": {
        "id": "zmhdPKNfMnja",
        "colab_type": "code",
        "outputId": "d7c6d577-06af-4885-fdc0-9b81ebbc60b7",
        "colab": {
          "base_uri": "https://localhost:8080/",
          "height": 34
        }
      },
      "source": [
        "print(newdic[key])"
      ],
      "execution_count": 0,
      "outputs": [
        {
          "output_type": "stream",
          "text": [
            "['jamaima', 'neelam', 'peerni']\n"
          ],
          "name": "stdout"
        }
      ]
    },
    {
      "cell_type": "code",
      "metadata": {
        "id": "WNccpCNaNDuz",
        "colab_type": "code",
        "outputId": "4ba71d60-85b7-4d02-d4e3-1b172215d6a4",
        "colab": {
          "base_uri": "https://localhost:8080/",
          "height": 178
        }
      },
      "source": [
        "for value in newdic.values:\n",
        "  print(newdic[value])"
      ],
      "execution_count": 0,
      "outputs": [
        {
          "output_type": "error",
          "ename": "TypeError",
          "evalue": "ignored",
          "traceback": [
            "\u001b[0;31m---------------------------------------------------------------------------\u001b[0m",
            "\u001b[0;31mTypeError\u001b[0m                                 Traceback (most recent call last)",
            "\u001b[0;32m<ipython-input-19-1f13460cfec1>\u001b[0m in \u001b[0;36m<module>\u001b[0;34m()\u001b[0m\n\u001b[0;32m----> 1\u001b[0;31m \u001b[0;32mfor\u001b[0m \u001b[0mvalue\u001b[0m \u001b[0;32min\u001b[0m \u001b[0mnewdic\u001b[0m\u001b[0;34m.\u001b[0m\u001b[0mvalues\u001b[0m\u001b[0;34m:\u001b[0m\u001b[0;34m\u001b[0m\u001b[0;34m\u001b[0m\u001b[0m\n\u001b[0m\u001b[1;32m      2\u001b[0m   \u001b[0mprint\u001b[0m\u001b[0;34m(\u001b[0m\u001b[0mnewdic\u001b[0m\u001b[0;34m[\u001b[0m\u001b[0mvalue\u001b[0m\u001b[0;34m]\u001b[0m\u001b[0;34m)\u001b[0m\u001b[0;34m\u001b[0m\u001b[0;34m\u001b[0m\u001b[0m\n",
            "\u001b[0;31mTypeError\u001b[0m: 'builtin_function_or_method' object is not iterable"
          ]
        }
      ]
    },
    {
      "cell_type": "code",
      "metadata": {
        "id": "A1FXtXbtNLRP",
        "colab_type": "code",
        "colab": {}
      },
      "source": [
        "dic_in_dic={\"name\":\"sameer\",\"address\":\"power house chowrangi\",\"phone_no.\":{\"zong\":312456,\"telenor\":5478932}}#dictionary in dictionary"
      ],
      "execution_count": 0,
      "outputs": []
    },
    {
      "cell_type": "code",
      "metadata": {
        "id": "kw0nLSzCOiJK",
        "colab_type": "code",
        "outputId": "0e81986c-722e-40ac-aae5-4b8fe9d3e4de",
        "colab": {
          "base_uri": "https://localhost:8080/",
          "height": 34
        }
      },
      "source": [
        "dic_in_dic[\"phone_no.\"][\"telenor\"]"
      ],
      "execution_count": 0,
      "outputs": [
        {
          "output_type": "execute_result",
          "data": {
            "text/plain": [
              "5478932"
            ]
          },
          "metadata": {
            "tags": []
          },
          "execution_count": 3
        }
      ]
    },
    {
      "cell_type": "code",
      "metadata": {
        "id": "o7BVGiV1OtB6",
        "colab_type": "code",
        "colab": {}
      },
      "source": [
        "del dic_in_dic[\"address\"]"
      ],
      "execution_count": 0,
      "outputs": []
    },
    {
      "cell_type": "code",
      "metadata": {
        "id": "dSyiiYW9v3_4",
        "colab_type": "code",
        "outputId": "3c52ee9d-4a7c-4b7c-8cbb-57bc3ebc534d",
        "colab": {
          "base_uri": "https://localhost:8080/",
          "height": 34
        }
      },
      "source": [
        "dic_in_dic"
      ],
      "execution_count": 0,
      "outputs": [
        {
          "output_type": "execute_result",
          "data": {
            "text/plain": [
              "{'name': 'sameer', 'phone_no.': {'telenor': 5478932, 'zong': 312456}}"
            ]
          },
          "metadata": {
            "tags": []
          },
          "execution_count": 5
        }
      ]
    },
    {
      "cell_type": "code",
      "metadata": {
        "id": "5_OnDtOnwWHP",
        "colab_type": "code",
        "colab": {}
      },
      "source": [
        "dic_in_dic[\"address\"]=\"KDA\""
      ],
      "execution_count": 0,
      "outputs": []
    },
    {
      "cell_type": "code",
      "metadata": {
        "id": "H5Uz8QeTwjY2",
        "colab_type": "code",
        "outputId": "2ea2e1ed-690b-4437-a608-991c54b5332d",
        "colab": {
          "base_uri": "https://localhost:8080/",
          "height": 67
        }
      },
      "source": [
        "dic_in_dic"
      ],
      "execution_count": 0,
      "outputs": [
        {
          "output_type": "execute_result",
          "data": {
            "text/plain": [
              "{'address': 'KDA',\n",
              " 'name': 'sameer',\n",
              " 'phone_no.': {'telenor': 5478932, 'zong': 312456}}"
            ]
          },
          "metadata": {
            "tags": []
          },
          "execution_count": 7
        }
      ]
    },
    {
      "cell_type": "code",
      "metadata": {
        "id": "kB065CbdwlEV",
        "colab_type": "code",
        "colab": {}
      },
      "source": [
        ""
      ],
      "execution_count": 0,
      "outputs": []
    }
  ]
}