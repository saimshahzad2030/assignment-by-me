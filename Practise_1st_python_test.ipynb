{
  "nbformat": 4,
  "nbformat_minor": 0,
  "metadata": {
    "colab": {
      "name": "Practise 1st python test",
      "version": "0.3.2",
      "provenance": [],
      "collapsed_sections": [],
      "include_colab_link": true
    },
    "kernelspec": {
      "name": "python3",
      "display_name": "Python 3"
    }
  },
  "cells": [
    {
      "cell_type": "markdown",
      "metadata": {
        "id": "view-in-github",
        "colab_type": "text"
      },
      "source": [
        "<a href=\"https://colab.research.google.com/github/saimshahzad2030/assignment-by-me/blob/master/Practise_1st_python_test.ipynb\" target=\"_parent\"><img src=\"https://colab.research.google.com/assets/colab-badge.svg\" alt=\"Open In Colab\"/></a>"
      ]
    },
    {
      "cell_type": "code",
      "metadata": {
        "id": "EP9f7TAbZehy",
        "colab_type": "code",
        "outputId": "8d7c8d97-e3fc-4d2f-a3c3-31c1ba26c81c",
        "colab": {
          "base_uri": "https://localhost:8080/",
          "height": 108
        }
      },
      "source": [
        "name = input('What is your name? ')\n",
        "age = int(input('What is your age? '))\n",
        "\n",
        "\n",
        "print('My name is ' + name + ' and my age is ' + str(age))\n",
        "print(age - 10)\n",
        "\n",
        "\n",
        "print('my name is', name , 'and my age is ', age)"
      ],
      "execution_count": 0,
      "outputs": [
        {
          "output_type": "stream",
          "text": [
            "What is your name? rahim\n",
            "What is your age? 45\n",
            "My name is rahim and my age is 45\n",
            "35\n",
            "my name is rahim and my age is  45\n"
          ],
          "name": "stdout"
        }
      ]
    },
    {
      "cell_type": "code",
      "metadata": {
        "id": "-ut-ZrKtbePA",
        "colab_type": "code",
        "colab": {}
      },
      "source": [
        "_str_=1"
      ],
      "execution_count": 0,
      "outputs": []
    },
    {
      "cell_type": "code",
      "metadata": {
        "id": "Eg5iD0gLc5vq",
        "colab_type": "code",
        "outputId": "ea401c29-280a-43b6-970f-4267b87f9c38",
        "colab": {
          "base_uri": "https://localhost:8080/",
          "height": 35
        }
      },
      "source": [
        "4+3%5"
      ],
      "execution_count": 0,
      "outputs": [
        {
          "output_type": "execute_result",
          "data": {
            "text/plain": [
              "7"
            ]
          },
          "metadata": {
            "tags": []
          },
          "execution_count": 3
        }
      ]
    },
    {
      "cell_type": "code",
      "metadata": {
        "id": "JuPoRFeGdk0M",
        "colab_type": "code",
        "outputId": "453818ba-a3f0-470c-9840-58fd9b76401b",
        "colab": {
          "base_uri": "https://localhost:8080/",
          "height": 35
        }
      },
      "source": [
        "python=\"saim\"\n",
        "anaconda='bhai'\n",
        "new=python+anaconda\n",
        "print(new)"
      ],
      "execution_count": 0,
      "outputs": [
        {
          "output_type": "stream",
          "text": [
            "saimbhai\n"
          ],
          "name": "stdout"
        }
      ]
    },
    {
      "cell_type": "code",
      "metadata": {
        "id": "XNjKoGYL3GBf",
        "colab_type": "code",
        "outputId": "7cb91080-4285-47a3-c8f8-2cc710f6064d",
        "colab": {
          "base_uri": "https://localhost:8080/",
          "height": 35
        }
      },
      "source": [
        "city_0='Karachi'\n",
        "city_1='Lahore'\n",
        "city_2='Rawalpindi'\n",
        "city_3='Islamabad'\n",
        "city_4='Faislabad'\n",
        "city_5='bahawalpur'\n",
        "city_6='Daira ismael khan'\n",
        "city_7='Ghotki'\n",
        "print(\"welcome to \" + city_1)"
      ],
      "execution_count": 0,
      "outputs": [
        {
          "output_type": "stream",
          "text": [
            "welcome to Lahore\n"
          ],
          "name": "stdout"
        }
      ]
    },
    {
      "cell_type": "code",
      "metadata": {
        "id": "Q6R8XYnl5iK4",
        "colab_type": "code",
        "colab": {}
      },
      "source": [
        "cities = [\"Atlanta\", \"Baltimore\", \"Chicago\",\"Denver\", \"Los Angeles\", \"Seattle\"]\n",
        "cities.append(\"Karachi\")\n"
      ],
      "execution_count": 0,
      "outputs": []
    },
    {
      "cell_type": "code",
      "metadata": {
        "id": "gTvIPABR7Sas",
        "colab_type": "code",
        "outputId": "ffbbcc4a-0527-4496-c0c2-e65fa3ad98d8",
        "colab": {
          "base_uri": "https://localhost:8080/",
          "height": 145
        }
      },
      "source": [
        "cities"
      ],
      "execution_count": 0,
      "outputs": [
        {
          "output_type": "execute_result",
          "data": {
            "text/plain": [
              "['Atlanta',\n",
              " 'Baltimore',\n",
              " 'Chicago',\n",
              " 'Denver',\n",
              " 'Los Angeles',\n",
              " 'Seattle',\n",
              " 'Karachi']"
            ]
          },
          "metadata": {
            "tags": []
          },
          "execution_count": 9
        }
      ]
    },
    {
      "cell_type": "code",
      "metadata": {
        "id": "x-3a5_bT7Trr",
        "colab_type": "code",
        "colab": {}
      },
      "source": [
        "cities=cities+[\"Lahore\",\"Peshawar\"]"
      ],
      "execution_count": 0,
      "outputs": []
    },
    {
      "cell_type": "code",
      "metadata": {
        "id": "udbpp2M17a9E",
        "colab_type": "code",
        "outputId": "7e730035-5cc1-4e03-8684-c7b80bdeb31f",
        "colab": {
          "base_uri": "https://localhost:8080/",
          "height": 181
        }
      },
      "source": [
        "cities"
      ],
      "execution_count": 0,
      "outputs": [
        {
          "output_type": "execute_result",
          "data": {
            "text/plain": [
              "['Atlanta',\n",
              " 'Baltimore',\n",
              " 'Chicago',\n",
              " 'Denver',\n",
              " 'Los Angeles',\n",
              " 'Seattle',\n",
              " 'Karachi',\n",
              " 'Lahore',\n",
              " 'Peshawar']"
            ]
          },
          "metadata": {
            "tags": []
          },
          "execution_count": 13
        }
      ]
    },
    {
      "cell_type": "code",
      "metadata": {
        "id": "dXDS-9L57jFS",
        "colab_type": "code",
        "outputId": "0a889d4e-b39d-4b40-be9e-751ee156e139",
        "colab": {
          "base_uri": "https://localhost:8080/",
          "height": 199
        }
      },
      "source": [
        "cities.insert(0,\"Quetta\")\n",
        "cities"
      ],
      "execution_count": 0,
      "outputs": [
        {
          "output_type": "execute_result",
          "data": {
            "text/plain": [
              "['Quetta',\n",
              " 'Atlanta',\n",
              " 'Baltimore',\n",
              " 'Chicago',\n",
              " 'Denver',\n",
              " 'Los Angeles',\n",
              " 'Seattle',\n",
              " 'Karachi',\n",
              " 'Lahore',\n",
              " 'Peshawar']"
            ]
          },
          "metadata": {
            "tags": []
          },
          "execution_count": 16
        }
      ]
    },
    {
      "cell_type": "code",
      "metadata": {
        "id": "9NeePUwT75fW",
        "colab_type": "code",
        "colab": {}
      },
      "source": [
        "cities[2]=\"houston\""
      ],
      "execution_count": 0,
      "outputs": []
    },
    {
      "cell_type": "code",
      "metadata": {
        "id": "YTprWrF18TEw",
        "colab_type": "code",
        "outputId": "64ef7d9d-5347-4992-8db7-9990ffe43d37",
        "colab": {
          "base_uri": "https://localhost:8080/",
          "height": 199
        }
      },
      "source": [
        "cities"
      ],
      "execution_count": 0,
      "outputs": [
        {
          "output_type": "execute_result",
          "data": {
            "text/plain": [
              "['Quetta',\n",
              " 'Atlanta',\n",
              " 'houston',\n",
              " 'Chicago',\n",
              " 'Denver',\n",
              " 'Los Angeles',\n",
              " 'Seattle',\n",
              " 'Karachi',\n",
              " 'Lahore',\n",
              " 'Peshawar']"
            ]
          },
          "metadata": {
            "tags": []
          },
          "execution_count": 18
        }
      ]
    },
    {
      "cell_type": "code",
      "metadata": {
        "id": "kqqL0hld8UAY",
        "colab_type": "code",
        "outputId": "dea471b7-dd09-467a-f167-734ac7b999fb",
        "colab": {
          "base_uri": "https://localhost:8080/",
          "height": 35
        }
      },
      "source": [
        "smaller_list_of_cities=[]\n",
        "smaller_list_of_cities=cities[2:6]\n",
        "smaller_list_of_cities"
      ],
      "execution_count": 0,
      "outputs": [
        {
          "output_type": "execute_result",
          "data": {
            "text/plain": [
              "['houston', 'Chicago', 'Denver', 'Los Angeles']"
            ]
          },
          "metadata": {
            "tags": []
          },
          "execution_count": 19
        }
      ]
    },
    {
      "cell_type": "code",
      "metadata": {
        "id": "Q0RrLTSQ8sR4",
        "colab_type": "code",
        "outputId": "336e72f3-a0d7-4fa2-8d7f-8e795efa4e9d",
        "colab": {
          "base_uri": "https://localhost:8080/",
          "height": 35
        }
      },
      "source": [
        "smaller_list_of_cities=cities[:5]\n",
        "smaller_list_of_cities"
      ],
      "execution_count": 0,
      "outputs": [
        {
          "output_type": "execute_result",
          "data": {
            "text/plain": [
              "['Quetta', 'Atlanta', 'houston', 'Chicago', 'Denver']"
            ]
          },
          "metadata": {
            "tags": []
          },
          "execution_count": 20
        }
      ]
    },
    {
      "cell_type": "code",
      "metadata": {
        "id": "wm_CgzoI84Bg",
        "colab_type": "code",
        "outputId": "ba4715de-6db6-48df-88ab-3567cec77db1",
        "colab": {
          "base_uri": "https://localhost:8080/",
          "height": 35
        }
      },
      "source": [
        "del smaller_list_of_cities[2]\n",
        "smaller_list_of_cities"
      ],
      "execution_count": 0,
      "outputs": [
        {
          "output_type": "execute_result",
          "data": {
            "text/plain": [
              "['Quetta', 'Atlanta', 'Chicago', 'Denver']"
            ]
          },
          "metadata": {
            "tags": []
          },
          "execution_count": 22
        }
      ]
    },
    {
      "cell_type": "code",
      "metadata": {
        "id": "r8YZ91Gd9M33",
        "colab_type": "code",
        "colab": {}
      },
      "source": [
        "smaller_list_of_cities.remove(\"Quetta\")"
      ],
      "execution_count": 0,
      "outputs": []
    },
    {
      "cell_type": "code",
      "metadata": {
        "id": "VZgOwniu9kGY",
        "colab_type": "code",
        "outputId": "3239c86f-feac-4cd3-85b5-2fac9aa2839c",
        "colab": {
          "base_uri": "https://localhost:8080/",
          "height": 35
        }
      },
      "source": [
        "smaller_list_of_cities"
      ],
      "execution_count": 0,
      "outputs": [
        {
          "output_type": "execute_result",
          "data": {
            "text/plain": [
              "['Atlanta', 'Chicago', 'Denver']"
            ]
          },
          "metadata": {
            "tags": []
          },
          "execution_count": 24
        }
      ]
    },
    {
      "cell_type": "code",
      "metadata": {
        "id": "wInKX9cW9lI-",
        "colab_type": "code",
        "outputId": "f32cc7e2-8c2b-461a-fcff-10be17f9642e",
        "colab": {
          "base_uri": "https://localhost:8080/",
          "height": 35
        }
      },
      "source": [
        "trip_to_go=smaller_list_of_cities.pop(1)\n",
        "trip_to_go"
      ],
      "execution_count": 0,
      "outputs": [
        {
          "output_type": "execute_result",
          "data": {
            "text/plain": [
              "'Chicago'"
            ]
          },
          "metadata": {
            "tags": []
          },
          "execution_count": 26
        }
      ]
    },
    {
      "cell_type": "code",
      "metadata": {
        "id": "E8s3p7qi94iW",
        "colab_type": "code",
        "outputId": "05cee1ff-d09c-4c32-eba1-4ddfb22df286",
        "colab": {
          "base_uri": "https://localhost:8080/",
          "height": 35
        }
      },
      "source": [
        "colours=(\"blue\",\"black\",\"red\",\"green\",\"white\",\"orange\")\n",
        "some=colours[3]\n",
        "print(f'we all like {some}colour')"
      ],
      "execution_count": 0,
      "outputs": [
        {
          "output_type": "stream",
          "text": [
            "we all like greencolour\n"
          ],
          "name": "stdout"
        }
      ]
    },
    {
      "cell_type": "code",
      "metadata": {
        "id": "1Gvpw8Af_aR3",
        "colab_type": "code",
        "outputId": "76c944b8-584c-40a2-d9a4-48afd279d9d7",
        "colab": {
          "base_uri": "https://localhost:8080/",
          "height": 34
        }
      },
      "source": [
        "list=[\"Pakistan\"]\n",
        "print(list)"
      ],
      "execution_count": 0,
      "outputs": [
        {
          "output_type": "stream",
          "text": [
            "['Pakistan']\n"
          ],
          "name": "stdout"
        }
      ]
    },
    {
      "cell_type": "code",
      "metadata": {
        "id": "taEH5q8cOeAR",
        "colab_type": "code",
        "colab": {}
      },
      "source": [
        "stre=int(input(\"enter: \"))\n"
      ],
      "execution_count": 0,
      "outputs": []
    },
    {
      "cell_type": "code",
      "metadata": {
        "id": "gkAJCSnORxkf",
        "colab_type": "code",
        "colab": {
          "base_uri": "https://localhost:8080/",
          "height": 131
        },
        "outputId": "0e609ee9-e8c1-43dc-b5e8-dcf06b5181a8"
      },
      "source": [
        "city_to_check = input(\"Enter your city: \")\n",
        "city_to_check = city_to_check.lower()\n",
        "cleanest_cities = [\"cheyenne\", \"santa fe\",\"tucson\", \"great falls\", \"honolulu\"]\n",
        " for a_clean_city in cleanest_cities:\n",
        "  if city_to_check == a_clean_city:\n",
        "  print(\"It's one of the cleanest cities\")"
      ],
      "execution_count": 8,
      "outputs": [
        {
          "output_type": "error",
          "ename": "IndentationError",
          "evalue": "ignored",
          "traceback": [
            "\u001b[0;36m  File \u001b[0;32m\"<ipython-input-8-c5422bf98783>\"\u001b[0;36m, line \u001b[0;32m4\u001b[0m\n\u001b[0;31m    for a_clean_city in cleanest_cities:\u001b[0m\n\u001b[0m    ^\u001b[0m\n\u001b[0;31mIndentationError\u001b[0m\u001b[0;31m:\u001b[0m unexpected indent\n"
          ]
        }
      ]
    },
    {
      "cell_type": "code",
      "metadata": {
        "id": "-d0HaLOOT1ip",
        "colab_type": "code",
        "colab": {
          "base_uri": "https://localhost:8080/",
          "height": 35
        },
        "outputId": "3c87c249-f798-4c68-ae45-ae7ea9534483"
      },
      "source": [
        "name='saim'\n",
        "name.upper()\n"
      ],
      "execution_count": 10,
      "outputs": [
        {
          "output_type": "execute_result",
          "data": {
            "text/plain": [
              "'SAIM'"
            ]
          },
          "metadata": {
            "tags": []
          },
          "execution_count": 10
        }
      ]
    },
    {
      "cell_type": "code",
      "metadata": {
        "id": "zu1eRkeLUXUm",
        "colab_type": "code",
        "colab": {
          "base_uri": "https://localhost:8080/",
          "height": 35
        },
        "outputId": "cd6d62d2-ee6b-4324-fc1a-73d68c371a33"
      },
      "source": [
        "name.lower()\n"
      ],
      "execution_count": 11,
      "outputs": [
        {
          "output_type": "execute_result",
          "data": {
            "text/plain": [
              "'saim'"
            ]
          },
          "metadata": {
            "tags": []
          },
          "execution_count": 11
        }
      ]
    },
    {
      "cell_type": "code",
      "metadata": {
        "id": "nv04R2LhUkbt",
        "colab_type": "code",
        "colab": {
          "base_uri": "https://localhost:8080/",
          "height": 35
        },
        "outputId": "302fbf6a-121d-48f8-db49-05dfadfe2e14"
      },
      "source": [
        "name.title()"
      ],
      "execution_count": 12,
      "outputs": [
        {
          "output_type": "execute_result",
          "data": {
            "text/plain": [
              "'Saim'"
            ]
          },
          "metadata": {
            "tags": []
          },
          "execution_count": 12
        }
      ]
    },
    {
      "cell_type": "code",
      "metadata": {
        "id": "i-Dbdp2dUlzf",
        "colab_type": "code",
        "colab": {
          "base_uri": "https://localhost:8080/",
          "height": 35
        },
        "outputId": "8284326a-cb5f-45a3-b3ce-ae4176827479"
      },
      "source": [
        "dictionary={\"name\":\"saim\",\"gender\":\"male\",\"class\":\"PIAIC\"}\n",
        "dictionary[\"gender\"]"
      ],
      "execution_count": 13,
      "outputs": [
        {
          "output_type": "execute_result",
          "data": {
            "text/plain": [
              "'male'"
            ]
          },
          "metadata": {
            "tags": []
          },
          "execution_count": 13
        }
      ]
    },
    {
      "cell_type": "code",
      "metadata": {
        "id": "Eow-337UYPgo",
        "colab_type": "code",
        "colab": {}
      },
      "source": [
        "dictionary[\"how is he\"]=\"alhumdullilah best\""
      ],
      "execution_count": 0,
      "outputs": []
    },
    {
      "cell_type": "code",
      "metadata": {
        "id": "MTHkR5IHamVw",
        "colab_type": "code",
        "colab": {
          "base_uri": "https://localhost:8080/",
          "height": 35
        },
        "outputId": "111fd08d-c921-4fd1-9ce1-fea1a5367557"
      },
      "source": [
        "dictionary"
      ],
      "execution_count": 22,
      "outputs": [
        {
          "output_type": "execute_result",
          "data": {
            "text/plain": [
              "{'class': 'PIAIC', 'how is he': 'alhumdullilah best', 'name': 'saim'}"
            ]
          },
          "metadata": {
            "tags": []
          },
          "execution_count": 22
        }
      ]
    },
    {
      "cell_type": "code",
      "metadata": {
        "id": "EbvlwxHnaoMk",
        "colab_type": "code",
        "colab": {
          "base_uri": "https://localhost:8080/",
          "height": 166
        },
        "outputId": "576df7fb-a16e-4a54-dcdd-1654dcbf35c6"
      },
      "source": [
        "del dictionary[\"gender\"]"
      ],
      "execution_count": 23,
      "outputs": [
        {
          "output_type": "error",
          "ename": "KeyError",
          "evalue": "ignored",
          "traceback": [
            "\u001b[0;31m---------------------------------------------------------------------------\u001b[0m",
            "\u001b[0;31mKeyError\u001b[0m                                  Traceback (most recent call last)",
            "\u001b[0;32m<ipython-input-23-588fa810744d>\u001b[0m in \u001b[0;36m<module>\u001b[0;34m()\u001b[0m\n\u001b[0;32m----> 1\u001b[0;31m \u001b[0;32mdel\u001b[0m \u001b[0mdictionary\u001b[0m\u001b[0;34m[\u001b[0m\u001b[0;34m\"gender\"\u001b[0m\u001b[0;34m]\u001b[0m\u001b[0;34m\u001b[0m\u001b[0;34m\u001b[0m\u001b[0m\n\u001b[0m",
            "\u001b[0;31mKeyError\u001b[0m: 'gender'"
          ]
        }
      ]
    },
    {
      "cell_type": "code",
      "metadata": {
        "id": "wzUtfFhieOvH",
        "colab_type": "code",
        "colab": {}
      },
      "source": [
        "dictionary"
      ],
      "execution_count": 0,
      "outputs": []
    },
    {
      "cell_type": "code",
      "metadata": {
        "id": "kcPXtuHYeYVj",
        "colab_type": "code",
        "colab": {
          "base_uri": "https://localhost:8080/",
          "height": 35
        },
        "outputId": "1a846db5-c4b0-4dd9-a0a3-ff2b9d32056f"
      },
      "source": [
        "dictionary[\"class\"]\n",
        "dictionary[\"how is he\"]"
      ],
      "execution_count": 24,
      "outputs": [
        {
          "output_type": "execute_result",
          "data": {
            "text/plain": [
              "'alhumdullilah best'"
            ]
          },
          "metadata": {
            "tags": []
          },
          "execution_count": 24
        }
      ]
    },
    {
      "cell_type": "code",
      "metadata": {
        "id": "Y9mxXqEqe5-z",
        "colab_type": "code",
        "colab": {}
      },
      "source": [
        ""
      ],
      "execution_count": 0,
      "outputs": []
    }
  ]
}