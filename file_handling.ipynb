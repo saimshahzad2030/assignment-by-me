{
  "nbformat": 4,
  "nbformat_minor": 0,
  "metadata": {
    "colab": {
      "name": "file handling",
      "version": "0.3.2",
      "provenance": [],
      "include_colab_link": true
    },
    "kernelspec": {
      "name": "python3",
      "display_name": "Python 3"
    }
  },
  "cells": [
    {
      "cell_type": "markdown",
      "metadata": {
        "id": "view-in-github",
        "colab_type": "text"
      },
      "source": [
        "<a href=\"https://colab.research.google.com/github/saimshahzad2030/assignment-by-me/blob/master/file_handling.ipynb\" target=\"_parent\"><img src=\"https://colab.research.google.com/assets/colab-badge.svg\" alt=\"Open In Colab\"/></a>"
      ]
    },
    {
      "cell_type": "code",
      "metadata": {
        "id": "Aih-jOpOb2Ur",
        "colab_type": "code",
        "colab": {}
      },
      "source": [
        "with open(\"what.txt\",\"w\") as file_to_work_with:\n",
        "  file_to_work_with.write(\"hello PIAIC\")\n",
        "  "
      ],
      "execution_count": 0,
      "outputs": []
    },
    {
      "cell_type": "code",
      "metadata": {
        "id": "W5f-K3ZTe4bH",
        "colab_type": "code",
        "colab": {}
      },
      "source": [
        "with open(\"what.txt\",\"r\") as new:\n",
        "  x=new.read()"
      ],
      "execution_count": 0,
      "outputs": []
    },
    {
      "cell_type": "code",
      "metadata": {
        "id": "2n10bTjJv1gd",
        "colab_type": "code",
        "outputId": "361fd811-6693-4bce-bf2a-01a7a5e1d8bb",
        "colab": {
          "base_uri": "https://localhost:8080/",
          "height": 35
        }
      },
      "source": [
        "print(x)"
      ],
      "execution_count": 0,
      "outputs": [
        {
          "output_type": "stream",
          "text": [
            "hello PIAIC\n"
          ],
          "name": "stdout"
        }
      ]
    },
    {
      "cell_type": "code",
      "metadata": {
        "id": "cz5R-9cYv4J3",
        "colab_type": "code",
        "colab": {}
      },
      "source": [
        "with open(\"what.txt\",\"w\") as a_file:\n",
        "  a_file.write(\"hello dhamaka\")"
      ],
      "execution_count": 0,
      "outputs": []
    },
    {
      "cell_type": "code",
      "metadata": {
        "id": "taFQeah8wi8S",
        "colab_type": "code",
        "outputId": "f9415a4e-f908-42ee-8481-eabfac916193",
        "colab": {
          "base_uri": "https://localhost:8080/",
          "height": 35
        }
      },
      "source": [
        "with open(\"what.txt\",\"r\") as a_file:\n",
        "  b=a_file.read()\n",
        "  print(b)"
      ],
      "execution_count": 0,
      "outputs": [
        {
          "output_type": "stream",
          "text": [
            "hello dhamaka\n"
          ],
          "name": "stdout"
        }
      ]
    },
    {
      "cell_type": "code",
      "metadata": {
        "id": "vr0RdZ5U0AAs",
        "colab_type": "code",
        "colab": {}
      },
      "source": [
        "with open(\"what.txt\",\"w\") as a_file:\n",
        "  a_file.write(\"hello saim \\n hello dhamaka\")"
      ],
      "execution_count": 0,
      "outputs": []
    },
    {
      "cell_type": "code",
      "metadata": {
        "id": "VdiKEcpK27cK",
        "colab_type": "code",
        "outputId": "b5512c27-b401-49ed-ac48-7a824a3ae196",
        "colab": {
          "base_uri": "https://localhost:8080/",
          "height": 54
        }
      },
      "source": [
        "with open(\"what.txt\",\"r\") as a_file:\n",
        "  b=a_file.read()\n",
        "  print(b)"
      ],
      "execution_count": 0,
      "outputs": [
        {
          "output_type": "stream",
          "text": [
            "hello saim\n",
            "hello dhamaka\n"
          ],
          "name": "stdout"
        }
      ]
    },
    {
      "cell_type": "code",
      "metadata": {
        "id": "svZKiyOx3Ief",
        "colab_type": "code",
        "colab": {}
      },
      "source": [
        "with open(\"what.txt\",\"w\") as a_file:\n",
        "  a_file.write(\"hello everyone\")"
      ],
      "execution_count": 0,
      "outputs": []
    },
    {
      "cell_type": "code",
      "metadata": {
        "id": "Fex9KSmO4N2b",
        "colab_type": "code",
        "colab": {}
      },
      "source": [
        "with open(\"what.txt\") as a_file:\n",
        "  b=a_file.read()"
      ],
      "execution_count": 0,
      "outputs": []
    },
    {
      "cell_type": "code",
      "metadata": {
        "id": "vKQShXlu57yq",
        "colab_type": "code",
        "outputId": "6def77c0-16ef-4526-a296-2698e7dd5b40",
        "colab": {
          "base_uri": "https://localhost:8080/",
          "height": 35
        }
      },
      "source": [
        "b"
      ],
      "execution_count": 0,
      "outputs": [
        {
          "output_type": "execute_result",
          "data": {
            "text/plain": [
              "'hello everyone'"
            ]
          },
          "metadata": {
            "tags": []
          },
          "execution_count": 17
        }
      ]
    },
    {
      "cell_type": "code",
      "metadata": {
        "id": "pQnN8TF86A9A",
        "colab_type": "code",
        "colab": {}
      },
      "source": [
        "with open(\"what.txt\",\"w\") as a_file:\n",
        "  a_file.write(\"hello saim \\n hello dhamaka\")"
      ],
      "execution_count": 0,
      "outputs": []
    },
    {
      "cell_type": "code",
      "metadata": {
        "id": "wEXDSvxG6Ehx",
        "colab_type": "code",
        "outputId": "be0891c7-45f6-4b6a-b5cb-c342ea83b6e9",
        "colab": {
          "base_uri": "https://localhost:8080/",
          "height": 54
        }
      },
      "source": [
        "with open(\"what.txt\",\"r\") as a_file:\n",
        "  b=a_file.read()\n",
        "  print(b)"
      ],
      "execution_count": 0,
      "outputs": [
        {
          "output_type": "stream",
          "text": [
            "hello saim \n",
            " hello dhamaka\n"
          ],
          "name": "stdout"
        }
      ]
    },
    {
      "cell_type": "code",
      "metadata": {
        "id": "QhO49xYK6Hlx",
        "colab_type": "code",
        "colab": {}
      },
      "source": [
        "with open(\"what.txt\",\"w\") as a_file:\n",
        "  a_file.write(\"hello everyone\")"
      ],
      "execution_count": 0,
      "outputs": []
    },
    {
      "cell_type": "code",
      "metadata": {
        "id": "0K9LNNWo6N67",
        "colab_type": "code",
        "colab": {}
      },
      "source": [
        "with open(\"what.txt\") as a_file:\n",
        "  b=a_file.read()"
      ],
      "execution_count": 0,
      "outputs": []
    },
    {
      "cell_type": "code",
      "metadata": {
        "id": "Unrrt0sc6OjA",
        "colab_type": "code",
        "outputId": "8987b2ce-9c56-4614-98d8-f7c37fb9148f",
        "colab": {
          "base_uri": "https://localhost:8080/",
          "height": 35
        }
      },
      "source": [
        "print(b)"
      ],
      "execution_count": 0,
      "outputs": [
        {
          "output_type": "stream",
          "text": [
            "hello everyone\n"
          ],
          "name": "stdout"
        }
      ]
    },
    {
      "cell_type": "code",
      "metadata": {
        "id": "70XR7hi56f-4",
        "colab_type": "code",
        "colab": {}
      },
      "source": [
        "with open('abc.txt', 'w') as asad:\n",
        "    asad.write('Hello Ada Lovlace')"
      ],
      "execution_count": 0,
      "outputs": []
    },
    {
      "cell_type": "code",
      "metadata": {
        "id": "CMJw-_P96lFw",
        "colab_type": "code",
        "outputId": "9be33947-f7ce-4d67-e6d0-7e5acadaf438",
        "colab": {
          "base_uri": "https://localhost:8080/",
          "height": 35
        }
      },
      "source": [
        "with open('abc.txt', 'r') as asad:\n",
        "    x = asad.read()  \n",
        "\n",
        "print(x)"
      ],
      "execution_count": 0,
      "outputs": [
        {
          "output_type": "stream",
          "text": [
            "Hello Ada Lovlace\n"
          ],
          "name": "stdout"
        }
      ]
    },
    {
      "cell_type": "code",
      "metadata": {
        "id": "bPQVsqr66m4p",
        "colab_type": "code",
        "colab": {}
      },
      "source": [
        "with open('abc.txt', 'a') as asad:\n",
        "    asad.write('Hello PIAIC')"
      ],
      "execution_count": 0,
      "outputs": []
    },
    {
      "cell_type": "code",
      "metadata": {
        "id": "IskwEwPf6oxH",
        "colab_type": "code",
        "outputId": "271156e3-6038-480e-8bd4-42c6993e337b",
        "colab": {
          "base_uri": "https://localhost:8080/",
          "height": 35
        }
      },
      "source": [
        "with open('abc.txt', 'r') as asad:\n",
        "    x = asad.read()  \n",
        "\n",
        "print(x)"
      ],
      "execution_count": 0,
      "outputs": [
        {
          "output_type": "stream",
          "text": [
            "Hello Ada LovlaceHello PIAIC\n"
          ],
          "name": "stdout"
        }
      ]
    },
    {
      "cell_type": "code",
      "metadata": {
        "id": "jT4qYZ0e6rL3",
        "colab_type": "code",
        "colab": {}
      },
      "source": [
        "with open('abc.txt','a') as asad:\n",
        "  x=asad.write(\"hello oye\")"
      ],
      "execution_count": 0,
      "outputs": []
    },
    {
      "cell_type": "code",
      "metadata": {
        "id": "s5QiyIDj67gA",
        "colab_type": "code",
        "outputId": "7f974bce-b994-4ed8-cac6-9c801c6054f6",
        "colab": {
          "base_uri": "https://localhost:8080/",
          "height": 35
        }
      },
      "source": [
        "with open('abc.txt','r') as asad:\n",
        "  x=asad.read()\n",
        "print(x)  "
      ],
      "execution_count": 0,
      "outputs": [
        {
          "output_type": "stream",
          "text": [
            "Hello Ada LovlaceHello PIAIChello oye\n"
          ],
          "name": "stdout"
        }
      ]
    },
    {
      "cell_type": "code",
      "metadata": {
        "id": "PBxt0N138uy1",
        "colab_type": "code",
        "colab": {}
      },
      "source": [
        "with open(\"Data.txt\",\"w\") as Data:\n",
        "  Data.write('name \\t\\t\\t\\t\\t\\tCNIC \\t\\t\\t\\t\\t\\tphone')"
      ],
      "execution_count": 0,
      "outputs": []
    },
    {
      "cell_type": "code",
      "metadata": {
        "id": "8-NhqKXO9xnC",
        "colab_type": "code",
        "outputId": "e8743537-a478-472b-92ad-6649bb67fc1f",
        "colab": {
          "base_uri": "https://localhost:8080/",
          "height": 563
        }
      },
      "source": [
        "for a in range(0,10):\n",
        "  name=input(\"enter your name: \")\n",
        "  cnic=input(\"enter your cnic: \")\n",
        "  phone=input(\"enter phone no.: \")\n",
        "  with open(\"Data.txt\",\"a\") as Data:\n",
        "    Data.write(f'{name} \\t\\t\\t\\t\\t\\t{cnic} \\t\\t\\t\\t\\t\\t{phone} \\n')"
      ],
      "execution_count": 0,
      "outputs": [
        {
          "output_type": "stream",
          "text": [
            "enter your name: babu\n",
            "enter your cnic: 1\n",
            "enter phone no.: 1\n",
            "enter your name: u\n",
            "enter your cnic: 3\n",
            "enter phone no.: 4\n",
            "enter your name: y4\n",
            "enter your cnic: 6\n",
            "enter phone no.: 3\n",
            "enter your name: 7\n",
            "enter your cnic: 63\n",
            "enter phone no.: 8\n",
            "enter your name: 1\n",
            "enter your cnic: \n",
            "enter phone no.: 6\n",
            "enter your name: 9\n",
            "enter your cnic: 8\n",
            "enter phone no.: \n",
            "enter your name: 3\n",
            "enter your cnic: 3\n",
            "enter phone no.: 4\n",
            "enter your name: 6\n",
            "enter your cnic: 7\n",
            "enter phone no.: 1\n",
            "enter your name: 3\n",
            "enter your cnic: 4\n",
            "enter phone no.: 54\n",
            "enter your name: 78\n",
            "enter your cnic: 9\n",
            "enter phone no.: 89\n"
          ],
          "name": "stdout"
        }
      ]
    },
    {
      "cell_type": "code",
      "metadata": {
        "id": "8cuqGQu9_g_T",
        "colab_type": "code",
        "colab": {}
      },
      "source": [
        "with open(\"Data.txt\",\"r\") as Data:\n",
        "  info=Data.read()"
      ],
      "execution_count": 0,
      "outputs": []
    },
    {
      "cell_type": "code",
      "metadata": {
        "id": "p-ROGA7xA-Ak",
        "colab_type": "code",
        "outputId": "75fdc186-5567-4136-f41d-075c7e47544e",
        "colab": {
          "base_uri": "https://localhost:8080/",
          "height": 237
        }
      },
      "source": [
        "print(info)"
      ],
      "execution_count": 0,
      "outputs": [
        {
          "output_type": "stream",
          "text": [
            "name \t\t\t\t\t\tCNIC \t\t\t\t\t\tphonesaim \t\t\t\t\t\t456 \t\t\t\t\t\t798dabia \t\t\t\t\t\t852 \t\t\t\t\t\t321anum \t\t\t\t\t\t951 \t\t\t\t\t\t159ali \t\t\t\t\t\t753 \t\t\t\t\t\t357ahmer \t\t\t\t\t\t984 \t\t\t\t\t\t89chandio \t\t\t\t\t\t126 \t\t\t\t\t\t621saad \t\t\t\t\t\t753 \t\t\t\t\t\t57wajid \t\t\t\t\t\t746 \t\t\t\t\t\t647imran \t\t\t\t\t\t943 \t\t\t\t\t\t349a \t\t\t\t\t\t1 \t\t\t\t\t\t1b \t\t\t\t\t\t2 \t\t\t\t\t\t2c \t\t\t\t\t\t3 \t\t\t\t\t\t3d \t\t\t\t\t\t4 \t\t\t\t\t\t4e \t\t\t\t\t\t5 \t\t\t\t\t\t5f \t\t\t\t\t\t6 \t\t\t\t\t\t6g \t\t\t\t\t\t7 \t\t\t\t\t\t7f \t\t\t\t\t\t8 \t\t\t\t\t\t8h \t\t\t\t\t\t9 \t\t\t\t\t\t9i \t\t\t\t\t\t10 \t\t\t\t\t\t10babu \t\t\t\t\t\t1 \t\t\t\t\t\t1 \n",
            "u \t\t\t\t\t\t3 \t\t\t\t\t\t4 \n",
            "y4 \t\t\t\t\t\t6 \t\t\t\t\t\t3 \n",
            "7 \t\t\t\t\t\t63 \t\t\t\t\t\t8 \n",
            "1 \t\t\t\t\t\t \t\t\t\t\t\t6 \n",
            "9 \t\t\t\t\t\t8 \t\t\t\t\t\t \n",
            "3 \t\t\t\t\t\t3 \t\t\t\t\t\t4 \n",
            "6 \t\t\t\t\t\t7 \t\t\t\t\t\t1 \n",
            "3 \t\t\t\t\t\t4 \t\t\t\t\t\t54 \n",
            "78 \t\t\t\t\t\t9 \t\t\t\t\t\t89 \n",
            "\n"
          ],
          "name": "stdout"
        }
      ]
    },
    {
      "cell_type": "code",
      "metadata": {
        "id": "Nd0IVi69TANk",
        "colab_type": "code",
        "outputId": "c64a331e-f9ea-4a25-a210-17559cf0c315",
        "colab": {
          "base_uri": "https://localhost:8080/",
          "height": 189
        }
      },
      "source": [
        "with open(\"abc.txt\",\"w\") as file:\n",
        "  print(file.read())"
      ],
      "execution_count": 0,
      "outputs": [
        {
          "output_type": "error",
          "ename": "UnsupportedOperation",
          "evalue": "ignored",
          "traceback": [
            "\u001b[0;31m---------------------------------------------------------------------------\u001b[0m",
            "\u001b[0;31mUnsupportedOperation\u001b[0m                      Traceback (most recent call last)",
            "\u001b[0;32m<ipython-input-43-1a2ceca8e627>\u001b[0m in \u001b[0;36m<module>\u001b[0;34m()\u001b[0m\n\u001b[1;32m      1\u001b[0m \u001b[0;32mwith\u001b[0m \u001b[0mopen\u001b[0m\u001b[0;34m(\u001b[0m\u001b[0;34m\"abc.txt\"\u001b[0m\u001b[0;34m,\u001b[0m\u001b[0;34m\"w\"\u001b[0m\u001b[0;34m)\u001b[0m \u001b[0;32mas\u001b[0m \u001b[0mfile\u001b[0m\u001b[0;34m:\u001b[0m\u001b[0;34m\u001b[0m\u001b[0;34m\u001b[0m\u001b[0m\n\u001b[0;32m----> 2\u001b[0;31m   \u001b[0mprint\u001b[0m\u001b[0;34m(\u001b[0m\u001b[0mfile\u001b[0m\u001b[0;34m.\u001b[0m\u001b[0mread\u001b[0m\u001b[0;34m(\u001b[0m\u001b[0;34m)\u001b[0m\u001b[0;34m)\u001b[0m\u001b[0;34m\u001b[0m\u001b[0;34m\u001b[0m\u001b[0m\n\u001b[0m",
            "\u001b[0;31mUnsupportedOperation\u001b[0m: not readable"
          ]
        }
      ]
    },
    {
      "cell_type": "code",
      "metadata": {
        "id": "vPNzOSSlBAbU",
        "colab_type": "code",
        "colab": {}
      },
      "source": [
        "with open(\"abc.txt\",\"w\") as file:\n",
        "  file.write(\"ajee sunte ho\")"
      ],
      "execution_count": 0,
      "outputs": []
    },
    {
      "cell_type": "code",
      "metadata": {
        "id": "yjFx7JiBS73W",
        "colab_type": "code",
        "outputId": "65abfb6f-7a43-42ec-faa7-71ce86a6d69d",
        "colab": {
          "base_uri": "https://localhost:8080/",
          "height": 35
        }
      },
      "source": [
        "with open(\"abc.txt\",\"r+\") as file:\n",
        "  print(file.read())"
      ],
      "execution_count": 0,
      "outputs": [
        {
          "output_type": "stream",
          "text": [
            "ajee sunte ho\n"
          ],
          "name": "stdout"
        }
      ]
    },
    {
      "cell_type": "code",
      "metadata": {
        "id": "ViRR_rAjTSZD",
        "colab_type": "code",
        "outputId": "6ef7275c-25b0-43c7-9f11-d382fb6c3bc6",
        "colab": {
          "base_uri": "https://localhost:8080/",
          "height": 35
        }
      },
      "source": [
        "with open(\"abc.txt\",\"r+\") as file:\n",
        "  print(file.read())"
      ],
      "execution_count": 0,
      "outputs": [
        {
          "output_type": "stream",
          "text": [
            "ajee sunte ho\n"
          ],
          "name": "stdout"
        }
      ]
    },
    {
      "cell_type": "code",
      "metadata": {
        "id": "QiT7NSceTaBq",
        "colab_type": "code",
        "outputId": "ffaaf08d-78f9-48e1-dae7-f7852e2a01c7",
        "colab": {
          "base_uri": "https://localhost:8080/",
          "height": 189
        }
      },
      "source": [
        "with open(\"xyz.txt\",\"r+\") as file:\n",
        "  print(file.read())"
      ],
      "execution_count": 0,
      "outputs": [
        {
          "output_type": "error",
          "ename": "FileNotFoundError",
          "evalue": "ignored",
          "traceback": [
            "\u001b[0;31m---------------------------------------------------------------------------\u001b[0m",
            "\u001b[0;31mFileNotFoundError\u001b[0m                         Traceback (most recent call last)",
            "\u001b[0;32m<ipython-input-48-264d4b804793>\u001b[0m in \u001b[0;36m<module>\u001b[0;34m()\u001b[0m\n\u001b[0;32m----> 1\u001b[0;31m \u001b[0;32mwith\u001b[0m \u001b[0mopen\u001b[0m\u001b[0;34m(\u001b[0m\u001b[0;34m\"xyz.txt\"\u001b[0m\u001b[0;34m,\u001b[0m\u001b[0;34m\"r+\"\u001b[0m\u001b[0;34m)\u001b[0m \u001b[0;32mas\u001b[0m \u001b[0mfile\u001b[0m\u001b[0;34m:\u001b[0m\u001b[0;34m\u001b[0m\u001b[0;34m\u001b[0m\u001b[0m\n\u001b[0m\u001b[1;32m      2\u001b[0m   \u001b[0mprint\u001b[0m\u001b[0;34m(\u001b[0m\u001b[0mfile\u001b[0m\u001b[0;34m.\u001b[0m\u001b[0mread\u001b[0m\u001b[0;34m(\u001b[0m\u001b[0;34m)\u001b[0m\u001b[0;34m)\u001b[0m\u001b[0;34m\u001b[0m\u001b[0;34m\u001b[0m\u001b[0m\n",
            "\u001b[0;31mFileNotFoundError\u001b[0m: [Errno 2] No such file or directory: 'xyz.txt'"
          ]
        }
      ]
    },
    {
      "cell_type": "code",
      "metadata": {
        "id": "lglWFnNdTm5x",
        "colab_type": "code",
        "outputId": "3990c747-16c5-4c64-b7ae-617f5d6aea04",
        "colab": {
          "base_uri": "https://localhost:8080/",
          "height": 35
        }
      },
      "source": [
        "with open(\"abc.txt\",\"r+\") as file:\n",
        "  print(file.read())\n",
        "  file.write(\"do surf excel\")"
      ],
      "execution_count": 0,
      "outputs": [
        {
          "output_type": "stream",
          "text": [
            "ajee sunte ho\n"
          ],
          "name": "stdout"
        }
      ]
    },
    {
      "cell_type": "code",
      "metadata": {
        "id": "9syEPmDZUFQJ",
        "colab_type": "code",
        "outputId": "3b3988f1-caf6-4959-b008-76403a84b3dd",
        "colab": {
          "base_uri": "https://localhost:8080/",
          "height": 35
        }
      },
      "source": [
        "with open('abc.txt', 'r+') as file:\n",
        "    print(file.read())\n",
        "    file.write('Hello Asad')"
      ],
      "execution_count": 0,
      "outputs": [
        {
          "output_type": "stream",
          "text": [
            "ajee sunte hodo surf excel\n"
          ],
          "name": "stdout"
        }
      ]
    },
    {
      "cell_type": "code",
      "metadata": {
        "id": "s2z4qe2yUhJL",
        "colab_type": "code",
        "outputId": "21b3761c-cafc-4a09-b1c6-6994b271ee70",
        "colab": {
          "base_uri": "https://localhost:8080/",
          "height": 35
        }
      },
      "source": [
        "with open('abc.txt', 'r+') as file:\n",
        "    file.write('Hello Asad')\n",
        "    file.seek(0)\n",
        "    print(file.read())\n",
        "    "
      ],
      "execution_count": 0,
      "outputs": [
        {
          "output_type": "stream",
          "text": [
            "Hello Asad hodo surf excelHello Asad\n"
          ],
          "name": "stdout"
        }
      ]
    },
    {
      "cell_type": "markdown",
      "metadata": {
        "id": "sFqw2tELaH3m",
        "colab_type": "text"
      },
      "source": [
        "CSV filees"
      ]
    },
    {
      "cell_type": "code",
      "metadata": {
        "id": "FX7zMZjfaG-i",
        "colab_type": "code",
        "colab": {}
      },
      "source": [
        "import csv"
      ],
      "execution_count": 0,
      "outputs": []
    },
    {
      "cell_type": "code",
      "metadata": {
        "id": "0EfIFGUyUyB_",
        "colab_type": "code",
        "outputId": "8159adec-b5ca-4a2a-e613-5e0043f06132",
        "colab": {
          "base_uri": "https://localhost:8080/",
          "height": 207
        }
      },
      "source": [
        "with open(\"new.csv\") as f:\n",
        "  x=csv.reader(f)\n",
        "  print(x)"
      ],
      "execution_count": 0,
      "outputs": [
        {
          "output_type": "error",
          "ename": "FileNotFoundError",
          "evalue": "ignored",
          "traceback": [
            "\u001b[0;31m---------------------------------------------------------------------------\u001b[0m",
            "\u001b[0;31mFileNotFoundError\u001b[0m                         Traceback (most recent call last)",
            "\u001b[0;32m<ipython-input-63-61bda9e25324>\u001b[0m in \u001b[0;36m<module>\u001b[0;34m()\u001b[0m\n\u001b[0;32m----> 1\u001b[0;31m \u001b[0;32mwith\u001b[0m \u001b[0mopen\u001b[0m\u001b[0;34m(\u001b[0m\u001b[0;34m\"new.csv\"\u001b[0m\u001b[0;34m)\u001b[0m \u001b[0;32mas\u001b[0m \u001b[0mf\u001b[0m\u001b[0;34m:\u001b[0m\u001b[0;34m\u001b[0m\u001b[0;34m\u001b[0m\u001b[0m\n\u001b[0m\u001b[1;32m      2\u001b[0m   \u001b[0mx\u001b[0m\u001b[0;34m=\u001b[0m\u001b[0mcsv\u001b[0m\u001b[0;34m.\u001b[0m\u001b[0mreader\u001b[0m\u001b[0;34m(\u001b[0m\u001b[0mf\u001b[0m\u001b[0;34m)\u001b[0m\u001b[0;34m\u001b[0m\u001b[0;34m\u001b[0m\u001b[0m\n\u001b[1;32m      3\u001b[0m   \u001b[0mprint\u001b[0m\u001b[0;34m(\u001b[0m\u001b[0mx\u001b[0m\u001b[0;34m)\u001b[0m\u001b[0;34m\u001b[0m\u001b[0;34m\u001b[0m\u001b[0m\n",
            "\u001b[0;31mFileNotFoundError\u001b[0m: [Errno 2] No such file or directory: 'new.csv'"
          ]
        }
      ]
    },
    {
      "cell_type": "code",
      "metadata": {
        "id": "Z7_HApFjbw2p",
        "colab_type": "code",
        "outputId": "e93914f5-8a8c-4a1f-c5ca-9a943a61a373",
        "colab": {
          "base_uri": "https://localhost:8080/",
          "height": 225
        }
      },
      "source": [
        "with open('new.csv') as f:\n",
        "    x = csv.reader(f)\n",
        "    for i in x:\n",
        "        print(i)"
      ],
      "execution_count": 0,
      "outputs": [
        {
          "output_type": "error",
          "ename": "FileNotFoundError",
          "evalue": "ignored",
          "traceback": [
            "\u001b[0;31m---------------------------------------------------------------------------\u001b[0m",
            "\u001b[0;31mFileNotFoundError\u001b[0m                         Traceback (most recent call last)",
            "\u001b[0;32m<ipython-input-65-5450e633f111>\u001b[0m in \u001b[0;36m<module>\u001b[0;34m()\u001b[0m\n\u001b[0;32m----> 1\u001b[0;31m \u001b[0;32mwith\u001b[0m \u001b[0mopen\u001b[0m\u001b[0;34m(\u001b[0m\u001b[0;34m'new.csv'\u001b[0m\u001b[0;34m)\u001b[0m \u001b[0;32mas\u001b[0m \u001b[0mf\u001b[0m\u001b[0;34m:\u001b[0m\u001b[0;34m\u001b[0m\u001b[0;34m\u001b[0m\u001b[0m\n\u001b[0m\u001b[1;32m      2\u001b[0m     \u001b[0mx\u001b[0m \u001b[0;34m=\u001b[0m \u001b[0mcsv\u001b[0m\u001b[0;34m.\u001b[0m\u001b[0mreader\u001b[0m\u001b[0;34m(\u001b[0m\u001b[0mf\u001b[0m\u001b[0;34m)\u001b[0m\u001b[0;34m\u001b[0m\u001b[0;34m\u001b[0m\u001b[0m\n\u001b[1;32m      3\u001b[0m     \u001b[0;32mfor\u001b[0m \u001b[0mi\u001b[0m \u001b[0;32min\u001b[0m \u001b[0mx\u001b[0m\u001b[0;34m:\u001b[0m\u001b[0;34m\u001b[0m\u001b[0;34m\u001b[0m\u001b[0m\n\u001b[1;32m      4\u001b[0m         \u001b[0mprint\u001b[0m\u001b[0;34m(\u001b[0m\u001b[0mi\u001b[0m\u001b[0;34m)\u001b[0m\u001b[0;34m\u001b[0m\u001b[0;34m\u001b[0m\u001b[0m\n",
            "\u001b[0;31mFileNotFoundError\u001b[0m: [Errno 2] No such file or directory: 'new.csv'"
          ]
        }
      ]
    },
    {
      "cell_type": "code",
      "metadata": {
        "id": "z93R5wa6cDPi",
        "colab_type": "code",
        "outputId": "1faa504f-d611-43e3-f18b-9938487cd337",
        "colab": {
          "base_uri": "https://localhost:8080/",
          "height": 207
        }
      },
      "source": [
        "with open(\"a.csv\",\"w\",newline=\"\") as f:\n",
        "  write=csv.writer(f,delimiter=\",\")\n",
        "  write=n"
      ],
      "execution_count": 0,
      "outputs": [
        {
          "output_type": "error",
          "ename": "NameError",
          "evalue": "ignored",
          "traceback": [
            "\u001b[0;31m---------------------------------------------------------------------------\u001b[0m",
            "\u001b[0;31mNameError\u001b[0m                                 Traceback (most recent call last)",
            "\u001b[0;32m<ipython-input-66-5882130ef141>\u001b[0m in \u001b[0;36m<module>\u001b[0;34m()\u001b[0m\n\u001b[1;32m      1\u001b[0m \u001b[0;32mwith\u001b[0m \u001b[0mopen\u001b[0m\u001b[0;34m(\u001b[0m\u001b[0;34m\"a.csv\"\u001b[0m\u001b[0;34m,\u001b[0m\u001b[0;34m\"w\"\u001b[0m\u001b[0;34m,\u001b[0m\u001b[0mnewline\u001b[0m\u001b[0;34m=\u001b[0m\u001b[0;34m\"\"\u001b[0m\u001b[0;34m)\u001b[0m \u001b[0;32mas\u001b[0m \u001b[0mf\u001b[0m\u001b[0;34m:\u001b[0m\u001b[0;34m\u001b[0m\u001b[0;34m\u001b[0m\u001b[0m\n\u001b[1;32m      2\u001b[0m   \u001b[0mwrite\u001b[0m\u001b[0;34m=\u001b[0m\u001b[0mcsv\u001b[0m\u001b[0;34m.\u001b[0m\u001b[0mwriter\u001b[0m\u001b[0;34m(\u001b[0m\u001b[0mf\u001b[0m\u001b[0;34m,\u001b[0m\u001b[0mdelimiter\u001b[0m\u001b[0;34m=\u001b[0m\u001b[0;34m\",\"\u001b[0m\u001b[0;34m)\u001b[0m\u001b[0;34m\u001b[0m\u001b[0;34m\u001b[0m\u001b[0m\n\u001b[0;32m----> 3\u001b[0;31m   \u001b[0mwrite\u001b[0m\u001b[0;34m=\u001b[0m\u001b[0mn\u001b[0m\u001b[0;34m\u001b[0m\u001b[0;34m\u001b[0m\u001b[0m\n\u001b[0m",
            "\u001b[0;31mNameError\u001b[0m: name 'n' is not defined"
          ]
        }
      ]
    },
    {
      "cell_type": "code",
      "metadata": {
        "id": "5gKTspyuiYUu",
        "colab_type": "code",
        "colab": {}
      },
      "source": [
        "a=[]\n"
      ],
      "execution_count": 0,
      "outputs": []
    },
    {
      "cell_type": "code",
      "metadata": {
        "id": "LgjiJkIoihhn",
        "colab_type": "code",
        "colab": {}
      },
      "source": [
        "a.append([2,4,5,6,7,8])\n",
        "\n"
      ],
      "execution_count": 0,
      "outputs": []
    },
    {
      "cell_type": "code",
      "metadata": {
        "id": "fNHVfxJVija-",
        "colab_type": "code",
        "outputId": "c4305512-0eff-4fab-e17f-6c7c8e7bcf72",
        "colab": {
          "base_uri": "https://localhost:8080/",
          "height": 35
        }
      },
      "source": [
        "a\n"
      ],
      "execution_count": 0,
      "outputs": [
        {
          "output_type": "execute_result",
          "data": {
            "text/plain": [
              "[[2, 4, 5, 6, 7, 8]]"
            ]
          },
          "metadata": {
            "tags": []
          },
          "execution_count": 69
        }
      ]
    },
    {
      "cell_type": "code",
      "metadata": {
        "id": "iNeB6OMOik2O",
        "colab_type": "code",
        "outputId": "25d30626-b4e0-4279-f71c-7240d12663b2",
        "colab": {
          "base_uri": "https://localhost:8080/",
          "height": 35
        }
      },
      "source": [
        "a.extend([1,2,3,4,5,6,7,8,8])\n",
        "a"
      ],
      "execution_count": 0,
      "outputs": [
        {
          "output_type": "execute_result",
          "data": {
            "text/plain": [
              "[[2, 4, 5, 6, 7, 8], 1, 2, 3, 4, 5, 6, 7, 8, 8]"
            ]
          },
          "metadata": {
            "tags": []
          },
          "execution_count": 70
        }
      ]
    },
    {
      "cell_type": "code",
      "metadata": {
        "id": "09vlC3JXimyu",
        "colab_type": "code",
        "colab": {}
      },
      "source": [
        "import jsom"
      ],
      "execution_count": 0,
      "outputs": []
    }
  ]
}